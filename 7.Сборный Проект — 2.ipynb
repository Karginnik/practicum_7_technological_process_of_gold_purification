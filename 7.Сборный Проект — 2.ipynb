{
 "cells": [
  {
   "cell_type": "markdown",
   "metadata": {
    "toc": true
   },
   "source": [
    "<h1>Содержание<span class=\"tocSkip\"></span></h1>\n",
    "<div class=\"toc\"><ul class=\"toc-item\"><li><span><a href=\"#Описание-данных\" data-toc-modified-id=\"Описание-данных-1\"><span class=\"toc-item-num\">1&nbsp;&nbsp;</span>Описание данных</a></span></li><li><span><a href=\"#Подготовка-данных\" data-toc-modified-id=\"Подготовка-данных-2\"><span class=\"toc-item-num\">2&nbsp;&nbsp;</span>Подготовка данных</a></span></li><li><span><a href=\"#Анализ-данных\" data-toc-modified-id=\"Анализ-данных-3\"><span class=\"toc-item-num\">3&nbsp;&nbsp;</span>Анализ данных</a></span></li><li><span><a href=\"#Модель\" data-toc-modified-id=\"Модель-4\"><span class=\"toc-item-num\">4&nbsp;&nbsp;</span>Модель</a></span></li><li><span><a href=\"#Вывод\" data-toc-modified-id=\"Вывод-5\"><span class=\"toc-item-num\">5&nbsp;&nbsp;</span>Вывод</a></span></li></ul></div>"
   ]
  },
  {
   "cell_type": "markdown",
   "metadata": {},
   "source": [
    "# Восстановление золота из руды"
   ]
  },
  {
   "cell_type": "markdown",
   "metadata": {},
   "source": [
    "Подготовьте прототип модели машинного обучения для «Цифры». Компания разрабатывает решения для эффективной работы промышленных предприятий.\n",
    "\n",
    "Модель должна предсказать коэффициент восстановления золота из золотосодержащей руды. Используйте данные с параметрами добычи и очистки. \n",
    "\n",
    "Модель поможет оптимизировать производство, чтобы не запускать предприятие с убыточными характеристиками.\n",
    "\n",
    "Вам нужно:\n",
    "\n",
    "1. Подготовить данные;\n",
    "2. Провести исследовательский анализ данных;\n",
    "3. Построить и обучить модель.\n",
    "\n",
    "Чтобы выполнить проект, обращайтесь к библиотекам *pandas*, *matplotlib* и *sklearn.* Вам поможет их документация."
   ]
  },
  {
   "cell_type": "markdown",
   "metadata": {},
   "source": [
    "## Описание данных"
   ]
  },
  {
   "cell_type": "markdown",
   "metadata": {},
   "source": [
    "**Технологический процесс**\n",
    " - Rougher feed — исходное сырье\n",
    " - Rougher additions (или reagent additions) — флотационные реагенты: Xanthate, Sulphate, Depressant\n",
    " - Xanthate — ксантогенат (промотер, или активатор флотации);\n",
    " - Sulphate — сульфат (на данном производстве сульфид натрия);\n",
    " - Depressant — депрессант (силикат натрия).\n",
    " - Rougher process (англ. «грубый процесс») — флотация\n",
    " - Rougher tails — отвальные хвосты\n",
    " - Float banks — флотационная установка\n",
    " - Cleaner process — очистка\n",
    " - Rougher Au — черновой концентрат золота\n",
    " - Final Au — финальный концентрат золота\n",
    " \n",
    "**Параметры этапов**\n",
    "\n",
    " - air amount — объём воздуха\n",
    " - fluid levels — уровень жидкости\n",
    " - feed size — размер гранул сырья\n",
    " - feed rate — скорость подачи"
   ]
  },
  {
   "cell_type": "markdown",
   "metadata": {},
   "source": [
    "## Подготовка данных"
   ]
  },
  {
   "cell_type": "markdown",
   "metadata": {},
   "source": [
    "Импортируем необходимые библиотеки"
   ]
  },
  {
   "cell_type": "code",
   "execution_count": 1,
   "metadata": {},
   "outputs": [],
   "source": [
    "import matplotlib.pyplot as plt\n",
    "import pandas as pd\n",
    "import seaborn as sns\n",
    "from sklearn.linear_model import LinearRegression\n",
    "from sklearn.tree import DecisionTreeRegressor\n",
    "from sklearn.ensemble import RandomForestRegressor\n",
    "from sklearn.model_selection import cross_val_score\n",
    "from sklearn.metrics import make_scorer\n",
    "from sklearn.dummy import DummyRegressor"
   ]
  },
  {
   "cell_type": "markdown",
   "metadata": {},
   "source": [
    "**Данные находятся в трёх файлах:**\n",
    "\n",
    "- gold_recovery_train_new.csv — обучающая выборка;\n",
    "- gold_recovery_test_new.csv — тестовая выборка;\n",
    "- gold_recovery_full_new.csv — исходные данные.\n",
    "\n",
    "Загрузим даные датафреймы и добавим полное отображение столбцов и строчек"
   ]
  },
  {
   "cell_type": "code",
   "execution_count": 2,
   "metadata": {},
   "outputs": [],
   "source": [
    "try:   \n",
    "    gold_recovery_train_new = pd.read_csv('/datasets/gold_recovery_train_new.csv')\n",
    "    gold_recovery_test_new = pd.read_csv('/datasets/gold_recovery_test_new.csv')\n",
    "    gold_recovery_full_new = pd.read_csv('/datasets/gold_recovery_full_new.csv')\n",
    "except:\n",
    "    gold_recovery_train_new = pd.read_csv('https://code.s3.yandex.net/datasets/gold_recovery_train_new.csv')\n",
    "    gold_recovery_test_new = pd.read_csv('https://code.s3.yandex.net/datasets/gold_recovery_test_new.csv')\n",
    "    gold_recovery_full_new = pd.read_csv('https://code.s3.yandex.net/datasets/gold_recovery_full_new.csv')\n",
    "\n",
    "pd.set_option('display.max_rows', None)\n",
    "pd.set_option('display.max_columns', None)"
   ]
  },
  {
   "cell_type": "markdown",
   "metadata": {},
   "source": [
    "Выведем первые 5 строк обучающей выборки и посмотрим общую информацию "
   ]
  },
  {
   "cell_type": "code",
   "execution_count": 3,
   "metadata": {},
   "outputs": [
    {
     "data": {
      "text/html": [
       "<div>\n",
       "<style scoped>\n",
       "    .dataframe tbody tr th:only-of-type {\n",
       "        vertical-align: middle;\n",
       "    }\n",
       "\n",
       "    .dataframe tbody tr th {\n",
       "        vertical-align: top;\n",
       "    }\n",
       "\n",
       "    .dataframe thead th {\n",
       "        text-align: right;\n",
       "    }\n",
       "</style>\n",
       "<table border=\"1\" class=\"dataframe\">\n",
       "  <thead>\n",
       "    <tr style=\"text-align: right;\">\n",
       "      <th></th>\n",
       "      <th>date</th>\n",
       "      <th>final.output.concentrate_ag</th>\n",
       "      <th>final.output.concentrate_pb</th>\n",
       "      <th>final.output.concentrate_sol</th>\n",
       "      <th>final.output.concentrate_au</th>\n",
       "      <th>final.output.recovery</th>\n",
       "      <th>final.output.tail_ag</th>\n",
       "      <th>final.output.tail_pb</th>\n",
       "      <th>final.output.tail_sol</th>\n",
       "      <th>final.output.tail_au</th>\n",
       "      <th>primary_cleaner.input.sulfate</th>\n",
       "      <th>primary_cleaner.input.depressant</th>\n",
       "      <th>primary_cleaner.input.feed_size</th>\n",
       "      <th>primary_cleaner.input.xanthate</th>\n",
       "      <th>primary_cleaner.output.concentrate_ag</th>\n",
       "      <th>primary_cleaner.output.concentrate_pb</th>\n",
       "      <th>primary_cleaner.output.concentrate_sol</th>\n",
       "      <th>primary_cleaner.output.concentrate_au</th>\n",
       "      <th>primary_cleaner.output.tail_ag</th>\n",
       "      <th>primary_cleaner.output.tail_pb</th>\n",
       "      <th>primary_cleaner.output.tail_sol</th>\n",
       "      <th>primary_cleaner.output.tail_au</th>\n",
       "      <th>primary_cleaner.state.floatbank8_a_air</th>\n",
       "      <th>primary_cleaner.state.floatbank8_a_level</th>\n",
       "      <th>primary_cleaner.state.floatbank8_b_air</th>\n",
       "      <th>primary_cleaner.state.floatbank8_b_level</th>\n",
       "      <th>primary_cleaner.state.floatbank8_c_air</th>\n",
       "      <th>primary_cleaner.state.floatbank8_c_level</th>\n",
       "      <th>primary_cleaner.state.floatbank8_d_air</th>\n",
       "      <th>primary_cleaner.state.floatbank8_d_level</th>\n",
       "      <th>rougher.calculation.sulfate_to_au_concentrate</th>\n",
       "      <th>rougher.calculation.floatbank10_sulfate_to_au_feed</th>\n",
       "      <th>rougher.calculation.floatbank11_sulfate_to_au_feed</th>\n",
       "      <th>rougher.calculation.au_pb_ratio</th>\n",
       "      <th>rougher.input.feed_ag</th>\n",
       "      <th>rougher.input.feed_pb</th>\n",
       "      <th>rougher.input.feed_rate</th>\n",
       "      <th>rougher.input.feed_size</th>\n",
       "      <th>rougher.input.feed_sol</th>\n",
       "      <th>rougher.input.feed_au</th>\n",
       "      <th>rougher.input.floatbank10_sulfate</th>\n",
       "      <th>rougher.input.floatbank10_xanthate</th>\n",
       "      <th>rougher.input.floatbank11_sulfate</th>\n",
       "      <th>rougher.input.floatbank11_xanthate</th>\n",
       "      <th>rougher.output.concentrate_ag</th>\n",
       "      <th>rougher.output.concentrate_pb</th>\n",
       "      <th>rougher.output.concentrate_sol</th>\n",
       "      <th>rougher.output.concentrate_au</th>\n",
       "      <th>rougher.output.recovery</th>\n",
       "      <th>rougher.output.tail_ag</th>\n",
       "      <th>rougher.output.tail_pb</th>\n",
       "      <th>rougher.output.tail_sol</th>\n",
       "      <th>rougher.output.tail_au</th>\n",
       "      <th>rougher.state.floatbank10_a_air</th>\n",
       "      <th>rougher.state.floatbank10_a_level</th>\n",
       "      <th>rougher.state.floatbank10_b_air</th>\n",
       "      <th>rougher.state.floatbank10_b_level</th>\n",
       "      <th>rougher.state.floatbank10_c_air</th>\n",
       "      <th>rougher.state.floatbank10_c_level</th>\n",
       "      <th>rougher.state.floatbank10_d_air</th>\n",
       "      <th>rougher.state.floatbank10_d_level</th>\n",
       "      <th>rougher.state.floatbank10_e_air</th>\n",
       "      <th>rougher.state.floatbank10_e_level</th>\n",
       "      <th>rougher.state.floatbank10_f_air</th>\n",
       "      <th>rougher.state.floatbank10_f_level</th>\n",
       "      <th>secondary_cleaner.output.tail_ag</th>\n",
       "      <th>secondary_cleaner.output.tail_pb</th>\n",
       "      <th>secondary_cleaner.output.tail_sol</th>\n",
       "      <th>secondary_cleaner.output.tail_au</th>\n",
       "      <th>secondary_cleaner.state.floatbank2_a_air</th>\n",
       "      <th>secondary_cleaner.state.floatbank2_a_level</th>\n",
       "      <th>secondary_cleaner.state.floatbank2_b_air</th>\n",
       "      <th>secondary_cleaner.state.floatbank2_b_level</th>\n",
       "      <th>secondary_cleaner.state.floatbank3_a_air</th>\n",
       "      <th>secondary_cleaner.state.floatbank3_a_level</th>\n",
       "      <th>secondary_cleaner.state.floatbank3_b_air</th>\n",
       "      <th>secondary_cleaner.state.floatbank3_b_level</th>\n",
       "      <th>secondary_cleaner.state.floatbank4_a_air</th>\n",
       "      <th>secondary_cleaner.state.floatbank4_a_level</th>\n",
       "      <th>secondary_cleaner.state.floatbank4_b_air</th>\n",
       "      <th>secondary_cleaner.state.floatbank4_b_level</th>\n",
       "      <th>secondary_cleaner.state.floatbank5_a_air</th>\n",
       "      <th>secondary_cleaner.state.floatbank5_a_level</th>\n",
       "      <th>secondary_cleaner.state.floatbank5_b_air</th>\n",
       "      <th>secondary_cleaner.state.floatbank5_b_level</th>\n",
       "      <th>secondary_cleaner.state.floatbank6_a_air</th>\n",
       "      <th>secondary_cleaner.state.floatbank6_a_level</th>\n",
       "    </tr>\n",
       "  </thead>\n",
       "  <tbody>\n",
       "    <tr>\n",
       "      <th>0</th>\n",
       "      <td>2016-01-15 00:00:00</td>\n",
       "      <td>6.055403</td>\n",
       "      <td>9.889648</td>\n",
       "      <td>5.507324</td>\n",
       "      <td>42.192020</td>\n",
       "      <td>70.541216</td>\n",
       "      <td>10.411962</td>\n",
       "      <td>0.895447</td>\n",
       "      <td>16.904297</td>\n",
       "      <td>2.143149</td>\n",
       "      <td>127.092003</td>\n",
       "      <td>10.128295</td>\n",
       "      <td>7.25</td>\n",
       "      <td>0.988759</td>\n",
       "      <td>8.547551</td>\n",
       "      <td>10.389648</td>\n",
       "      <td>19.529297</td>\n",
       "      <td>34.174427</td>\n",
       "      <td>14.936526</td>\n",
       "      <td>2.534912</td>\n",
       "      <td>7.476074</td>\n",
       "      <td>2.106679</td>\n",
       "      <td>1549.775757</td>\n",
       "      <td>-498.912140</td>\n",
       "      <td>1551.434204</td>\n",
       "      <td>-516.403442</td>\n",
       "      <td>1549.873901</td>\n",
       "      <td>-498.666595</td>\n",
       "      <td>1554.367432</td>\n",
       "      <td>-493.428131</td>\n",
       "      <td>41885.707031</td>\n",
       "      <td>3481.779053</td>\n",
       "      <td>3520.337158</td>\n",
       "      <td>2.838687</td>\n",
       "      <td>6.100378</td>\n",
       "      <td>2.284912</td>\n",
       "      <td>523.546326</td>\n",
       "      <td>55.486599</td>\n",
       "      <td>36.808594</td>\n",
       "      <td>6.486150</td>\n",
       "      <td>11.986616</td>\n",
       "      <td>6.007990</td>\n",
       "      <td>11.836743</td>\n",
       "      <td>6.005818</td>\n",
       "      <td>11.500771</td>\n",
       "      <td>7.101074</td>\n",
       "      <td>28.029297</td>\n",
       "      <td>19.793808</td>\n",
       "      <td>87.107763</td>\n",
       "      <td>5.008018</td>\n",
       "      <td>0.508728</td>\n",
       "      <td>19.154297</td>\n",
       "      <td>1.170244</td>\n",
       "      <td>999.706909</td>\n",
       "      <td>-404.066986</td>\n",
       "      <td>1603.011353</td>\n",
       "      <td>-434.715027</td>\n",
       "      <td>1602.375000</td>\n",
       "      <td>-442.204468</td>\n",
       "      <td>1598.937256</td>\n",
       "      <td>-451.294128</td>\n",
       "      <td>1404.472046</td>\n",
       "      <td>-455.462982</td>\n",
       "      <td>1416.354980</td>\n",
       "      <td>-451.939636</td>\n",
       "      <td>14.500184</td>\n",
       "      <td>4.694824</td>\n",
       "      <td>8.764648</td>\n",
       "      <td>2.606185</td>\n",
       "      <td>25.853109</td>\n",
       "      <td>-498.526489</td>\n",
       "      <td>23.893660</td>\n",
       "      <td>-501.406281</td>\n",
       "      <td>23.961798</td>\n",
       "      <td>-495.262817</td>\n",
       "      <td>21.940409</td>\n",
       "      <td>-499.340973</td>\n",
       "      <td>14.016835</td>\n",
       "      <td>-502.488007</td>\n",
       "      <td>12.099931</td>\n",
       "      <td>-504.715942</td>\n",
       "      <td>9.925633</td>\n",
       "      <td>-498.310211</td>\n",
       "      <td>8.079666</td>\n",
       "      <td>-500.470978</td>\n",
       "      <td>14.151341</td>\n",
       "      <td>-605.841980</td>\n",
       "    </tr>\n",
       "    <tr>\n",
       "      <th>1</th>\n",
       "      <td>2016-01-15 01:00:00</td>\n",
       "      <td>6.029369</td>\n",
       "      <td>9.968944</td>\n",
       "      <td>5.257781</td>\n",
       "      <td>42.701629</td>\n",
       "      <td>69.266198</td>\n",
       "      <td>10.462676</td>\n",
       "      <td>0.927452</td>\n",
       "      <td>16.634514</td>\n",
       "      <td>2.224930</td>\n",
       "      <td>125.629232</td>\n",
       "      <td>10.296251</td>\n",
       "      <td>7.25</td>\n",
       "      <td>1.002663</td>\n",
       "      <td>8.558743</td>\n",
       "      <td>10.497069</td>\n",
       "      <td>19.369147</td>\n",
       "      <td>34.118526</td>\n",
       "      <td>16.250511</td>\n",
       "      <td>3.049646</td>\n",
       "      <td>6.733907</td>\n",
       "      <td>2.353017</td>\n",
       "      <td>1576.166671</td>\n",
       "      <td>-500.904965</td>\n",
       "      <td>1575.950626</td>\n",
       "      <td>-499.865889</td>\n",
       "      <td>1575.994189</td>\n",
       "      <td>-499.315107</td>\n",
       "      <td>1574.479259</td>\n",
       "      <td>-498.931665</td>\n",
       "      <td>42050.861809</td>\n",
       "      <td>3498.370979</td>\n",
       "      <td>3489.981857</td>\n",
       "      <td>2.858998</td>\n",
       "      <td>6.161113</td>\n",
       "      <td>2.266033</td>\n",
       "      <td>525.290581</td>\n",
       "      <td>57.278666</td>\n",
       "      <td>35.753385</td>\n",
       "      <td>6.478583</td>\n",
       "      <td>11.971193</td>\n",
       "      <td>6.005766</td>\n",
       "      <td>11.996163</td>\n",
       "      <td>6.012594</td>\n",
       "      <td>11.615865</td>\n",
       "      <td>7.278807</td>\n",
       "      <td>28.067063</td>\n",
       "      <td>20.050975</td>\n",
       "      <td>86.843261</td>\n",
       "      <td>4.955378</td>\n",
       "      <td>0.536689</td>\n",
       "      <td>18.965234</td>\n",
       "      <td>1.184827</td>\n",
       "      <td>1000.286398</td>\n",
       "      <td>-400.065196</td>\n",
       "      <td>1600.754587</td>\n",
       "      <td>-449.953435</td>\n",
       "      <td>1600.479580</td>\n",
       "      <td>-449.830646</td>\n",
       "      <td>1600.527589</td>\n",
       "      <td>-449.953649</td>\n",
       "      <td>1399.227084</td>\n",
       "      <td>-450.869848</td>\n",
       "      <td>1399.719514</td>\n",
       "      <td>-450.119001</td>\n",
       "      <td>14.265474</td>\n",
       "      <td>4.592547</td>\n",
       "      <td>9.001494</td>\n",
       "      <td>2.488248</td>\n",
       "      <td>25.880539</td>\n",
       "      <td>-499.989656</td>\n",
       "      <td>23.889530</td>\n",
       "      <td>-500.372428</td>\n",
       "      <td>23.970550</td>\n",
       "      <td>-500.085473</td>\n",
       "      <td>22.085714</td>\n",
       "      <td>-499.446897</td>\n",
       "      <td>13.992281</td>\n",
       "      <td>-505.503262</td>\n",
       "      <td>11.950531</td>\n",
       "      <td>-501.331529</td>\n",
       "      <td>10.039245</td>\n",
       "      <td>-500.169983</td>\n",
       "      <td>7.984757</td>\n",
       "      <td>-500.582168</td>\n",
       "      <td>13.998353</td>\n",
       "      <td>-599.787184</td>\n",
       "    </tr>\n",
       "    <tr>\n",
       "      <th>2</th>\n",
       "      <td>2016-01-15 02:00:00</td>\n",
       "      <td>6.055926</td>\n",
       "      <td>10.213995</td>\n",
       "      <td>5.383759</td>\n",
       "      <td>42.657501</td>\n",
       "      <td>68.116445</td>\n",
       "      <td>10.507046</td>\n",
       "      <td>0.953716</td>\n",
       "      <td>16.208849</td>\n",
       "      <td>2.257889</td>\n",
       "      <td>123.819808</td>\n",
       "      <td>11.316280</td>\n",
       "      <td>7.25</td>\n",
       "      <td>0.991265</td>\n",
       "      <td>8.603505</td>\n",
       "      <td>10.354494</td>\n",
       "      <td>19.167579</td>\n",
       "      <td>33.969464</td>\n",
       "      <td>16.491823</td>\n",
       "      <td>3.124664</td>\n",
       "      <td>6.471768</td>\n",
       "      <td>2.416800</td>\n",
       "      <td>1601.556163</td>\n",
       "      <td>-499.997791</td>\n",
       "      <td>1600.386685</td>\n",
       "      <td>-500.607762</td>\n",
       "      <td>1602.003542</td>\n",
       "      <td>-500.870069</td>\n",
       "      <td>1599.541515</td>\n",
       "      <td>-499.827444</td>\n",
       "      <td>42018.101184</td>\n",
       "      <td>3495.348910</td>\n",
       "      <td>3502.359819</td>\n",
       "      <td>2.945989</td>\n",
       "      <td>6.116455</td>\n",
       "      <td>2.159622</td>\n",
       "      <td>530.026610</td>\n",
       "      <td>57.510649</td>\n",
       "      <td>35.971630</td>\n",
       "      <td>6.362222</td>\n",
       "      <td>11.920603</td>\n",
       "      <td>6.197377</td>\n",
       "      <td>11.920305</td>\n",
       "      <td>6.204633</td>\n",
       "      <td>11.695753</td>\n",
       "      <td>7.216833</td>\n",
       "      <td>27.454037</td>\n",
       "      <td>19.737170</td>\n",
       "      <td>86.842308</td>\n",
       "      <td>4.843460</td>\n",
       "      <td>0.546416</td>\n",
       "      <td>18.808533</td>\n",
       "      <td>1.162562</td>\n",
       "      <td>999.719565</td>\n",
       "      <td>-400.074028</td>\n",
       "      <td>1599.337330</td>\n",
       "      <td>-450.008530</td>\n",
       "      <td>1599.672797</td>\n",
       "      <td>-449.954491</td>\n",
       "      <td>1599.849325</td>\n",
       "      <td>-449.954185</td>\n",
       "      <td>1399.180945</td>\n",
       "      <td>-449.937588</td>\n",
       "      <td>1400.316682</td>\n",
       "      <td>-450.527147</td>\n",
       "      <td>14.115662</td>\n",
       "      <td>4.624775</td>\n",
       "      <td>8.842896</td>\n",
       "      <td>2.458187</td>\n",
       "      <td>26.005245</td>\n",
       "      <td>-499.929616</td>\n",
       "      <td>23.886657</td>\n",
       "      <td>-499.951928</td>\n",
       "      <td>23.913535</td>\n",
       "      <td>-499.442343</td>\n",
       "      <td>23.957717</td>\n",
       "      <td>-499.901982</td>\n",
       "      <td>14.015015</td>\n",
       "      <td>-502.520901</td>\n",
       "      <td>11.912783</td>\n",
       "      <td>-501.133383</td>\n",
       "      <td>10.070913</td>\n",
       "      <td>-500.129135</td>\n",
       "      <td>8.013877</td>\n",
       "      <td>-500.517572</td>\n",
       "      <td>14.028663</td>\n",
       "      <td>-601.427363</td>\n",
       "    </tr>\n",
       "    <tr>\n",
       "      <th>3</th>\n",
       "      <td>2016-01-15 03:00:00</td>\n",
       "      <td>6.047977</td>\n",
       "      <td>9.977019</td>\n",
       "      <td>4.858634</td>\n",
       "      <td>42.689819</td>\n",
       "      <td>68.347543</td>\n",
       "      <td>10.422762</td>\n",
       "      <td>0.883763</td>\n",
       "      <td>16.532835</td>\n",
       "      <td>2.146849</td>\n",
       "      <td>122.270188</td>\n",
       "      <td>11.322140</td>\n",
       "      <td>7.25</td>\n",
       "      <td>0.996739</td>\n",
       "      <td>7.221879</td>\n",
       "      <td>8.496563</td>\n",
       "      <td>15.978538</td>\n",
       "      <td>28.260743</td>\n",
       "      <td>16.024359</td>\n",
       "      <td>2.960362</td>\n",
       "      <td>6.843791</td>\n",
       "      <td>2.262051</td>\n",
       "      <td>1599.968720</td>\n",
       "      <td>-500.951778</td>\n",
       "      <td>1600.659236</td>\n",
       "      <td>-499.677094</td>\n",
       "      <td>1600.304144</td>\n",
       "      <td>-500.727997</td>\n",
       "      <td>1600.449520</td>\n",
       "      <td>-500.052575</td>\n",
       "      <td>42029.447991</td>\n",
       "      <td>3498.578313</td>\n",
       "      <td>3499.162912</td>\n",
       "      <td>3.002340</td>\n",
       "      <td>6.043309</td>\n",
       "      <td>2.037807</td>\n",
       "      <td>542.590390</td>\n",
       "      <td>57.792734</td>\n",
       "      <td>36.862241</td>\n",
       "      <td>6.118189</td>\n",
       "      <td>11.630094</td>\n",
       "      <td>6.203177</td>\n",
       "      <td>11.692450</td>\n",
       "      <td>6.196578</td>\n",
       "      <td>11.915047</td>\n",
       "      <td>7.175616</td>\n",
       "      <td>27.341277</td>\n",
       "      <td>19.320810</td>\n",
       "      <td>87.226430</td>\n",
       "      <td>4.655288</td>\n",
       "      <td>0.542525</td>\n",
       "      <td>19.330200</td>\n",
       "      <td>1.079755</td>\n",
       "      <td>999.814770</td>\n",
       "      <td>-400.200179</td>\n",
       "      <td>1600.059442</td>\n",
       "      <td>-450.619948</td>\n",
       "      <td>1600.012842</td>\n",
       "      <td>-449.910497</td>\n",
       "      <td>1597.725177</td>\n",
       "      <td>-450.130127</td>\n",
       "      <td>1400.943157</td>\n",
       "      <td>-450.030142</td>\n",
       "      <td>1400.234743</td>\n",
       "      <td>-449.790835</td>\n",
       "      <td>13.732071</td>\n",
       "      <td>4.482453</td>\n",
       "      <td>9.122857</td>\n",
       "      <td>2.322062</td>\n",
       "      <td>25.942508</td>\n",
       "      <td>-499.176749</td>\n",
       "      <td>23.955516</td>\n",
       "      <td>-499.848796</td>\n",
       "      <td>23.966838</td>\n",
       "      <td>-500.008812</td>\n",
       "      <td>23.954443</td>\n",
       "      <td>-499.944710</td>\n",
       "      <td>14.036510</td>\n",
       "      <td>-500.857308</td>\n",
       "      <td>11.999550</td>\n",
       "      <td>-501.193686</td>\n",
       "      <td>9.970366</td>\n",
       "      <td>-499.201640</td>\n",
       "      <td>7.977324</td>\n",
       "      <td>-500.255908</td>\n",
       "      <td>14.005551</td>\n",
       "      <td>-599.996129</td>\n",
       "    </tr>\n",
       "    <tr>\n",
       "      <th>4</th>\n",
       "      <td>2016-01-15 04:00:00</td>\n",
       "      <td>6.148599</td>\n",
       "      <td>10.142511</td>\n",
       "      <td>4.939416</td>\n",
       "      <td>42.774141</td>\n",
       "      <td>66.927016</td>\n",
       "      <td>10.360302</td>\n",
       "      <td>0.792826</td>\n",
       "      <td>16.525686</td>\n",
       "      <td>2.055292</td>\n",
       "      <td>117.988169</td>\n",
       "      <td>11.913613</td>\n",
       "      <td>7.25</td>\n",
       "      <td>1.009869</td>\n",
       "      <td>9.089428</td>\n",
       "      <td>9.986786</td>\n",
       "      <td>19.199864</td>\n",
       "      <td>33.044932</td>\n",
       "      <td>16.480185</td>\n",
       "      <td>3.112100</td>\n",
       "      <td>6.550154</td>\n",
       "      <td>2.277073</td>\n",
       "      <td>1601.339707</td>\n",
       "      <td>-498.975456</td>\n",
       "      <td>1601.437854</td>\n",
       "      <td>-500.323246</td>\n",
       "      <td>1599.581894</td>\n",
       "      <td>-500.888152</td>\n",
       "      <td>1602.649541</td>\n",
       "      <td>-500.593010</td>\n",
       "      <td>42125.354245</td>\n",
       "      <td>3494.800771</td>\n",
       "      <td>3506.679315</td>\n",
       "      <td>3.169615</td>\n",
       "      <td>6.060915</td>\n",
       "      <td>1.786875</td>\n",
       "      <td>540.531893</td>\n",
       "      <td>56.047189</td>\n",
       "      <td>34.347666</td>\n",
       "      <td>5.663707</td>\n",
       "      <td>10.957755</td>\n",
       "      <td>6.198826</td>\n",
       "      <td>10.960521</td>\n",
       "      <td>6.194897</td>\n",
       "      <td>12.411054</td>\n",
       "      <td>7.240205</td>\n",
       "      <td>27.041023</td>\n",
       "      <td>19.216101</td>\n",
       "      <td>86.688794</td>\n",
       "      <td>4.552800</td>\n",
       "      <td>0.515438</td>\n",
       "      <td>19.267422</td>\n",
       "      <td>1.012642</td>\n",
       "      <td>999.678690</td>\n",
       "      <td>-399.752729</td>\n",
       "      <td>1600.208824</td>\n",
       "      <td>-449.599614</td>\n",
       "      <td>1600.357732</td>\n",
       "      <td>-450.034364</td>\n",
       "      <td>1599.759049</td>\n",
       "      <td>-449.909799</td>\n",
       "      <td>1401.560902</td>\n",
       "      <td>-448.877187</td>\n",
       "      <td>1401.160227</td>\n",
       "      <td>-450.407128</td>\n",
       "      <td>14.079996</td>\n",
       "      <td>4.470737</td>\n",
       "      <td>8.871028</td>\n",
       "      <td>2.330448</td>\n",
       "      <td>26.024787</td>\n",
       "      <td>-500.279091</td>\n",
       "      <td>23.955345</td>\n",
       "      <td>-500.593614</td>\n",
       "      <td>23.985703</td>\n",
       "      <td>-500.083811</td>\n",
       "      <td>23.958945</td>\n",
       "      <td>-499.990309</td>\n",
       "      <td>14.027298</td>\n",
       "      <td>-499.838632</td>\n",
       "      <td>11.953070</td>\n",
       "      <td>-501.053894</td>\n",
       "      <td>9.925709</td>\n",
       "      <td>-501.686727</td>\n",
       "      <td>7.894242</td>\n",
       "      <td>-500.356035</td>\n",
       "      <td>13.996647</td>\n",
       "      <td>-601.496691</td>\n",
       "    </tr>\n",
       "  </tbody>\n",
       "</table>\n",
       "</div>"
      ],
      "text/plain": [
       "                  date  final.output.concentrate_ag  \\\n",
       "0  2016-01-15 00:00:00                     6.055403   \n",
       "1  2016-01-15 01:00:00                     6.029369   \n",
       "2  2016-01-15 02:00:00                     6.055926   \n",
       "3  2016-01-15 03:00:00                     6.047977   \n",
       "4  2016-01-15 04:00:00                     6.148599   \n",
       "\n",
       "   final.output.concentrate_pb  final.output.concentrate_sol  \\\n",
       "0                     9.889648                      5.507324   \n",
       "1                     9.968944                      5.257781   \n",
       "2                    10.213995                      5.383759   \n",
       "3                     9.977019                      4.858634   \n",
       "4                    10.142511                      4.939416   \n",
       "\n",
       "   final.output.concentrate_au  final.output.recovery  final.output.tail_ag  \\\n",
       "0                    42.192020              70.541216             10.411962   \n",
       "1                    42.701629              69.266198             10.462676   \n",
       "2                    42.657501              68.116445             10.507046   \n",
       "3                    42.689819              68.347543             10.422762   \n",
       "4                    42.774141              66.927016             10.360302   \n",
       "\n",
       "   final.output.tail_pb  final.output.tail_sol  final.output.tail_au  \\\n",
       "0              0.895447              16.904297              2.143149   \n",
       "1              0.927452              16.634514              2.224930   \n",
       "2              0.953716              16.208849              2.257889   \n",
       "3              0.883763              16.532835              2.146849   \n",
       "4              0.792826              16.525686              2.055292   \n",
       "\n",
       "   primary_cleaner.input.sulfate  primary_cleaner.input.depressant  \\\n",
       "0                     127.092003                         10.128295   \n",
       "1                     125.629232                         10.296251   \n",
       "2                     123.819808                         11.316280   \n",
       "3                     122.270188                         11.322140   \n",
       "4                     117.988169                         11.913613   \n",
       "\n",
       "   primary_cleaner.input.feed_size  primary_cleaner.input.xanthate  \\\n",
       "0                             7.25                        0.988759   \n",
       "1                             7.25                        1.002663   \n",
       "2                             7.25                        0.991265   \n",
       "3                             7.25                        0.996739   \n",
       "4                             7.25                        1.009869   \n",
       "\n",
       "   primary_cleaner.output.concentrate_ag  \\\n",
       "0                               8.547551   \n",
       "1                               8.558743   \n",
       "2                               8.603505   \n",
       "3                               7.221879   \n",
       "4                               9.089428   \n",
       "\n",
       "   primary_cleaner.output.concentrate_pb  \\\n",
       "0                              10.389648   \n",
       "1                              10.497069   \n",
       "2                              10.354494   \n",
       "3                               8.496563   \n",
       "4                               9.986786   \n",
       "\n",
       "   primary_cleaner.output.concentrate_sol  \\\n",
       "0                               19.529297   \n",
       "1                               19.369147   \n",
       "2                               19.167579   \n",
       "3                               15.978538   \n",
       "4                               19.199864   \n",
       "\n",
       "   primary_cleaner.output.concentrate_au  primary_cleaner.output.tail_ag  \\\n",
       "0                              34.174427                       14.936526   \n",
       "1                              34.118526                       16.250511   \n",
       "2                              33.969464                       16.491823   \n",
       "3                              28.260743                       16.024359   \n",
       "4                              33.044932                       16.480185   \n",
       "\n",
       "   primary_cleaner.output.tail_pb  primary_cleaner.output.tail_sol  \\\n",
       "0                        2.534912                         7.476074   \n",
       "1                        3.049646                         6.733907   \n",
       "2                        3.124664                         6.471768   \n",
       "3                        2.960362                         6.843791   \n",
       "4                        3.112100                         6.550154   \n",
       "\n",
       "   primary_cleaner.output.tail_au  primary_cleaner.state.floatbank8_a_air  \\\n",
       "0                        2.106679                             1549.775757   \n",
       "1                        2.353017                             1576.166671   \n",
       "2                        2.416800                             1601.556163   \n",
       "3                        2.262051                             1599.968720   \n",
       "4                        2.277073                             1601.339707   \n",
       "\n",
       "   primary_cleaner.state.floatbank8_a_level  \\\n",
       "0                               -498.912140   \n",
       "1                               -500.904965   \n",
       "2                               -499.997791   \n",
       "3                               -500.951778   \n",
       "4                               -498.975456   \n",
       "\n",
       "   primary_cleaner.state.floatbank8_b_air  \\\n",
       "0                             1551.434204   \n",
       "1                             1575.950626   \n",
       "2                             1600.386685   \n",
       "3                             1600.659236   \n",
       "4                             1601.437854   \n",
       "\n",
       "   primary_cleaner.state.floatbank8_b_level  \\\n",
       "0                               -516.403442   \n",
       "1                               -499.865889   \n",
       "2                               -500.607762   \n",
       "3                               -499.677094   \n",
       "4                               -500.323246   \n",
       "\n",
       "   primary_cleaner.state.floatbank8_c_air  \\\n",
       "0                             1549.873901   \n",
       "1                             1575.994189   \n",
       "2                             1602.003542   \n",
       "3                             1600.304144   \n",
       "4                             1599.581894   \n",
       "\n",
       "   primary_cleaner.state.floatbank8_c_level  \\\n",
       "0                               -498.666595   \n",
       "1                               -499.315107   \n",
       "2                               -500.870069   \n",
       "3                               -500.727997   \n",
       "4                               -500.888152   \n",
       "\n",
       "   primary_cleaner.state.floatbank8_d_air  \\\n",
       "0                             1554.367432   \n",
       "1                             1574.479259   \n",
       "2                             1599.541515   \n",
       "3                             1600.449520   \n",
       "4                             1602.649541   \n",
       "\n",
       "   primary_cleaner.state.floatbank8_d_level  \\\n",
       "0                               -493.428131   \n",
       "1                               -498.931665   \n",
       "2                               -499.827444   \n",
       "3                               -500.052575   \n",
       "4                               -500.593010   \n",
       "\n",
       "   rougher.calculation.sulfate_to_au_concentrate  \\\n",
       "0                                   41885.707031   \n",
       "1                                   42050.861809   \n",
       "2                                   42018.101184   \n",
       "3                                   42029.447991   \n",
       "4                                   42125.354245   \n",
       "\n",
       "   rougher.calculation.floatbank10_sulfate_to_au_feed  \\\n",
       "0                                        3481.779053    \n",
       "1                                        3498.370979    \n",
       "2                                        3495.348910    \n",
       "3                                        3498.578313    \n",
       "4                                        3494.800771    \n",
       "\n",
       "   rougher.calculation.floatbank11_sulfate_to_au_feed  \\\n",
       "0                                        3520.337158    \n",
       "1                                        3489.981857    \n",
       "2                                        3502.359819    \n",
       "3                                        3499.162912    \n",
       "4                                        3506.679315    \n",
       "\n",
       "   rougher.calculation.au_pb_ratio  rougher.input.feed_ag  \\\n",
       "0                         2.838687               6.100378   \n",
       "1                         2.858998               6.161113   \n",
       "2                         2.945989               6.116455   \n",
       "3                         3.002340               6.043309   \n",
       "4                         3.169615               6.060915   \n",
       "\n",
       "   rougher.input.feed_pb  rougher.input.feed_rate  rougher.input.feed_size  \\\n",
       "0               2.284912               523.546326                55.486599   \n",
       "1               2.266033               525.290581                57.278666   \n",
       "2               2.159622               530.026610                57.510649   \n",
       "3               2.037807               542.590390                57.792734   \n",
       "4               1.786875               540.531893                56.047189   \n",
       "\n",
       "   rougher.input.feed_sol  rougher.input.feed_au  \\\n",
       "0               36.808594               6.486150   \n",
       "1               35.753385               6.478583   \n",
       "2               35.971630               6.362222   \n",
       "3               36.862241               6.118189   \n",
       "4               34.347666               5.663707   \n",
       "\n",
       "   rougher.input.floatbank10_sulfate  rougher.input.floatbank10_xanthate  \\\n",
       "0                          11.986616                            6.007990   \n",
       "1                          11.971193                            6.005766   \n",
       "2                          11.920603                            6.197377   \n",
       "3                          11.630094                            6.203177   \n",
       "4                          10.957755                            6.198826   \n",
       "\n",
       "   rougher.input.floatbank11_sulfate  rougher.input.floatbank11_xanthate  \\\n",
       "0                          11.836743                            6.005818   \n",
       "1                          11.996163                            6.012594   \n",
       "2                          11.920305                            6.204633   \n",
       "3                          11.692450                            6.196578   \n",
       "4                          10.960521                            6.194897   \n",
       "\n",
       "   rougher.output.concentrate_ag  rougher.output.concentrate_pb  \\\n",
       "0                      11.500771                       7.101074   \n",
       "1                      11.615865                       7.278807   \n",
       "2                      11.695753                       7.216833   \n",
       "3                      11.915047                       7.175616   \n",
       "4                      12.411054                       7.240205   \n",
       "\n",
       "   rougher.output.concentrate_sol  rougher.output.concentrate_au  \\\n",
       "0                       28.029297                      19.793808   \n",
       "1                       28.067063                      20.050975   \n",
       "2                       27.454037                      19.737170   \n",
       "3                       27.341277                      19.320810   \n",
       "4                       27.041023                      19.216101   \n",
       "\n",
       "   rougher.output.recovery  rougher.output.tail_ag  rougher.output.tail_pb  \\\n",
       "0                87.107763                5.008018                0.508728   \n",
       "1                86.843261                4.955378                0.536689   \n",
       "2                86.842308                4.843460                0.546416   \n",
       "3                87.226430                4.655288                0.542525   \n",
       "4                86.688794                4.552800                0.515438   \n",
       "\n",
       "   rougher.output.tail_sol  rougher.output.tail_au  \\\n",
       "0                19.154297                1.170244   \n",
       "1                18.965234                1.184827   \n",
       "2                18.808533                1.162562   \n",
       "3                19.330200                1.079755   \n",
       "4                19.267422                1.012642   \n",
       "\n",
       "   rougher.state.floatbank10_a_air  rougher.state.floatbank10_a_level  \\\n",
       "0                       999.706909                        -404.066986   \n",
       "1                      1000.286398                        -400.065196   \n",
       "2                       999.719565                        -400.074028   \n",
       "3                       999.814770                        -400.200179   \n",
       "4                       999.678690                        -399.752729   \n",
       "\n",
       "   rougher.state.floatbank10_b_air  rougher.state.floatbank10_b_level  \\\n",
       "0                      1603.011353                        -434.715027   \n",
       "1                      1600.754587                        -449.953435   \n",
       "2                      1599.337330                        -450.008530   \n",
       "3                      1600.059442                        -450.619948   \n",
       "4                      1600.208824                        -449.599614   \n",
       "\n",
       "   rougher.state.floatbank10_c_air  rougher.state.floatbank10_c_level  \\\n",
       "0                      1602.375000                        -442.204468   \n",
       "1                      1600.479580                        -449.830646   \n",
       "2                      1599.672797                        -449.954491   \n",
       "3                      1600.012842                        -449.910497   \n",
       "4                      1600.357732                        -450.034364   \n",
       "\n",
       "   rougher.state.floatbank10_d_air  rougher.state.floatbank10_d_level  \\\n",
       "0                      1598.937256                        -451.294128   \n",
       "1                      1600.527589                        -449.953649   \n",
       "2                      1599.849325                        -449.954185   \n",
       "3                      1597.725177                        -450.130127   \n",
       "4                      1599.759049                        -449.909799   \n",
       "\n",
       "   rougher.state.floatbank10_e_air  rougher.state.floatbank10_e_level  \\\n",
       "0                      1404.472046                        -455.462982   \n",
       "1                      1399.227084                        -450.869848   \n",
       "2                      1399.180945                        -449.937588   \n",
       "3                      1400.943157                        -450.030142   \n",
       "4                      1401.560902                        -448.877187   \n",
       "\n",
       "   rougher.state.floatbank10_f_air  rougher.state.floatbank10_f_level  \\\n",
       "0                      1416.354980                        -451.939636   \n",
       "1                      1399.719514                        -450.119001   \n",
       "2                      1400.316682                        -450.527147   \n",
       "3                      1400.234743                        -449.790835   \n",
       "4                      1401.160227                        -450.407128   \n",
       "\n",
       "   secondary_cleaner.output.tail_ag  secondary_cleaner.output.tail_pb  \\\n",
       "0                         14.500184                          4.694824   \n",
       "1                         14.265474                          4.592547   \n",
       "2                         14.115662                          4.624775   \n",
       "3                         13.732071                          4.482453   \n",
       "4                         14.079996                          4.470737   \n",
       "\n",
       "   secondary_cleaner.output.tail_sol  secondary_cleaner.output.tail_au  \\\n",
       "0                           8.764648                          2.606185   \n",
       "1                           9.001494                          2.488248   \n",
       "2                           8.842896                          2.458187   \n",
       "3                           9.122857                          2.322062   \n",
       "4                           8.871028                          2.330448   \n",
       "\n",
       "   secondary_cleaner.state.floatbank2_a_air  \\\n",
       "0                                 25.853109   \n",
       "1                                 25.880539   \n",
       "2                                 26.005245   \n",
       "3                                 25.942508   \n",
       "4                                 26.024787   \n",
       "\n",
       "   secondary_cleaner.state.floatbank2_a_level  \\\n",
       "0                                 -498.526489   \n",
       "1                                 -499.989656   \n",
       "2                                 -499.929616   \n",
       "3                                 -499.176749   \n",
       "4                                 -500.279091   \n",
       "\n",
       "   secondary_cleaner.state.floatbank2_b_air  \\\n",
       "0                                 23.893660   \n",
       "1                                 23.889530   \n",
       "2                                 23.886657   \n",
       "3                                 23.955516   \n",
       "4                                 23.955345   \n",
       "\n",
       "   secondary_cleaner.state.floatbank2_b_level  \\\n",
       "0                                 -501.406281   \n",
       "1                                 -500.372428   \n",
       "2                                 -499.951928   \n",
       "3                                 -499.848796   \n",
       "4                                 -500.593614   \n",
       "\n",
       "   secondary_cleaner.state.floatbank3_a_air  \\\n",
       "0                                 23.961798   \n",
       "1                                 23.970550   \n",
       "2                                 23.913535   \n",
       "3                                 23.966838   \n",
       "4                                 23.985703   \n",
       "\n",
       "   secondary_cleaner.state.floatbank3_a_level  \\\n",
       "0                                 -495.262817   \n",
       "1                                 -500.085473   \n",
       "2                                 -499.442343   \n",
       "3                                 -500.008812   \n",
       "4                                 -500.083811   \n",
       "\n",
       "   secondary_cleaner.state.floatbank3_b_air  \\\n",
       "0                                 21.940409   \n",
       "1                                 22.085714   \n",
       "2                                 23.957717   \n",
       "3                                 23.954443   \n",
       "4                                 23.958945   \n",
       "\n",
       "   secondary_cleaner.state.floatbank3_b_level  \\\n",
       "0                                 -499.340973   \n",
       "1                                 -499.446897   \n",
       "2                                 -499.901982   \n",
       "3                                 -499.944710   \n",
       "4                                 -499.990309   \n",
       "\n",
       "   secondary_cleaner.state.floatbank4_a_air  \\\n",
       "0                                 14.016835   \n",
       "1                                 13.992281   \n",
       "2                                 14.015015   \n",
       "3                                 14.036510   \n",
       "4                                 14.027298   \n",
       "\n",
       "   secondary_cleaner.state.floatbank4_a_level  \\\n",
       "0                                 -502.488007   \n",
       "1                                 -505.503262   \n",
       "2                                 -502.520901   \n",
       "3                                 -500.857308   \n",
       "4                                 -499.838632   \n",
       "\n",
       "   secondary_cleaner.state.floatbank4_b_air  \\\n",
       "0                                 12.099931   \n",
       "1                                 11.950531   \n",
       "2                                 11.912783   \n",
       "3                                 11.999550   \n",
       "4                                 11.953070   \n",
       "\n",
       "   secondary_cleaner.state.floatbank4_b_level  \\\n",
       "0                                 -504.715942   \n",
       "1                                 -501.331529   \n",
       "2                                 -501.133383   \n",
       "3                                 -501.193686   \n",
       "4                                 -501.053894   \n",
       "\n",
       "   secondary_cleaner.state.floatbank5_a_air  \\\n",
       "0                                  9.925633   \n",
       "1                                 10.039245   \n",
       "2                                 10.070913   \n",
       "3                                  9.970366   \n",
       "4                                  9.925709   \n",
       "\n",
       "   secondary_cleaner.state.floatbank5_a_level  \\\n",
       "0                                 -498.310211   \n",
       "1                                 -500.169983   \n",
       "2                                 -500.129135   \n",
       "3                                 -499.201640   \n",
       "4                                 -501.686727   \n",
       "\n",
       "   secondary_cleaner.state.floatbank5_b_air  \\\n",
       "0                                  8.079666   \n",
       "1                                  7.984757   \n",
       "2                                  8.013877   \n",
       "3                                  7.977324   \n",
       "4                                  7.894242   \n",
       "\n",
       "   secondary_cleaner.state.floatbank5_b_level  \\\n",
       "0                                 -500.470978   \n",
       "1                                 -500.582168   \n",
       "2                                 -500.517572   \n",
       "3                                 -500.255908   \n",
       "4                                 -500.356035   \n",
       "\n",
       "   secondary_cleaner.state.floatbank6_a_air  \\\n",
       "0                                 14.151341   \n",
       "1                                 13.998353   \n",
       "2                                 14.028663   \n",
       "3                                 14.005551   \n",
       "4                                 13.996647   \n",
       "\n",
       "   secondary_cleaner.state.floatbank6_a_level  \n",
       "0                                 -605.841980  \n",
       "1                                 -599.787184  \n",
       "2                                 -601.427363  \n",
       "3                                 -599.996129  \n",
       "4                                 -601.496691  "
      ]
     },
     "execution_count": 3,
     "metadata": {},
     "output_type": "execute_result"
    }
   ],
   "source": [
    "gold_recovery_train_new.head()"
   ]
  },
  {
   "cell_type": "code",
   "execution_count": 4,
   "metadata": {
    "scrolled": true
   },
   "outputs": [
    {
     "name": "stdout",
     "output_type": "stream",
     "text": [
      "<class 'pandas.core.frame.DataFrame'>\n",
      "RangeIndex: 14149 entries, 0 to 14148\n",
      "Data columns (total 87 columns):\n",
      " #   Column                                              Non-Null Count  Dtype  \n",
      "---  ------                                              --------------  -----  \n",
      " 0   date                                                14149 non-null  object \n",
      " 1   final.output.concentrate_ag                         14148 non-null  float64\n",
      " 2   final.output.concentrate_pb                         14148 non-null  float64\n",
      " 3   final.output.concentrate_sol                        13938 non-null  float64\n",
      " 4   final.output.concentrate_au                         14149 non-null  float64\n",
      " 5   final.output.recovery                               14149 non-null  float64\n",
      " 6   final.output.tail_ag                                14149 non-null  float64\n",
      " 7   final.output.tail_pb                                14049 non-null  float64\n",
      " 8   final.output.tail_sol                               14144 non-null  float64\n",
      " 9   final.output.tail_au                                14149 non-null  float64\n",
      " 10  primary_cleaner.input.sulfate                       14129 non-null  float64\n",
      " 11  primary_cleaner.input.depressant                    14117 non-null  float64\n",
      " 12  primary_cleaner.input.feed_size                     14149 non-null  float64\n",
      " 13  primary_cleaner.input.xanthate                      14049 non-null  float64\n",
      " 14  primary_cleaner.output.concentrate_ag               14149 non-null  float64\n",
      " 15  primary_cleaner.output.concentrate_pb               14063 non-null  float64\n",
      " 16  primary_cleaner.output.concentrate_sol              13863 non-null  float64\n",
      " 17  primary_cleaner.output.concentrate_au               14149 non-null  float64\n",
      " 18  primary_cleaner.output.tail_ag                      14148 non-null  float64\n",
      " 19  primary_cleaner.output.tail_pb                      14134 non-null  float64\n",
      " 20  primary_cleaner.output.tail_sol                     14103 non-null  float64\n",
      " 21  primary_cleaner.output.tail_au                      14149 non-null  float64\n",
      " 22  primary_cleaner.state.floatbank8_a_air              14145 non-null  float64\n",
      " 23  primary_cleaner.state.floatbank8_a_level            14148 non-null  float64\n",
      " 24  primary_cleaner.state.floatbank8_b_air              14145 non-null  float64\n",
      " 25  primary_cleaner.state.floatbank8_b_level            14148 non-null  float64\n",
      " 26  primary_cleaner.state.floatbank8_c_air              14147 non-null  float64\n",
      " 27  primary_cleaner.state.floatbank8_c_level            14148 non-null  float64\n",
      " 28  primary_cleaner.state.floatbank8_d_air              14146 non-null  float64\n",
      " 29  primary_cleaner.state.floatbank8_d_level            14148 non-null  float64\n",
      " 30  rougher.calculation.sulfate_to_au_concentrate       14148 non-null  float64\n",
      " 31  rougher.calculation.floatbank10_sulfate_to_au_feed  14148 non-null  float64\n",
      " 32  rougher.calculation.floatbank11_sulfate_to_au_feed  14148 non-null  float64\n",
      " 33  rougher.calculation.au_pb_ratio                     14149 non-null  float64\n",
      " 34  rougher.input.feed_ag                               14149 non-null  float64\n",
      " 35  rougher.input.feed_pb                               14049 non-null  float64\n",
      " 36  rougher.input.feed_rate                             14141 non-null  float64\n",
      " 37  rougher.input.feed_size                             14005 non-null  float64\n",
      " 38  rougher.input.feed_sol                              14071 non-null  float64\n",
      " 39  rougher.input.feed_au                               14149 non-null  float64\n",
      " 40  rougher.input.floatbank10_sulfate                   14120 non-null  float64\n",
      " 41  rougher.input.floatbank10_xanthate                  14141 non-null  float64\n",
      " 42  rougher.input.floatbank11_sulfate                   14113 non-null  float64\n",
      " 43  rougher.input.floatbank11_xanthate                  13721 non-null  float64\n",
      " 44  rougher.output.concentrate_ag                       14149 non-null  float64\n",
      " 45  rougher.output.concentrate_pb                       14149 non-null  float64\n",
      " 46  rougher.output.concentrate_sol                      14127 non-null  float64\n",
      " 47  rougher.output.concentrate_au                       14149 non-null  float64\n",
      " 48  rougher.output.recovery                             14149 non-null  float64\n",
      " 49  rougher.output.tail_ag                              14148 non-null  float64\n",
      " 50  rougher.output.tail_pb                              14149 non-null  float64\n",
      " 51  rougher.output.tail_sol                             14149 non-null  float64\n",
      " 52  rougher.output.tail_au                              14149 non-null  float64\n",
      " 53  rougher.state.floatbank10_a_air                     14148 non-null  float64\n",
      " 54  rougher.state.floatbank10_a_level                   14148 non-null  float64\n",
      " 55  rougher.state.floatbank10_b_air                     14148 non-null  float64\n",
      " 56  rougher.state.floatbank10_b_level                   14148 non-null  float64\n",
      " 57  rougher.state.floatbank10_c_air                     14148 non-null  float64\n",
      " 58  rougher.state.floatbank10_c_level                   14148 non-null  float64\n",
      " 59  rougher.state.floatbank10_d_air                     14149 non-null  float64\n",
      " 60  rougher.state.floatbank10_d_level                   14149 non-null  float64\n",
      " 61  rougher.state.floatbank10_e_air                     13713 non-null  float64\n",
      " 62  rougher.state.floatbank10_e_level                   14149 non-null  float64\n",
      " 63  rougher.state.floatbank10_f_air                     14149 non-null  float64\n",
      " 64  rougher.state.floatbank10_f_level                   14149 non-null  float64\n",
      " 65  secondary_cleaner.output.tail_ag                    14147 non-null  float64\n",
      " 66  secondary_cleaner.output.tail_pb                    14139 non-null  float64\n",
      " 67  secondary_cleaner.output.tail_sol                   12544 non-null  float64\n",
      " 68  secondary_cleaner.output.tail_au                    14149 non-null  float64\n",
      " 69  secondary_cleaner.state.floatbank2_a_air            13932 non-null  float64\n",
      " 70  secondary_cleaner.state.floatbank2_a_level          14148 non-null  float64\n",
      " 71  secondary_cleaner.state.floatbank2_b_air            14128 non-null  float64\n",
      " 72  secondary_cleaner.state.floatbank2_b_level          14148 non-null  float64\n",
      " 73  secondary_cleaner.state.floatbank3_a_air            14145 non-null  float64\n",
      " 74  secondary_cleaner.state.floatbank3_a_level          14148 non-null  float64\n",
      " 75  secondary_cleaner.state.floatbank3_b_air            14148 non-null  float64\n",
      " 76  secondary_cleaner.state.floatbank3_b_level          14148 non-null  float64\n",
      " 77  secondary_cleaner.state.floatbank4_a_air            14143 non-null  float64\n",
      " 78  secondary_cleaner.state.floatbank4_a_level          14148 non-null  float64\n",
      " 79  secondary_cleaner.state.floatbank4_b_air            14148 non-null  float64\n",
      " 80  secondary_cleaner.state.floatbank4_b_level          14148 non-null  float64\n",
      " 81  secondary_cleaner.state.floatbank5_a_air            14148 non-null  float64\n",
      " 82  secondary_cleaner.state.floatbank5_a_level          14148 non-null  float64\n",
      " 83  secondary_cleaner.state.floatbank5_b_air            14148 non-null  float64\n",
      " 84  secondary_cleaner.state.floatbank5_b_level          14148 non-null  float64\n",
      " 85  secondary_cleaner.state.floatbank6_a_air            14147 non-null  float64\n",
      " 86  secondary_cleaner.state.floatbank6_a_level          14148 non-null  float64\n",
      "dtypes: float64(86), object(1)\n",
      "memory usage: 9.4+ MB\n"
     ]
    }
   ],
   "source": [
    "gold_recovery_train_new.info()"
   ]
  },
  {
   "cell_type": "markdown",
   "metadata": {},
   "source": [
    "Выведем первые 5 строк тестовой выборки и посмотрим общую информацию "
   ]
  },
  {
   "cell_type": "code",
   "execution_count": 5,
   "metadata": {
    "scrolled": true
   },
   "outputs": [
    {
     "data": {
      "text/html": [
       "<div>\n",
       "<style scoped>\n",
       "    .dataframe tbody tr th:only-of-type {\n",
       "        vertical-align: middle;\n",
       "    }\n",
       "\n",
       "    .dataframe tbody tr th {\n",
       "        vertical-align: top;\n",
       "    }\n",
       "\n",
       "    .dataframe thead th {\n",
       "        text-align: right;\n",
       "    }\n",
       "</style>\n",
       "<table border=\"1\" class=\"dataframe\">\n",
       "  <thead>\n",
       "    <tr style=\"text-align: right;\">\n",
       "      <th></th>\n",
       "      <th>date</th>\n",
       "      <th>primary_cleaner.input.sulfate</th>\n",
       "      <th>primary_cleaner.input.depressant</th>\n",
       "      <th>primary_cleaner.input.feed_size</th>\n",
       "      <th>primary_cleaner.input.xanthate</th>\n",
       "      <th>primary_cleaner.state.floatbank8_a_air</th>\n",
       "      <th>primary_cleaner.state.floatbank8_a_level</th>\n",
       "      <th>primary_cleaner.state.floatbank8_b_air</th>\n",
       "      <th>primary_cleaner.state.floatbank8_b_level</th>\n",
       "      <th>primary_cleaner.state.floatbank8_c_air</th>\n",
       "      <th>primary_cleaner.state.floatbank8_c_level</th>\n",
       "      <th>primary_cleaner.state.floatbank8_d_air</th>\n",
       "      <th>primary_cleaner.state.floatbank8_d_level</th>\n",
       "      <th>rougher.input.feed_ag</th>\n",
       "      <th>rougher.input.feed_pb</th>\n",
       "      <th>rougher.input.feed_rate</th>\n",
       "      <th>rougher.input.feed_size</th>\n",
       "      <th>rougher.input.feed_sol</th>\n",
       "      <th>rougher.input.feed_au</th>\n",
       "      <th>rougher.input.floatbank10_sulfate</th>\n",
       "      <th>rougher.input.floatbank10_xanthate</th>\n",
       "      <th>rougher.input.floatbank11_sulfate</th>\n",
       "      <th>rougher.input.floatbank11_xanthate</th>\n",
       "      <th>rougher.state.floatbank10_a_air</th>\n",
       "      <th>rougher.state.floatbank10_a_level</th>\n",
       "      <th>rougher.state.floatbank10_b_air</th>\n",
       "      <th>rougher.state.floatbank10_b_level</th>\n",
       "      <th>rougher.state.floatbank10_c_air</th>\n",
       "      <th>rougher.state.floatbank10_c_level</th>\n",
       "      <th>rougher.state.floatbank10_d_air</th>\n",
       "      <th>rougher.state.floatbank10_d_level</th>\n",
       "      <th>rougher.state.floatbank10_e_air</th>\n",
       "      <th>rougher.state.floatbank10_e_level</th>\n",
       "      <th>rougher.state.floatbank10_f_air</th>\n",
       "      <th>rougher.state.floatbank10_f_level</th>\n",
       "      <th>secondary_cleaner.state.floatbank2_a_air</th>\n",
       "      <th>secondary_cleaner.state.floatbank2_a_level</th>\n",
       "      <th>secondary_cleaner.state.floatbank2_b_air</th>\n",
       "      <th>secondary_cleaner.state.floatbank2_b_level</th>\n",
       "      <th>secondary_cleaner.state.floatbank3_a_air</th>\n",
       "      <th>secondary_cleaner.state.floatbank3_a_level</th>\n",
       "      <th>secondary_cleaner.state.floatbank3_b_air</th>\n",
       "      <th>secondary_cleaner.state.floatbank3_b_level</th>\n",
       "      <th>secondary_cleaner.state.floatbank4_a_air</th>\n",
       "      <th>secondary_cleaner.state.floatbank4_a_level</th>\n",
       "      <th>secondary_cleaner.state.floatbank4_b_air</th>\n",
       "      <th>secondary_cleaner.state.floatbank4_b_level</th>\n",
       "      <th>secondary_cleaner.state.floatbank5_a_air</th>\n",
       "      <th>secondary_cleaner.state.floatbank5_a_level</th>\n",
       "      <th>secondary_cleaner.state.floatbank5_b_air</th>\n",
       "      <th>secondary_cleaner.state.floatbank5_b_level</th>\n",
       "      <th>secondary_cleaner.state.floatbank6_a_air</th>\n",
       "      <th>secondary_cleaner.state.floatbank6_a_level</th>\n",
       "    </tr>\n",
       "  </thead>\n",
       "  <tbody>\n",
       "    <tr>\n",
       "      <th>0</th>\n",
       "      <td>2016-09-01 00:59:59</td>\n",
       "      <td>210.800909</td>\n",
       "      <td>14.993118</td>\n",
       "      <td>8.080000</td>\n",
       "      <td>1.005021</td>\n",
       "      <td>1398.981301</td>\n",
       "      <td>-500.225577</td>\n",
       "      <td>1399.144926</td>\n",
       "      <td>-499.919735</td>\n",
       "      <td>1400.102998</td>\n",
       "      <td>-500.704369</td>\n",
       "      <td>1399.001695</td>\n",
       "      <td>-499.485144</td>\n",
       "      <td>13.128569</td>\n",
       "      <td>5.636710</td>\n",
       "      <td>489.793655</td>\n",
       "      <td>62.710452</td>\n",
       "      <td>42.022440</td>\n",
       "      <td>12.084103</td>\n",
       "      <td>16.922877</td>\n",
       "      <td>6.153479</td>\n",
       "      <td>16.867518</td>\n",
       "      <td>6.150709</td>\n",
       "      <td>1001.849317</td>\n",
       "      <td>-350.301265</td>\n",
       "      <td>1249.738612</td>\n",
       "      <td>-399.107531</td>\n",
       "      <td>1249.750520</td>\n",
       "      <td>-399.396730</td>\n",
       "      <td>1198.287855</td>\n",
       "      <td>-399.488594</td>\n",
       "      <td>999.472250</td>\n",
       "      <td>-399.530962</td>\n",
       "      <td>949.566189</td>\n",
       "      <td>-398.180807</td>\n",
       "      <td>24.938200</td>\n",
       "      <td>-500.490963</td>\n",
       "      <td>14.947607</td>\n",
       "      <td>-500.013837</td>\n",
       "      <td>20.018166</td>\n",
       "      <td>-450.395995</td>\n",
       "      <td>13.987058</td>\n",
       "      <td>-449.831513</td>\n",
       "      <td>12.023554</td>\n",
       "      <td>-497.795834</td>\n",
       "      <td>8.016656</td>\n",
       "      <td>-501.289139</td>\n",
       "      <td>7.946562</td>\n",
       "      <td>-432.317850</td>\n",
       "      <td>4.872511</td>\n",
       "      <td>-500.037437</td>\n",
       "      <td>26.705889</td>\n",
       "      <td>-499.709414</td>\n",
       "    </tr>\n",
       "    <tr>\n",
       "      <th>1</th>\n",
       "      <td>2016-09-01 01:59:59</td>\n",
       "      <td>215.392455</td>\n",
       "      <td>14.987471</td>\n",
       "      <td>8.080000</td>\n",
       "      <td>0.990469</td>\n",
       "      <td>1398.777912</td>\n",
       "      <td>-500.057435</td>\n",
       "      <td>1398.055362</td>\n",
       "      <td>-499.778182</td>\n",
       "      <td>1396.151033</td>\n",
       "      <td>-499.240168</td>\n",
       "      <td>1399.508091</td>\n",
       "      <td>-500.416324</td>\n",
       "      <td>13.036280</td>\n",
       "      <td>5.526065</td>\n",
       "      <td>490.104534</td>\n",
       "      <td>61.961163</td>\n",
       "      <td>41.187903</td>\n",
       "      <td>11.918977</td>\n",
       "      <td>17.002532</td>\n",
       "      <td>5.999043</td>\n",
       "      <td>16.996063</td>\n",
       "      <td>6.002315</td>\n",
       "      <td>998.690785</td>\n",
       "      <td>-350.425704</td>\n",
       "      <td>1248.395457</td>\n",
       "      <td>-399.946025</td>\n",
       "      <td>1249.514451</td>\n",
       "      <td>-399.630810</td>\n",
       "      <td>1200.506459</td>\n",
       "      <td>-399.942434</td>\n",
       "      <td>1000.002114</td>\n",
       "      <td>-399.491528</td>\n",
       "      <td>950.200009</td>\n",
       "      <td>-405.787514</td>\n",
       "      <td>24.923466</td>\n",
       "      <td>-499.813963</td>\n",
       "      <td>14.930873</td>\n",
       "      <td>-500.764452</td>\n",
       "      <td>19.988503</td>\n",
       "      <td>-450.114024</td>\n",
       "      <td>14.092981</td>\n",
       "      <td>-450.059163</td>\n",
       "      <td>12.058140</td>\n",
       "      <td>-498.695773</td>\n",
       "      <td>8.130979</td>\n",
       "      <td>-499.634209</td>\n",
       "      <td>7.958270</td>\n",
       "      <td>-525.839648</td>\n",
       "      <td>4.878850</td>\n",
       "      <td>-500.162375</td>\n",
       "      <td>25.019940</td>\n",
       "      <td>-499.819438</td>\n",
       "    </tr>\n",
       "    <tr>\n",
       "      <th>2</th>\n",
       "      <td>2016-09-01 02:59:59</td>\n",
       "      <td>215.259946</td>\n",
       "      <td>12.884934</td>\n",
       "      <td>7.786667</td>\n",
       "      <td>0.996043</td>\n",
       "      <td>1398.493666</td>\n",
       "      <td>-500.868360</td>\n",
       "      <td>1398.860436</td>\n",
       "      <td>-499.764529</td>\n",
       "      <td>1398.075709</td>\n",
       "      <td>-502.151509</td>\n",
       "      <td>1399.497088</td>\n",
       "      <td>-499.715479</td>\n",
       "      <td>13.138412</td>\n",
       "      <td>5.426561</td>\n",
       "      <td>489.617969</td>\n",
       "      <td>66.903807</td>\n",
       "      <td>42.546294</td>\n",
       "      <td>12.091332</td>\n",
       "      <td>16.992520</td>\n",
       "      <td>5.850632</td>\n",
       "      <td>16.982096</td>\n",
       "      <td>5.853594</td>\n",
       "      <td>998.516720</td>\n",
       "      <td>-349.783538</td>\n",
       "      <td>1247.440748</td>\n",
       "      <td>-400.264330</td>\n",
       "      <td>1248.207204</td>\n",
       "      <td>-401.074405</td>\n",
       "      <td>1199.770026</td>\n",
       "      <td>-400.790582</td>\n",
       "      <td>999.925519</td>\n",
       "      <td>-399.236999</td>\n",
       "      <td>950.320481</td>\n",
       "      <td>-400.864340</td>\n",
       "      <td>24.908732</td>\n",
       "      <td>-500.304035</td>\n",
       "      <td>14.996511</td>\n",
       "      <td>-500.993821</td>\n",
       "      <td>20.039689</td>\n",
       "      <td>-450.263164</td>\n",
       "      <td>14.077881</td>\n",
       "      <td>-449.660997</td>\n",
       "      <td>11.962366</td>\n",
       "      <td>-498.767484</td>\n",
       "      <td>8.096893</td>\n",
       "      <td>-500.827423</td>\n",
       "      <td>8.071056</td>\n",
       "      <td>-500.801673</td>\n",
       "      <td>4.905125</td>\n",
       "      <td>-499.828510</td>\n",
       "      <td>24.994862</td>\n",
       "      <td>-500.622559</td>\n",
       "    </tr>\n",
       "    <tr>\n",
       "      <th>3</th>\n",
       "      <td>2016-09-01 03:59:59</td>\n",
       "      <td>215.336236</td>\n",
       "      <td>12.006805</td>\n",
       "      <td>7.640000</td>\n",
       "      <td>0.863514</td>\n",
       "      <td>1399.618111</td>\n",
       "      <td>-498.863574</td>\n",
       "      <td>1397.440120</td>\n",
       "      <td>-499.211024</td>\n",
       "      <td>1400.129303</td>\n",
       "      <td>-498.355873</td>\n",
       "      <td>1401.065165</td>\n",
       "      <td>-501.038738</td>\n",
       "      <td>12.400507</td>\n",
       "      <td>5.114758</td>\n",
       "      <td>476.618130</td>\n",
       "      <td>59.865919</td>\n",
       "      <td>41.060195</td>\n",
       "      <td>12.181597</td>\n",
       "      <td>16.532144</td>\n",
       "      <td>5.801935</td>\n",
       "      <td>16.515277</td>\n",
       "      <td>5.803657</td>\n",
       "      <td>1000.276604</td>\n",
       "      <td>-350.172597</td>\n",
       "      <td>1251.322675</td>\n",
       "      <td>-398.655289</td>\n",
       "      <td>1250.493702</td>\n",
       "      <td>-399.746728</td>\n",
       "      <td>1199.398691</td>\n",
       "      <td>-397.503052</td>\n",
       "      <td>1001.930679</td>\n",
       "      <td>-400.437573</td>\n",
       "      <td>950.735324</td>\n",
       "      <td>-399.802986</td>\n",
       "      <td>24.893998</td>\n",
       "      <td>-499.382374</td>\n",
       "      <td>14.916674</td>\n",
       "      <td>-499.862299</td>\n",
       "      <td>20.031100</td>\n",
       "      <td>-449.372570</td>\n",
       "      <td>14.013968</td>\n",
       "      <td>-449.526900</td>\n",
       "      <td>12.033091</td>\n",
       "      <td>-498.350935</td>\n",
       "      <td>8.074946</td>\n",
       "      <td>-499.474407</td>\n",
       "      <td>7.897085</td>\n",
       "      <td>-500.868509</td>\n",
       "      <td>4.931400</td>\n",
       "      <td>-499.963623</td>\n",
       "      <td>24.948919</td>\n",
       "      <td>-498.709987</td>\n",
       "    </tr>\n",
       "    <tr>\n",
       "      <th>4</th>\n",
       "      <td>2016-09-01 04:59:59</td>\n",
       "      <td>199.099327</td>\n",
       "      <td>10.682530</td>\n",
       "      <td>7.530000</td>\n",
       "      <td>0.805575</td>\n",
       "      <td>1401.268123</td>\n",
       "      <td>-500.808305</td>\n",
       "      <td>1398.128818</td>\n",
       "      <td>-499.504543</td>\n",
       "      <td>1402.172226</td>\n",
       "      <td>-500.810606</td>\n",
       "      <td>1399.480508</td>\n",
       "      <td>-499.374053</td>\n",
       "      <td>11.327427</td>\n",
       "      <td>4.767383</td>\n",
       "      <td>488.248117</td>\n",
       "      <td>63.315324</td>\n",
       "      <td>41.269161</td>\n",
       "      <td>11.290425</td>\n",
       "      <td>13.607257</td>\n",
       "      <td>5.738081</td>\n",
       "      <td>13.650053</td>\n",
       "      <td>5.739634</td>\n",
       "      <td>996.541302</td>\n",
       "      <td>-350.562517</td>\n",
       "      <td>1304.658848</td>\n",
       "      <td>-399.511519</td>\n",
       "      <td>1306.455515</td>\n",
       "      <td>-399.050685</td>\n",
       "      <td>1248.699349</td>\n",
       "      <td>-400.876894</td>\n",
       "      <td>1058.839106</td>\n",
       "      <td>-398.988239</td>\n",
       "      <td>949.645313</td>\n",
       "      <td>-399.277632</td>\n",
       "      <td>24.886905</td>\n",
       "      <td>-499.357375</td>\n",
       "      <td>14.979233</td>\n",
       "      <td>-500.186804</td>\n",
       "      <td>19.962364</td>\n",
       "      <td>-450.638828</td>\n",
       "      <td>14.009245</td>\n",
       "      <td>-450.022259</td>\n",
       "      <td>12.025367</td>\n",
       "      <td>-500.786497</td>\n",
       "      <td>8.054678</td>\n",
       "      <td>-500.397500</td>\n",
       "      <td>8.107890</td>\n",
       "      <td>-509.526725</td>\n",
       "      <td>4.957674</td>\n",
       "      <td>-500.360026</td>\n",
       "      <td>25.003331</td>\n",
       "      <td>-500.856333</td>\n",
       "    </tr>\n",
       "  </tbody>\n",
       "</table>\n",
       "</div>"
      ],
      "text/plain": [
       "                  date  primary_cleaner.input.sulfate  \\\n",
       "0  2016-09-01 00:59:59                     210.800909   \n",
       "1  2016-09-01 01:59:59                     215.392455   \n",
       "2  2016-09-01 02:59:59                     215.259946   \n",
       "3  2016-09-01 03:59:59                     215.336236   \n",
       "4  2016-09-01 04:59:59                     199.099327   \n",
       "\n",
       "   primary_cleaner.input.depressant  primary_cleaner.input.feed_size  \\\n",
       "0                         14.993118                         8.080000   \n",
       "1                         14.987471                         8.080000   \n",
       "2                         12.884934                         7.786667   \n",
       "3                         12.006805                         7.640000   \n",
       "4                         10.682530                         7.530000   \n",
       "\n",
       "   primary_cleaner.input.xanthate  primary_cleaner.state.floatbank8_a_air  \\\n",
       "0                        1.005021                             1398.981301   \n",
       "1                        0.990469                             1398.777912   \n",
       "2                        0.996043                             1398.493666   \n",
       "3                        0.863514                             1399.618111   \n",
       "4                        0.805575                             1401.268123   \n",
       "\n",
       "   primary_cleaner.state.floatbank8_a_level  \\\n",
       "0                               -500.225577   \n",
       "1                               -500.057435   \n",
       "2                               -500.868360   \n",
       "3                               -498.863574   \n",
       "4                               -500.808305   \n",
       "\n",
       "   primary_cleaner.state.floatbank8_b_air  \\\n",
       "0                             1399.144926   \n",
       "1                             1398.055362   \n",
       "2                             1398.860436   \n",
       "3                             1397.440120   \n",
       "4                             1398.128818   \n",
       "\n",
       "   primary_cleaner.state.floatbank8_b_level  \\\n",
       "0                               -499.919735   \n",
       "1                               -499.778182   \n",
       "2                               -499.764529   \n",
       "3                               -499.211024   \n",
       "4                               -499.504543   \n",
       "\n",
       "   primary_cleaner.state.floatbank8_c_air  \\\n",
       "0                             1400.102998   \n",
       "1                             1396.151033   \n",
       "2                             1398.075709   \n",
       "3                             1400.129303   \n",
       "4                             1402.172226   \n",
       "\n",
       "   primary_cleaner.state.floatbank8_c_level  \\\n",
       "0                               -500.704369   \n",
       "1                               -499.240168   \n",
       "2                               -502.151509   \n",
       "3                               -498.355873   \n",
       "4                               -500.810606   \n",
       "\n",
       "   primary_cleaner.state.floatbank8_d_air  \\\n",
       "0                             1399.001695   \n",
       "1                             1399.508091   \n",
       "2                             1399.497088   \n",
       "3                             1401.065165   \n",
       "4                             1399.480508   \n",
       "\n",
       "   primary_cleaner.state.floatbank8_d_level  rougher.input.feed_ag  \\\n",
       "0                               -499.485144              13.128569   \n",
       "1                               -500.416324              13.036280   \n",
       "2                               -499.715479              13.138412   \n",
       "3                               -501.038738              12.400507   \n",
       "4                               -499.374053              11.327427   \n",
       "\n",
       "   rougher.input.feed_pb  rougher.input.feed_rate  rougher.input.feed_size  \\\n",
       "0               5.636710               489.793655                62.710452   \n",
       "1               5.526065               490.104534                61.961163   \n",
       "2               5.426561               489.617969                66.903807   \n",
       "3               5.114758               476.618130                59.865919   \n",
       "4               4.767383               488.248117                63.315324   \n",
       "\n",
       "   rougher.input.feed_sol  rougher.input.feed_au  \\\n",
       "0               42.022440              12.084103   \n",
       "1               41.187903              11.918977   \n",
       "2               42.546294              12.091332   \n",
       "3               41.060195              12.181597   \n",
       "4               41.269161              11.290425   \n",
       "\n",
       "   rougher.input.floatbank10_sulfate  rougher.input.floatbank10_xanthate  \\\n",
       "0                          16.922877                            6.153479   \n",
       "1                          17.002532                            5.999043   \n",
       "2                          16.992520                            5.850632   \n",
       "3                          16.532144                            5.801935   \n",
       "4                          13.607257                            5.738081   \n",
       "\n",
       "   rougher.input.floatbank11_sulfate  rougher.input.floatbank11_xanthate  \\\n",
       "0                          16.867518                            6.150709   \n",
       "1                          16.996063                            6.002315   \n",
       "2                          16.982096                            5.853594   \n",
       "3                          16.515277                            5.803657   \n",
       "4                          13.650053                            5.739634   \n",
       "\n",
       "   rougher.state.floatbank10_a_air  rougher.state.floatbank10_a_level  \\\n",
       "0                      1001.849317                        -350.301265   \n",
       "1                       998.690785                        -350.425704   \n",
       "2                       998.516720                        -349.783538   \n",
       "3                      1000.276604                        -350.172597   \n",
       "4                       996.541302                        -350.562517   \n",
       "\n",
       "   rougher.state.floatbank10_b_air  rougher.state.floatbank10_b_level  \\\n",
       "0                      1249.738612                        -399.107531   \n",
       "1                      1248.395457                        -399.946025   \n",
       "2                      1247.440748                        -400.264330   \n",
       "3                      1251.322675                        -398.655289   \n",
       "4                      1304.658848                        -399.511519   \n",
       "\n",
       "   rougher.state.floatbank10_c_air  rougher.state.floatbank10_c_level  \\\n",
       "0                      1249.750520                        -399.396730   \n",
       "1                      1249.514451                        -399.630810   \n",
       "2                      1248.207204                        -401.074405   \n",
       "3                      1250.493702                        -399.746728   \n",
       "4                      1306.455515                        -399.050685   \n",
       "\n",
       "   rougher.state.floatbank10_d_air  rougher.state.floatbank10_d_level  \\\n",
       "0                      1198.287855                        -399.488594   \n",
       "1                      1200.506459                        -399.942434   \n",
       "2                      1199.770026                        -400.790582   \n",
       "3                      1199.398691                        -397.503052   \n",
       "4                      1248.699349                        -400.876894   \n",
       "\n",
       "   rougher.state.floatbank10_e_air  rougher.state.floatbank10_e_level  \\\n",
       "0                       999.472250                        -399.530962   \n",
       "1                      1000.002114                        -399.491528   \n",
       "2                       999.925519                        -399.236999   \n",
       "3                      1001.930679                        -400.437573   \n",
       "4                      1058.839106                        -398.988239   \n",
       "\n",
       "   rougher.state.floatbank10_f_air  rougher.state.floatbank10_f_level  \\\n",
       "0                       949.566189                        -398.180807   \n",
       "1                       950.200009                        -405.787514   \n",
       "2                       950.320481                        -400.864340   \n",
       "3                       950.735324                        -399.802986   \n",
       "4                       949.645313                        -399.277632   \n",
       "\n",
       "   secondary_cleaner.state.floatbank2_a_air  \\\n",
       "0                                 24.938200   \n",
       "1                                 24.923466   \n",
       "2                                 24.908732   \n",
       "3                                 24.893998   \n",
       "4                                 24.886905   \n",
       "\n",
       "   secondary_cleaner.state.floatbank2_a_level  \\\n",
       "0                                 -500.490963   \n",
       "1                                 -499.813963   \n",
       "2                                 -500.304035   \n",
       "3                                 -499.382374   \n",
       "4                                 -499.357375   \n",
       "\n",
       "   secondary_cleaner.state.floatbank2_b_air  \\\n",
       "0                                 14.947607   \n",
       "1                                 14.930873   \n",
       "2                                 14.996511   \n",
       "3                                 14.916674   \n",
       "4                                 14.979233   \n",
       "\n",
       "   secondary_cleaner.state.floatbank2_b_level  \\\n",
       "0                                 -500.013837   \n",
       "1                                 -500.764452   \n",
       "2                                 -500.993821   \n",
       "3                                 -499.862299   \n",
       "4                                 -500.186804   \n",
       "\n",
       "   secondary_cleaner.state.floatbank3_a_air  \\\n",
       "0                                 20.018166   \n",
       "1                                 19.988503   \n",
       "2                                 20.039689   \n",
       "3                                 20.031100   \n",
       "4                                 19.962364   \n",
       "\n",
       "   secondary_cleaner.state.floatbank3_a_level  \\\n",
       "0                                 -450.395995   \n",
       "1                                 -450.114024   \n",
       "2                                 -450.263164   \n",
       "3                                 -449.372570   \n",
       "4                                 -450.638828   \n",
       "\n",
       "   secondary_cleaner.state.floatbank3_b_air  \\\n",
       "0                                 13.987058   \n",
       "1                                 14.092981   \n",
       "2                                 14.077881   \n",
       "3                                 14.013968   \n",
       "4                                 14.009245   \n",
       "\n",
       "   secondary_cleaner.state.floatbank3_b_level  \\\n",
       "0                                 -449.831513   \n",
       "1                                 -450.059163   \n",
       "2                                 -449.660997   \n",
       "3                                 -449.526900   \n",
       "4                                 -450.022259   \n",
       "\n",
       "   secondary_cleaner.state.floatbank4_a_air  \\\n",
       "0                                 12.023554   \n",
       "1                                 12.058140   \n",
       "2                                 11.962366   \n",
       "3                                 12.033091   \n",
       "4                                 12.025367   \n",
       "\n",
       "   secondary_cleaner.state.floatbank4_a_level  \\\n",
       "0                                 -497.795834   \n",
       "1                                 -498.695773   \n",
       "2                                 -498.767484   \n",
       "3                                 -498.350935   \n",
       "4                                 -500.786497   \n",
       "\n",
       "   secondary_cleaner.state.floatbank4_b_air  \\\n",
       "0                                  8.016656   \n",
       "1                                  8.130979   \n",
       "2                                  8.096893   \n",
       "3                                  8.074946   \n",
       "4                                  8.054678   \n",
       "\n",
       "   secondary_cleaner.state.floatbank4_b_level  \\\n",
       "0                                 -501.289139   \n",
       "1                                 -499.634209   \n",
       "2                                 -500.827423   \n",
       "3                                 -499.474407   \n",
       "4                                 -500.397500   \n",
       "\n",
       "   secondary_cleaner.state.floatbank5_a_air  \\\n",
       "0                                  7.946562   \n",
       "1                                  7.958270   \n",
       "2                                  8.071056   \n",
       "3                                  7.897085   \n",
       "4                                  8.107890   \n",
       "\n",
       "   secondary_cleaner.state.floatbank5_a_level  \\\n",
       "0                                 -432.317850   \n",
       "1                                 -525.839648   \n",
       "2                                 -500.801673   \n",
       "3                                 -500.868509   \n",
       "4                                 -509.526725   \n",
       "\n",
       "   secondary_cleaner.state.floatbank5_b_air  \\\n",
       "0                                  4.872511   \n",
       "1                                  4.878850   \n",
       "2                                  4.905125   \n",
       "3                                  4.931400   \n",
       "4                                  4.957674   \n",
       "\n",
       "   secondary_cleaner.state.floatbank5_b_level  \\\n",
       "0                                 -500.037437   \n",
       "1                                 -500.162375   \n",
       "2                                 -499.828510   \n",
       "3                                 -499.963623   \n",
       "4                                 -500.360026   \n",
       "\n",
       "   secondary_cleaner.state.floatbank6_a_air  \\\n",
       "0                                 26.705889   \n",
       "1                                 25.019940   \n",
       "2                                 24.994862   \n",
       "3                                 24.948919   \n",
       "4                                 25.003331   \n",
       "\n",
       "   secondary_cleaner.state.floatbank6_a_level  \n",
       "0                                 -499.709414  \n",
       "1                                 -499.819438  \n",
       "2                                 -500.622559  \n",
       "3                                 -498.709987  \n",
       "4                                 -500.856333  "
      ]
     },
     "execution_count": 5,
     "metadata": {},
     "output_type": "execute_result"
    }
   ],
   "source": [
    "gold_recovery_test_new.head()"
   ]
  },
  {
   "cell_type": "code",
   "execution_count": 6,
   "metadata": {
    "scrolled": true
   },
   "outputs": [
    {
     "name": "stdout",
     "output_type": "stream",
     "text": [
      "<class 'pandas.core.frame.DataFrame'>\n",
      "RangeIndex: 5290 entries, 0 to 5289\n",
      "Data columns (total 53 columns):\n",
      " #   Column                                      Non-Null Count  Dtype  \n",
      "---  ------                                      --------------  -----  \n",
      " 0   date                                        5290 non-null   object \n",
      " 1   primary_cleaner.input.sulfate               5286 non-null   float64\n",
      " 2   primary_cleaner.input.depressant            5285 non-null   float64\n",
      " 3   primary_cleaner.input.feed_size             5290 non-null   float64\n",
      " 4   primary_cleaner.input.xanthate              5286 non-null   float64\n",
      " 5   primary_cleaner.state.floatbank8_a_air      5290 non-null   float64\n",
      " 6   primary_cleaner.state.floatbank8_a_level    5290 non-null   float64\n",
      " 7   primary_cleaner.state.floatbank8_b_air      5290 non-null   float64\n",
      " 8   primary_cleaner.state.floatbank8_b_level    5290 non-null   float64\n",
      " 9   primary_cleaner.state.floatbank8_c_air      5290 non-null   float64\n",
      " 10  primary_cleaner.state.floatbank8_c_level    5290 non-null   float64\n",
      " 11  primary_cleaner.state.floatbank8_d_air      5290 non-null   float64\n",
      " 12  primary_cleaner.state.floatbank8_d_level    5290 non-null   float64\n",
      " 13  rougher.input.feed_ag                       5290 non-null   float64\n",
      " 14  rougher.input.feed_pb                       5290 non-null   float64\n",
      " 15  rougher.input.feed_rate                     5287 non-null   float64\n",
      " 16  rougher.input.feed_size                     5289 non-null   float64\n",
      " 17  rougher.input.feed_sol                      5269 non-null   float64\n",
      " 18  rougher.input.feed_au                       5290 non-null   float64\n",
      " 19  rougher.input.floatbank10_sulfate           5285 non-null   float64\n",
      " 20  rougher.input.floatbank10_xanthate          5290 non-null   float64\n",
      " 21  rougher.input.floatbank11_sulfate           5282 non-null   float64\n",
      " 22  rougher.input.floatbank11_xanthate          5265 non-null   float64\n",
      " 23  rougher.state.floatbank10_a_air             5290 non-null   float64\n",
      " 24  rougher.state.floatbank10_a_level           5290 non-null   float64\n",
      " 25  rougher.state.floatbank10_b_air             5290 non-null   float64\n",
      " 26  rougher.state.floatbank10_b_level           5290 non-null   float64\n",
      " 27  rougher.state.floatbank10_c_air             5290 non-null   float64\n",
      " 28  rougher.state.floatbank10_c_level           5290 non-null   float64\n",
      " 29  rougher.state.floatbank10_d_air             5290 non-null   float64\n",
      " 30  rougher.state.floatbank10_d_level           5290 non-null   float64\n",
      " 31  rougher.state.floatbank10_e_air             5290 non-null   float64\n",
      " 32  rougher.state.floatbank10_e_level           5290 non-null   float64\n",
      " 33  rougher.state.floatbank10_f_air             5290 non-null   float64\n",
      " 34  rougher.state.floatbank10_f_level           5290 non-null   float64\n",
      " 35  secondary_cleaner.state.floatbank2_a_air    5287 non-null   float64\n",
      " 36  secondary_cleaner.state.floatbank2_a_level  5290 non-null   float64\n",
      " 37  secondary_cleaner.state.floatbank2_b_air    5288 non-null   float64\n",
      " 38  secondary_cleaner.state.floatbank2_b_level  5290 non-null   float64\n",
      " 39  secondary_cleaner.state.floatbank3_a_air    5281 non-null   float64\n",
      " 40  secondary_cleaner.state.floatbank3_a_level  5290 non-null   float64\n",
      " 41  secondary_cleaner.state.floatbank3_b_air    5290 non-null   float64\n",
      " 42  secondary_cleaner.state.floatbank3_b_level  5290 non-null   float64\n",
      " 43  secondary_cleaner.state.floatbank4_a_air    5290 non-null   float64\n",
      " 44  secondary_cleaner.state.floatbank4_a_level  5290 non-null   float64\n",
      " 45  secondary_cleaner.state.floatbank4_b_air    5290 non-null   float64\n",
      " 46  secondary_cleaner.state.floatbank4_b_level  5290 non-null   float64\n",
      " 47  secondary_cleaner.state.floatbank5_a_air    5290 non-null   float64\n",
      " 48  secondary_cleaner.state.floatbank5_a_level  5290 non-null   float64\n",
      " 49  secondary_cleaner.state.floatbank5_b_air    5290 non-null   float64\n",
      " 50  secondary_cleaner.state.floatbank5_b_level  5290 non-null   float64\n",
      " 51  secondary_cleaner.state.floatbank6_a_air    5290 non-null   float64\n",
      " 52  secondary_cleaner.state.floatbank6_a_level  5290 non-null   float64\n",
      "dtypes: float64(52), object(1)\n",
      "memory usage: 2.1+ MB\n"
     ]
    }
   ],
   "source": [
    "gold_recovery_test_new.info()"
   ]
  },
  {
   "cell_type": "markdown",
   "metadata": {},
   "source": [
    "Выведем первые 5 строк исходных данных и посмотрим общую информацию "
   ]
  },
  {
   "cell_type": "code",
   "execution_count": 7,
   "metadata": {},
   "outputs": [
    {
     "data": {
      "text/html": [
       "<div>\n",
       "<style scoped>\n",
       "    .dataframe tbody tr th:only-of-type {\n",
       "        vertical-align: middle;\n",
       "    }\n",
       "\n",
       "    .dataframe tbody tr th {\n",
       "        vertical-align: top;\n",
       "    }\n",
       "\n",
       "    .dataframe thead th {\n",
       "        text-align: right;\n",
       "    }\n",
       "</style>\n",
       "<table border=\"1\" class=\"dataframe\">\n",
       "  <thead>\n",
       "    <tr style=\"text-align: right;\">\n",
       "      <th></th>\n",
       "      <th>date</th>\n",
       "      <th>final.output.concentrate_ag</th>\n",
       "      <th>final.output.concentrate_pb</th>\n",
       "      <th>final.output.concentrate_sol</th>\n",
       "      <th>final.output.concentrate_au</th>\n",
       "      <th>final.output.recovery</th>\n",
       "      <th>final.output.tail_ag</th>\n",
       "      <th>final.output.tail_pb</th>\n",
       "      <th>final.output.tail_sol</th>\n",
       "      <th>final.output.tail_au</th>\n",
       "      <th>primary_cleaner.input.sulfate</th>\n",
       "      <th>primary_cleaner.input.depressant</th>\n",
       "      <th>primary_cleaner.input.feed_size</th>\n",
       "      <th>primary_cleaner.input.xanthate</th>\n",
       "      <th>primary_cleaner.output.concentrate_ag</th>\n",
       "      <th>primary_cleaner.output.concentrate_pb</th>\n",
       "      <th>primary_cleaner.output.concentrate_sol</th>\n",
       "      <th>primary_cleaner.output.concentrate_au</th>\n",
       "      <th>primary_cleaner.output.tail_ag</th>\n",
       "      <th>primary_cleaner.output.tail_pb</th>\n",
       "      <th>primary_cleaner.output.tail_sol</th>\n",
       "      <th>primary_cleaner.output.tail_au</th>\n",
       "      <th>primary_cleaner.state.floatbank8_a_air</th>\n",
       "      <th>primary_cleaner.state.floatbank8_a_level</th>\n",
       "      <th>primary_cleaner.state.floatbank8_b_air</th>\n",
       "      <th>primary_cleaner.state.floatbank8_b_level</th>\n",
       "      <th>primary_cleaner.state.floatbank8_c_air</th>\n",
       "      <th>primary_cleaner.state.floatbank8_c_level</th>\n",
       "      <th>primary_cleaner.state.floatbank8_d_air</th>\n",
       "      <th>primary_cleaner.state.floatbank8_d_level</th>\n",
       "      <th>rougher.calculation.sulfate_to_au_concentrate</th>\n",
       "      <th>rougher.calculation.floatbank10_sulfate_to_au_feed</th>\n",
       "      <th>rougher.calculation.floatbank11_sulfate_to_au_feed</th>\n",
       "      <th>rougher.calculation.au_pb_ratio</th>\n",
       "      <th>rougher.input.feed_ag</th>\n",
       "      <th>rougher.input.feed_pb</th>\n",
       "      <th>rougher.input.feed_rate</th>\n",
       "      <th>rougher.input.feed_size</th>\n",
       "      <th>rougher.input.feed_sol</th>\n",
       "      <th>rougher.input.feed_au</th>\n",
       "      <th>rougher.input.floatbank10_sulfate</th>\n",
       "      <th>rougher.input.floatbank10_xanthate</th>\n",
       "      <th>rougher.input.floatbank11_sulfate</th>\n",
       "      <th>rougher.input.floatbank11_xanthate</th>\n",
       "      <th>rougher.output.concentrate_ag</th>\n",
       "      <th>rougher.output.concentrate_pb</th>\n",
       "      <th>rougher.output.concentrate_sol</th>\n",
       "      <th>rougher.output.concentrate_au</th>\n",
       "      <th>rougher.output.recovery</th>\n",
       "      <th>rougher.output.tail_ag</th>\n",
       "      <th>rougher.output.tail_pb</th>\n",
       "      <th>rougher.output.tail_sol</th>\n",
       "      <th>rougher.output.tail_au</th>\n",
       "      <th>rougher.state.floatbank10_a_air</th>\n",
       "      <th>rougher.state.floatbank10_a_level</th>\n",
       "      <th>rougher.state.floatbank10_b_air</th>\n",
       "      <th>rougher.state.floatbank10_b_level</th>\n",
       "      <th>rougher.state.floatbank10_c_air</th>\n",
       "      <th>rougher.state.floatbank10_c_level</th>\n",
       "      <th>rougher.state.floatbank10_d_air</th>\n",
       "      <th>rougher.state.floatbank10_d_level</th>\n",
       "      <th>rougher.state.floatbank10_e_air</th>\n",
       "      <th>rougher.state.floatbank10_e_level</th>\n",
       "      <th>rougher.state.floatbank10_f_air</th>\n",
       "      <th>rougher.state.floatbank10_f_level</th>\n",
       "      <th>secondary_cleaner.output.tail_ag</th>\n",
       "      <th>secondary_cleaner.output.tail_pb</th>\n",
       "      <th>secondary_cleaner.output.tail_sol</th>\n",
       "      <th>secondary_cleaner.output.tail_au</th>\n",
       "      <th>secondary_cleaner.state.floatbank2_a_air</th>\n",
       "      <th>secondary_cleaner.state.floatbank2_a_level</th>\n",
       "      <th>secondary_cleaner.state.floatbank2_b_air</th>\n",
       "      <th>secondary_cleaner.state.floatbank2_b_level</th>\n",
       "      <th>secondary_cleaner.state.floatbank3_a_air</th>\n",
       "      <th>secondary_cleaner.state.floatbank3_a_level</th>\n",
       "      <th>secondary_cleaner.state.floatbank3_b_air</th>\n",
       "      <th>secondary_cleaner.state.floatbank3_b_level</th>\n",
       "      <th>secondary_cleaner.state.floatbank4_a_air</th>\n",
       "      <th>secondary_cleaner.state.floatbank4_a_level</th>\n",
       "      <th>secondary_cleaner.state.floatbank4_b_air</th>\n",
       "      <th>secondary_cleaner.state.floatbank4_b_level</th>\n",
       "      <th>secondary_cleaner.state.floatbank5_a_air</th>\n",
       "      <th>secondary_cleaner.state.floatbank5_a_level</th>\n",
       "      <th>secondary_cleaner.state.floatbank5_b_air</th>\n",
       "      <th>secondary_cleaner.state.floatbank5_b_level</th>\n",
       "      <th>secondary_cleaner.state.floatbank6_a_air</th>\n",
       "      <th>secondary_cleaner.state.floatbank6_a_level</th>\n",
       "    </tr>\n",
       "  </thead>\n",
       "  <tbody>\n",
       "    <tr>\n",
       "      <th>0</th>\n",
       "      <td>2016-01-15 00:00:00</td>\n",
       "      <td>6.055403</td>\n",
       "      <td>9.889648</td>\n",
       "      <td>5.507324</td>\n",
       "      <td>42.192020</td>\n",
       "      <td>70.541216</td>\n",
       "      <td>10.411962</td>\n",
       "      <td>0.895447</td>\n",
       "      <td>16.904297</td>\n",
       "      <td>2.143149</td>\n",
       "      <td>127.092003</td>\n",
       "      <td>10.128295</td>\n",
       "      <td>7.25</td>\n",
       "      <td>0.988759</td>\n",
       "      <td>8.547551</td>\n",
       "      <td>10.389648</td>\n",
       "      <td>19.529297</td>\n",
       "      <td>34.174427</td>\n",
       "      <td>14.936526</td>\n",
       "      <td>2.534912</td>\n",
       "      <td>7.476074</td>\n",
       "      <td>2.106679</td>\n",
       "      <td>1549.775757</td>\n",
       "      <td>-498.912140</td>\n",
       "      <td>1551.434204</td>\n",
       "      <td>-516.403442</td>\n",
       "      <td>1549.873901</td>\n",
       "      <td>-498.666595</td>\n",
       "      <td>1554.367432</td>\n",
       "      <td>-493.428131</td>\n",
       "      <td>41885.707031</td>\n",
       "      <td>3481.779053</td>\n",
       "      <td>3520.337158</td>\n",
       "      <td>2.838687</td>\n",
       "      <td>6.100378</td>\n",
       "      <td>2.284912</td>\n",
       "      <td>523.546326</td>\n",
       "      <td>55.486599</td>\n",
       "      <td>36.808594</td>\n",
       "      <td>6.486150</td>\n",
       "      <td>11.986616</td>\n",
       "      <td>6.007990</td>\n",
       "      <td>11.836743</td>\n",
       "      <td>6.005818</td>\n",
       "      <td>11.500771</td>\n",
       "      <td>7.101074</td>\n",
       "      <td>28.029297</td>\n",
       "      <td>19.793808</td>\n",
       "      <td>87.107763</td>\n",
       "      <td>5.008018</td>\n",
       "      <td>0.508728</td>\n",
       "      <td>19.154297</td>\n",
       "      <td>1.170244</td>\n",
       "      <td>999.706909</td>\n",
       "      <td>-404.066986</td>\n",
       "      <td>1603.011353</td>\n",
       "      <td>-434.715027</td>\n",
       "      <td>1602.375000</td>\n",
       "      <td>-442.204468</td>\n",
       "      <td>1598.937256</td>\n",
       "      <td>-451.294128</td>\n",
       "      <td>1404.472046</td>\n",
       "      <td>-455.462982</td>\n",
       "      <td>1416.354980</td>\n",
       "      <td>-451.939636</td>\n",
       "      <td>14.500184</td>\n",
       "      <td>4.694824</td>\n",
       "      <td>8.764648</td>\n",
       "      <td>2.606185</td>\n",
       "      <td>25.853109</td>\n",
       "      <td>-498.526489</td>\n",
       "      <td>23.893660</td>\n",
       "      <td>-501.406281</td>\n",
       "      <td>23.961798</td>\n",
       "      <td>-495.262817</td>\n",
       "      <td>21.940409</td>\n",
       "      <td>-499.340973</td>\n",
       "      <td>14.016835</td>\n",
       "      <td>-502.488007</td>\n",
       "      <td>12.099931</td>\n",
       "      <td>-504.715942</td>\n",
       "      <td>9.925633</td>\n",
       "      <td>-498.310211</td>\n",
       "      <td>8.079666</td>\n",
       "      <td>-500.470978</td>\n",
       "      <td>14.151341</td>\n",
       "      <td>-605.841980</td>\n",
       "    </tr>\n",
       "    <tr>\n",
       "      <th>1</th>\n",
       "      <td>2016-01-15 01:00:00</td>\n",
       "      <td>6.029369</td>\n",
       "      <td>9.968944</td>\n",
       "      <td>5.257781</td>\n",
       "      <td>42.701629</td>\n",
       "      <td>69.266198</td>\n",
       "      <td>10.462676</td>\n",
       "      <td>0.927452</td>\n",
       "      <td>16.634514</td>\n",
       "      <td>2.224930</td>\n",
       "      <td>125.629232</td>\n",
       "      <td>10.296251</td>\n",
       "      <td>7.25</td>\n",
       "      <td>1.002663</td>\n",
       "      <td>8.558743</td>\n",
       "      <td>10.497069</td>\n",
       "      <td>19.369147</td>\n",
       "      <td>34.118526</td>\n",
       "      <td>16.250511</td>\n",
       "      <td>3.049646</td>\n",
       "      <td>6.733907</td>\n",
       "      <td>2.353017</td>\n",
       "      <td>1576.166671</td>\n",
       "      <td>-500.904965</td>\n",
       "      <td>1575.950626</td>\n",
       "      <td>-499.865889</td>\n",
       "      <td>1575.994189</td>\n",
       "      <td>-499.315107</td>\n",
       "      <td>1574.479259</td>\n",
       "      <td>-498.931665</td>\n",
       "      <td>42050.861809</td>\n",
       "      <td>3498.370979</td>\n",
       "      <td>3489.981857</td>\n",
       "      <td>2.858998</td>\n",
       "      <td>6.161113</td>\n",
       "      <td>2.266033</td>\n",
       "      <td>525.290581</td>\n",
       "      <td>57.278666</td>\n",
       "      <td>35.753385</td>\n",
       "      <td>6.478583</td>\n",
       "      <td>11.971193</td>\n",
       "      <td>6.005766</td>\n",
       "      <td>11.996163</td>\n",
       "      <td>6.012594</td>\n",
       "      <td>11.615865</td>\n",
       "      <td>7.278807</td>\n",
       "      <td>28.067063</td>\n",
       "      <td>20.050975</td>\n",
       "      <td>86.843261</td>\n",
       "      <td>4.955378</td>\n",
       "      <td>0.536689</td>\n",
       "      <td>18.965234</td>\n",
       "      <td>1.184827</td>\n",
       "      <td>1000.286398</td>\n",
       "      <td>-400.065196</td>\n",
       "      <td>1600.754587</td>\n",
       "      <td>-449.953435</td>\n",
       "      <td>1600.479580</td>\n",
       "      <td>-449.830646</td>\n",
       "      <td>1600.527589</td>\n",
       "      <td>-449.953649</td>\n",
       "      <td>1399.227084</td>\n",
       "      <td>-450.869848</td>\n",
       "      <td>1399.719514</td>\n",
       "      <td>-450.119001</td>\n",
       "      <td>14.265474</td>\n",
       "      <td>4.592547</td>\n",
       "      <td>9.001494</td>\n",
       "      <td>2.488248</td>\n",
       "      <td>25.880539</td>\n",
       "      <td>-499.989656</td>\n",
       "      <td>23.889530</td>\n",
       "      <td>-500.372428</td>\n",
       "      <td>23.970550</td>\n",
       "      <td>-500.085473</td>\n",
       "      <td>22.085714</td>\n",
       "      <td>-499.446897</td>\n",
       "      <td>13.992281</td>\n",
       "      <td>-505.503262</td>\n",
       "      <td>11.950531</td>\n",
       "      <td>-501.331529</td>\n",
       "      <td>10.039245</td>\n",
       "      <td>-500.169983</td>\n",
       "      <td>7.984757</td>\n",
       "      <td>-500.582168</td>\n",
       "      <td>13.998353</td>\n",
       "      <td>-599.787184</td>\n",
       "    </tr>\n",
       "    <tr>\n",
       "      <th>2</th>\n",
       "      <td>2016-01-15 02:00:00</td>\n",
       "      <td>6.055926</td>\n",
       "      <td>10.213995</td>\n",
       "      <td>5.383759</td>\n",
       "      <td>42.657501</td>\n",
       "      <td>68.116445</td>\n",
       "      <td>10.507046</td>\n",
       "      <td>0.953716</td>\n",
       "      <td>16.208849</td>\n",
       "      <td>2.257889</td>\n",
       "      <td>123.819808</td>\n",
       "      <td>11.316280</td>\n",
       "      <td>7.25</td>\n",
       "      <td>0.991265</td>\n",
       "      <td>8.603505</td>\n",
       "      <td>10.354494</td>\n",
       "      <td>19.167579</td>\n",
       "      <td>33.969464</td>\n",
       "      <td>16.491823</td>\n",
       "      <td>3.124664</td>\n",
       "      <td>6.471768</td>\n",
       "      <td>2.416800</td>\n",
       "      <td>1601.556163</td>\n",
       "      <td>-499.997791</td>\n",
       "      <td>1600.386685</td>\n",
       "      <td>-500.607762</td>\n",
       "      <td>1602.003542</td>\n",
       "      <td>-500.870069</td>\n",
       "      <td>1599.541515</td>\n",
       "      <td>-499.827444</td>\n",
       "      <td>42018.101184</td>\n",
       "      <td>3495.348910</td>\n",
       "      <td>3502.359819</td>\n",
       "      <td>2.945989</td>\n",
       "      <td>6.116455</td>\n",
       "      <td>2.159622</td>\n",
       "      <td>530.026610</td>\n",
       "      <td>57.510649</td>\n",
       "      <td>35.971630</td>\n",
       "      <td>6.362222</td>\n",
       "      <td>11.920603</td>\n",
       "      <td>6.197377</td>\n",
       "      <td>11.920305</td>\n",
       "      <td>6.204633</td>\n",
       "      <td>11.695753</td>\n",
       "      <td>7.216833</td>\n",
       "      <td>27.454037</td>\n",
       "      <td>19.737170</td>\n",
       "      <td>86.842308</td>\n",
       "      <td>4.843460</td>\n",
       "      <td>0.546416</td>\n",
       "      <td>18.808533</td>\n",
       "      <td>1.162562</td>\n",
       "      <td>999.719565</td>\n",
       "      <td>-400.074028</td>\n",
       "      <td>1599.337330</td>\n",
       "      <td>-450.008530</td>\n",
       "      <td>1599.672797</td>\n",
       "      <td>-449.954491</td>\n",
       "      <td>1599.849325</td>\n",
       "      <td>-449.954185</td>\n",
       "      <td>1399.180945</td>\n",
       "      <td>-449.937588</td>\n",
       "      <td>1400.316682</td>\n",
       "      <td>-450.527147</td>\n",
       "      <td>14.115662</td>\n",
       "      <td>4.624775</td>\n",
       "      <td>8.842896</td>\n",
       "      <td>2.458187</td>\n",
       "      <td>26.005245</td>\n",
       "      <td>-499.929616</td>\n",
       "      <td>23.886657</td>\n",
       "      <td>-499.951928</td>\n",
       "      <td>23.913535</td>\n",
       "      <td>-499.442343</td>\n",
       "      <td>23.957717</td>\n",
       "      <td>-499.901982</td>\n",
       "      <td>14.015015</td>\n",
       "      <td>-502.520901</td>\n",
       "      <td>11.912783</td>\n",
       "      <td>-501.133383</td>\n",
       "      <td>10.070913</td>\n",
       "      <td>-500.129135</td>\n",
       "      <td>8.013877</td>\n",
       "      <td>-500.517572</td>\n",
       "      <td>14.028663</td>\n",
       "      <td>-601.427363</td>\n",
       "    </tr>\n",
       "    <tr>\n",
       "      <th>3</th>\n",
       "      <td>2016-01-15 03:00:00</td>\n",
       "      <td>6.047977</td>\n",
       "      <td>9.977019</td>\n",
       "      <td>4.858634</td>\n",
       "      <td>42.689819</td>\n",
       "      <td>68.347543</td>\n",
       "      <td>10.422762</td>\n",
       "      <td>0.883763</td>\n",
       "      <td>16.532835</td>\n",
       "      <td>2.146849</td>\n",
       "      <td>122.270188</td>\n",
       "      <td>11.322140</td>\n",
       "      <td>7.25</td>\n",
       "      <td>0.996739</td>\n",
       "      <td>7.221879</td>\n",
       "      <td>8.496563</td>\n",
       "      <td>15.978538</td>\n",
       "      <td>28.260743</td>\n",
       "      <td>16.024359</td>\n",
       "      <td>2.960362</td>\n",
       "      <td>6.843791</td>\n",
       "      <td>2.262051</td>\n",
       "      <td>1599.968720</td>\n",
       "      <td>-500.951778</td>\n",
       "      <td>1600.659236</td>\n",
       "      <td>-499.677094</td>\n",
       "      <td>1600.304144</td>\n",
       "      <td>-500.727997</td>\n",
       "      <td>1600.449520</td>\n",
       "      <td>-500.052575</td>\n",
       "      <td>42029.447991</td>\n",
       "      <td>3498.578313</td>\n",
       "      <td>3499.162912</td>\n",
       "      <td>3.002340</td>\n",
       "      <td>6.043309</td>\n",
       "      <td>2.037807</td>\n",
       "      <td>542.590390</td>\n",
       "      <td>57.792734</td>\n",
       "      <td>36.862241</td>\n",
       "      <td>6.118189</td>\n",
       "      <td>11.630094</td>\n",
       "      <td>6.203177</td>\n",
       "      <td>11.692450</td>\n",
       "      <td>6.196578</td>\n",
       "      <td>11.915047</td>\n",
       "      <td>7.175616</td>\n",
       "      <td>27.341277</td>\n",
       "      <td>19.320810</td>\n",
       "      <td>87.226430</td>\n",
       "      <td>4.655288</td>\n",
       "      <td>0.542525</td>\n",
       "      <td>19.330200</td>\n",
       "      <td>1.079755</td>\n",
       "      <td>999.814770</td>\n",
       "      <td>-400.200179</td>\n",
       "      <td>1600.059442</td>\n",
       "      <td>-450.619948</td>\n",
       "      <td>1600.012842</td>\n",
       "      <td>-449.910497</td>\n",
       "      <td>1597.725177</td>\n",
       "      <td>-450.130127</td>\n",
       "      <td>1400.943157</td>\n",
       "      <td>-450.030142</td>\n",
       "      <td>1400.234743</td>\n",
       "      <td>-449.790835</td>\n",
       "      <td>13.732071</td>\n",
       "      <td>4.482453</td>\n",
       "      <td>9.122857</td>\n",
       "      <td>2.322062</td>\n",
       "      <td>25.942508</td>\n",
       "      <td>-499.176749</td>\n",
       "      <td>23.955516</td>\n",
       "      <td>-499.848796</td>\n",
       "      <td>23.966838</td>\n",
       "      <td>-500.008812</td>\n",
       "      <td>23.954443</td>\n",
       "      <td>-499.944710</td>\n",
       "      <td>14.036510</td>\n",
       "      <td>-500.857308</td>\n",
       "      <td>11.999550</td>\n",
       "      <td>-501.193686</td>\n",
       "      <td>9.970366</td>\n",
       "      <td>-499.201640</td>\n",
       "      <td>7.977324</td>\n",
       "      <td>-500.255908</td>\n",
       "      <td>14.005551</td>\n",
       "      <td>-599.996129</td>\n",
       "    </tr>\n",
       "    <tr>\n",
       "      <th>4</th>\n",
       "      <td>2016-01-15 04:00:00</td>\n",
       "      <td>6.148599</td>\n",
       "      <td>10.142511</td>\n",
       "      <td>4.939416</td>\n",
       "      <td>42.774141</td>\n",
       "      <td>66.927016</td>\n",
       "      <td>10.360302</td>\n",
       "      <td>0.792826</td>\n",
       "      <td>16.525686</td>\n",
       "      <td>2.055292</td>\n",
       "      <td>117.988169</td>\n",
       "      <td>11.913613</td>\n",
       "      <td>7.25</td>\n",
       "      <td>1.009869</td>\n",
       "      <td>9.089428</td>\n",
       "      <td>9.986786</td>\n",
       "      <td>19.199864</td>\n",
       "      <td>33.044932</td>\n",
       "      <td>16.480185</td>\n",
       "      <td>3.112100</td>\n",
       "      <td>6.550154</td>\n",
       "      <td>2.277073</td>\n",
       "      <td>1601.339707</td>\n",
       "      <td>-498.975456</td>\n",
       "      <td>1601.437854</td>\n",
       "      <td>-500.323246</td>\n",
       "      <td>1599.581894</td>\n",
       "      <td>-500.888152</td>\n",
       "      <td>1602.649541</td>\n",
       "      <td>-500.593010</td>\n",
       "      <td>42125.354245</td>\n",
       "      <td>3494.800771</td>\n",
       "      <td>3506.679315</td>\n",
       "      <td>3.169615</td>\n",
       "      <td>6.060915</td>\n",
       "      <td>1.786875</td>\n",
       "      <td>540.531893</td>\n",
       "      <td>56.047189</td>\n",
       "      <td>34.347666</td>\n",
       "      <td>5.663707</td>\n",
       "      <td>10.957755</td>\n",
       "      <td>6.198826</td>\n",
       "      <td>10.960521</td>\n",
       "      <td>6.194897</td>\n",
       "      <td>12.411054</td>\n",
       "      <td>7.240205</td>\n",
       "      <td>27.041023</td>\n",
       "      <td>19.216101</td>\n",
       "      <td>86.688794</td>\n",
       "      <td>4.552800</td>\n",
       "      <td>0.515438</td>\n",
       "      <td>19.267422</td>\n",
       "      <td>1.012642</td>\n",
       "      <td>999.678690</td>\n",
       "      <td>-399.752729</td>\n",
       "      <td>1600.208824</td>\n",
       "      <td>-449.599614</td>\n",
       "      <td>1600.357732</td>\n",
       "      <td>-450.034364</td>\n",
       "      <td>1599.759049</td>\n",
       "      <td>-449.909799</td>\n",
       "      <td>1401.560902</td>\n",
       "      <td>-448.877187</td>\n",
       "      <td>1401.160227</td>\n",
       "      <td>-450.407128</td>\n",
       "      <td>14.079996</td>\n",
       "      <td>4.470737</td>\n",
       "      <td>8.871028</td>\n",
       "      <td>2.330448</td>\n",
       "      <td>26.024787</td>\n",
       "      <td>-500.279091</td>\n",
       "      <td>23.955345</td>\n",
       "      <td>-500.593614</td>\n",
       "      <td>23.985703</td>\n",
       "      <td>-500.083811</td>\n",
       "      <td>23.958945</td>\n",
       "      <td>-499.990309</td>\n",
       "      <td>14.027298</td>\n",
       "      <td>-499.838632</td>\n",
       "      <td>11.953070</td>\n",
       "      <td>-501.053894</td>\n",
       "      <td>9.925709</td>\n",
       "      <td>-501.686727</td>\n",
       "      <td>7.894242</td>\n",
       "      <td>-500.356035</td>\n",
       "      <td>13.996647</td>\n",
       "      <td>-601.496691</td>\n",
       "    </tr>\n",
       "  </tbody>\n",
       "</table>\n",
       "</div>"
      ],
      "text/plain": [
       "                  date  final.output.concentrate_ag  \\\n",
       "0  2016-01-15 00:00:00                     6.055403   \n",
       "1  2016-01-15 01:00:00                     6.029369   \n",
       "2  2016-01-15 02:00:00                     6.055926   \n",
       "3  2016-01-15 03:00:00                     6.047977   \n",
       "4  2016-01-15 04:00:00                     6.148599   \n",
       "\n",
       "   final.output.concentrate_pb  final.output.concentrate_sol  \\\n",
       "0                     9.889648                      5.507324   \n",
       "1                     9.968944                      5.257781   \n",
       "2                    10.213995                      5.383759   \n",
       "3                     9.977019                      4.858634   \n",
       "4                    10.142511                      4.939416   \n",
       "\n",
       "   final.output.concentrate_au  final.output.recovery  final.output.tail_ag  \\\n",
       "0                    42.192020              70.541216             10.411962   \n",
       "1                    42.701629              69.266198             10.462676   \n",
       "2                    42.657501              68.116445             10.507046   \n",
       "3                    42.689819              68.347543             10.422762   \n",
       "4                    42.774141              66.927016             10.360302   \n",
       "\n",
       "   final.output.tail_pb  final.output.tail_sol  final.output.tail_au  \\\n",
       "0              0.895447              16.904297              2.143149   \n",
       "1              0.927452              16.634514              2.224930   \n",
       "2              0.953716              16.208849              2.257889   \n",
       "3              0.883763              16.532835              2.146849   \n",
       "4              0.792826              16.525686              2.055292   \n",
       "\n",
       "   primary_cleaner.input.sulfate  primary_cleaner.input.depressant  \\\n",
       "0                     127.092003                         10.128295   \n",
       "1                     125.629232                         10.296251   \n",
       "2                     123.819808                         11.316280   \n",
       "3                     122.270188                         11.322140   \n",
       "4                     117.988169                         11.913613   \n",
       "\n",
       "   primary_cleaner.input.feed_size  primary_cleaner.input.xanthate  \\\n",
       "0                             7.25                        0.988759   \n",
       "1                             7.25                        1.002663   \n",
       "2                             7.25                        0.991265   \n",
       "3                             7.25                        0.996739   \n",
       "4                             7.25                        1.009869   \n",
       "\n",
       "   primary_cleaner.output.concentrate_ag  \\\n",
       "0                               8.547551   \n",
       "1                               8.558743   \n",
       "2                               8.603505   \n",
       "3                               7.221879   \n",
       "4                               9.089428   \n",
       "\n",
       "   primary_cleaner.output.concentrate_pb  \\\n",
       "0                              10.389648   \n",
       "1                              10.497069   \n",
       "2                              10.354494   \n",
       "3                               8.496563   \n",
       "4                               9.986786   \n",
       "\n",
       "   primary_cleaner.output.concentrate_sol  \\\n",
       "0                               19.529297   \n",
       "1                               19.369147   \n",
       "2                               19.167579   \n",
       "3                               15.978538   \n",
       "4                               19.199864   \n",
       "\n",
       "   primary_cleaner.output.concentrate_au  primary_cleaner.output.tail_ag  \\\n",
       "0                              34.174427                       14.936526   \n",
       "1                              34.118526                       16.250511   \n",
       "2                              33.969464                       16.491823   \n",
       "3                              28.260743                       16.024359   \n",
       "4                              33.044932                       16.480185   \n",
       "\n",
       "   primary_cleaner.output.tail_pb  primary_cleaner.output.tail_sol  \\\n",
       "0                        2.534912                         7.476074   \n",
       "1                        3.049646                         6.733907   \n",
       "2                        3.124664                         6.471768   \n",
       "3                        2.960362                         6.843791   \n",
       "4                        3.112100                         6.550154   \n",
       "\n",
       "   primary_cleaner.output.tail_au  primary_cleaner.state.floatbank8_a_air  \\\n",
       "0                        2.106679                             1549.775757   \n",
       "1                        2.353017                             1576.166671   \n",
       "2                        2.416800                             1601.556163   \n",
       "3                        2.262051                             1599.968720   \n",
       "4                        2.277073                             1601.339707   \n",
       "\n",
       "   primary_cleaner.state.floatbank8_a_level  \\\n",
       "0                               -498.912140   \n",
       "1                               -500.904965   \n",
       "2                               -499.997791   \n",
       "3                               -500.951778   \n",
       "4                               -498.975456   \n",
       "\n",
       "   primary_cleaner.state.floatbank8_b_air  \\\n",
       "0                             1551.434204   \n",
       "1                             1575.950626   \n",
       "2                             1600.386685   \n",
       "3                             1600.659236   \n",
       "4                             1601.437854   \n",
       "\n",
       "   primary_cleaner.state.floatbank8_b_level  \\\n",
       "0                               -516.403442   \n",
       "1                               -499.865889   \n",
       "2                               -500.607762   \n",
       "3                               -499.677094   \n",
       "4                               -500.323246   \n",
       "\n",
       "   primary_cleaner.state.floatbank8_c_air  \\\n",
       "0                             1549.873901   \n",
       "1                             1575.994189   \n",
       "2                             1602.003542   \n",
       "3                             1600.304144   \n",
       "4                             1599.581894   \n",
       "\n",
       "   primary_cleaner.state.floatbank8_c_level  \\\n",
       "0                               -498.666595   \n",
       "1                               -499.315107   \n",
       "2                               -500.870069   \n",
       "3                               -500.727997   \n",
       "4                               -500.888152   \n",
       "\n",
       "   primary_cleaner.state.floatbank8_d_air  \\\n",
       "0                             1554.367432   \n",
       "1                             1574.479259   \n",
       "2                             1599.541515   \n",
       "3                             1600.449520   \n",
       "4                             1602.649541   \n",
       "\n",
       "   primary_cleaner.state.floatbank8_d_level  \\\n",
       "0                               -493.428131   \n",
       "1                               -498.931665   \n",
       "2                               -499.827444   \n",
       "3                               -500.052575   \n",
       "4                               -500.593010   \n",
       "\n",
       "   rougher.calculation.sulfate_to_au_concentrate  \\\n",
       "0                                   41885.707031   \n",
       "1                                   42050.861809   \n",
       "2                                   42018.101184   \n",
       "3                                   42029.447991   \n",
       "4                                   42125.354245   \n",
       "\n",
       "   rougher.calculation.floatbank10_sulfate_to_au_feed  \\\n",
       "0                                        3481.779053    \n",
       "1                                        3498.370979    \n",
       "2                                        3495.348910    \n",
       "3                                        3498.578313    \n",
       "4                                        3494.800771    \n",
       "\n",
       "   rougher.calculation.floatbank11_sulfate_to_au_feed  \\\n",
       "0                                        3520.337158    \n",
       "1                                        3489.981857    \n",
       "2                                        3502.359819    \n",
       "3                                        3499.162912    \n",
       "4                                        3506.679315    \n",
       "\n",
       "   rougher.calculation.au_pb_ratio  rougher.input.feed_ag  \\\n",
       "0                         2.838687               6.100378   \n",
       "1                         2.858998               6.161113   \n",
       "2                         2.945989               6.116455   \n",
       "3                         3.002340               6.043309   \n",
       "4                         3.169615               6.060915   \n",
       "\n",
       "   rougher.input.feed_pb  rougher.input.feed_rate  rougher.input.feed_size  \\\n",
       "0               2.284912               523.546326                55.486599   \n",
       "1               2.266033               525.290581                57.278666   \n",
       "2               2.159622               530.026610                57.510649   \n",
       "3               2.037807               542.590390                57.792734   \n",
       "4               1.786875               540.531893                56.047189   \n",
       "\n",
       "   rougher.input.feed_sol  rougher.input.feed_au  \\\n",
       "0               36.808594               6.486150   \n",
       "1               35.753385               6.478583   \n",
       "2               35.971630               6.362222   \n",
       "3               36.862241               6.118189   \n",
       "4               34.347666               5.663707   \n",
       "\n",
       "   rougher.input.floatbank10_sulfate  rougher.input.floatbank10_xanthate  \\\n",
       "0                          11.986616                            6.007990   \n",
       "1                          11.971193                            6.005766   \n",
       "2                          11.920603                            6.197377   \n",
       "3                          11.630094                            6.203177   \n",
       "4                          10.957755                            6.198826   \n",
       "\n",
       "   rougher.input.floatbank11_sulfate  rougher.input.floatbank11_xanthate  \\\n",
       "0                          11.836743                            6.005818   \n",
       "1                          11.996163                            6.012594   \n",
       "2                          11.920305                            6.204633   \n",
       "3                          11.692450                            6.196578   \n",
       "4                          10.960521                            6.194897   \n",
       "\n",
       "   rougher.output.concentrate_ag  rougher.output.concentrate_pb  \\\n",
       "0                      11.500771                       7.101074   \n",
       "1                      11.615865                       7.278807   \n",
       "2                      11.695753                       7.216833   \n",
       "3                      11.915047                       7.175616   \n",
       "4                      12.411054                       7.240205   \n",
       "\n",
       "   rougher.output.concentrate_sol  rougher.output.concentrate_au  \\\n",
       "0                       28.029297                      19.793808   \n",
       "1                       28.067063                      20.050975   \n",
       "2                       27.454037                      19.737170   \n",
       "3                       27.341277                      19.320810   \n",
       "4                       27.041023                      19.216101   \n",
       "\n",
       "   rougher.output.recovery  rougher.output.tail_ag  rougher.output.tail_pb  \\\n",
       "0                87.107763                5.008018                0.508728   \n",
       "1                86.843261                4.955378                0.536689   \n",
       "2                86.842308                4.843460                0.546416   \n",
       "3                87.226430                4.655288                0.542525   \n",
       "4                86.688794                4.552800                0.515438   \n",
       "\n",
       "   rougher.output.tail_sol  rougher.output.tail_au  \\\n",
       "0                19.154297                1.170244   \n",
       "1                18.965234                1.184827   \n",
       "2                18.808533                1.162562   \n",
       "3                19.330200                1.079755   \n",
       "4                19.267422                1.012642   \n",
       "\n",
       "   rougher.state.floatbank10_a_air  rougher.state.floatbank10_a_level  \\\n",
       "0                       999.706909                        -404.066986   \n",
       "1                      1000.286398                        -400.065196   \n",
       "2                       999.719565                        -400.074028   \n",
       "3                       999.814770                        -400.200179   \n",
       "4                       999.678690                        -399.752729   \n",
       "\n",
       "   rougher.state.floatbank10_b_air  rougher.state.floatbank10_b_level  \\\n",
       "0                      1603.011353                        -434.715027   \n",
       "1                      1600.754587                        -449.953435   \n",
       "2                      1599.337330                        -450.008530   \n",
       "3                      1600.059442                        -450.619948   \n",
       "4                      1600.208824                        -449.599614   \n",
       "\n",
       "   rougher.state.floatbank10_c_air  rougher.state.floatbank10_c_level  \\\n",
       "0                      1602.375000                        -442.204468   \n",
       "1                      1600.479580                        -449.830646   \n",
       "2                      1599.672797                        -449.954491   \n",
       "3                      1600.012842                        -449.910497   \n",
       "4                      1600.357732                        -450.034364   \n",
       "\n",
       "   rougher.state.floatbank10_d_air  rougher.state.floatbank10_d_level  \\\n",
       "0                      1598.937256                        -451.294128   \n",
       "1                      1600.527589                        -449.953649   \n",
       "2                      1599.849325                        -449.954185   \n",
       "3                      1597.725177                        -450.130127   \n",
       "4                      1599.759049                        -449.909799   \n",
       "\n",
       "   rougher.state.floatbank10_e_air  rougher.state.floatbank10_e_level  \\\n",
       "0                      1404.472046                        -455.462982   \n",
       "1                      1399.227084                        -450.869848   \n",
       "2                      1399.180945                        -449.937588   \n",
       "3                      1400.943157                        -450.030142   \n",
       "4                      1401.560902                        -448.877187   \n",
       "\n",
       "   rougher.state.floatbank10_f_air  rougher.state.floatbank10_f_level  \\\n",
       "0                      1416.354980                        -451.939636   \n",
       "1                      1399.719514                        -450.119001   \n",
       "2                      1400.316682                        -450.527147   \n",
       "3                      1400.234743                        -449.790835   \n",
       "4                      1401.160227                        -450.407128   \n",
       "\n",
       "   secondary_cleaner.output.tail_ag  secondary_cleaner.output.tail_pb  \\\n",
       "0                         14.500184                          4.694824   \n",
       "1                         14.265474                          4.592547   \n",
       "2                         14.115662                          4.624775   \n",
       "3                         13.732071                          4.482453   \n",
       "4                         14.079996                          4.470737   \n",
       "\n",
       "   secondary_cleaner.output.tail_sol  secondary_cleaner.output.tail_au  \\\n",
       "0                           8.764648                          2.606185   \n",
       "1                           9.001494                          2.488248   \n",
       "2                           8.842896                          2.458187   \n",
       "3                           9.122857                          2.322062   \n",
       "4                           8.871028                          2.330448   \n",
       "\n",
       "   secondary_cleaner.state.floatbank2_a_air  \\\n",
       "0                                 25.853109   \n",
       "1                                 25.880539   \n",
       "2                                 26.005245   \n",
       "3                                 25.942508   \n",
       "4                                 26.024787   \n",
       "\n",
       "   secondary_cleaner.state.floatbank2_a_level  \\\n",
       "0                                 -498.526489   \n",
       "1                                 -499.989656   \n",
       "2                                 -499.929616   \n",
       "3                                 -499.176749   \n",
       "4                                 -500.279091   \n",
       "\n",
       "   secondary_cleaner.state.floatbank2_b_air  \\\n",
       "0                                 23.893660   \n",
       "1                                 23.889530   \n",
       "2                                 23.886657   \n",
       "3                                 23.955516   \n",
       "4                                 23.955345   \n",
       "\n",
       "   secondary_cleaner.state.floatbank2_b_level  \\\n",
       "0                                 -501.406281   \n",
       "1                                 -500.372428   \n",
       "2                                 -499.951928   \n",
       "3                                 -499.848796   \n",
       "4                                 -500.593614   \n",
       "\n",
       "   secondary_cleaner.state.floatbank3_a_air  \\\n",
       "0                                 23.961798   \n",
       "1                                 23.970550   \n",
       "2                                 23.913535   \n",
       "3                                 23.966838   \n",
       "4                                 23.985703   \n",
       "\n",
       "   secondary_cleaner.state.floatbank3_a_level  \\\n",
       "0                                 -495.262817   \n",
       "1                                 -500.085473   \n",
       "2                                 -499.442343   \n",
       "3                                 -500.008812   \n",
       "4                                 -500.083811   \n",
       "\n",
       "   secondary_cleaner.state.floatbank3_b_air  \\\n",
       "0                                 21.940409   \n",
       "1                                 22.085714   \n",
       "2                                 23.957717   \n",
       "3                                 23.954443   \n",
       "4                                 23.958945   \n",
       "\n",
       "   secondary_cleaner.state.floatbank3_b_level  \\\n",
       "0                                 -499.340973   \n",
       "1                                 -499.446897   \n",
       "2                                 -499.901982   \n",
       "3                                 -499.944710   \n",
       "4                                 -499.990309   \n",
       "\n",
       "   secondary_cleaner.state.floatbank4_a_air  \\\n",
       "0                                 14.016835   \n",
       "1                                 13.992281   \n",
       "2                                 14.015015   \n",
       "3                                 14.036510   \n",
       "4                                 14.027298   \n",
       "\n",
       "   secondary_cleaner.state.floatbank4_a_level  \\\n",
       "0                                 -502.488007   \n",
       "1                                 -505.503262   \n",
       "2                                 -502.520901   \n",
       "3                                 -500.857308   \n",
       "4                                 -499.838632   \n",
       "\n",
       "   secondary_cleaner.state.floatbank4_b_air  \\\n",
       "0                                 12.099931   \n",
       "1                                 11.950531   \n",
       "2                                 11.912783   \n",
       "3                                 11.999550   \n",
       "4                                 11.953070   \n",
       "\n",
       "   secondary_cleaner.state.floatbank4_b_level  \\\n",
       "0                                 -504.715942   \n",
       "1                                 -501.331529   \n",
       "2                                 -501.133383   \n",
       "3                                 -501.193686   \n",
       "4                                 -501.053894   \n",
       "\n",
       "   secondary_cleaner.state.floatbank5_a_air  \\\n",
       "0                                  9.925633   \n",
       "1                                 10.039245   \n",
       "2                                 10.070913   \n",
       "3                                  9.970366   \n",
       "4                                  9.925709   \n",
       "\n",
       "   secondary_cleaner.state.floatbank5_a_level  \\\n",
       "0                                 -498.310211   \n",
       "1                                 -500.169983   \n",
       "2                                 -500.129135   \n",
       "3                                 -499.201640   \n",
       "4                                 -501.686727   \n",
       "\n",
       "   secondary_cleaner.state.floatbank5_b_air  \\\n",
       "0                                  8.079666   \n",
       "1                                  7.984757   \n",
       "2                                  8.013877   \n",
       "3                                  7.977324   \n",
       "4                                  7.894242   \n",
       "\n",
       "   secondary_cleaner.state.floatbank5_b_level  \\\n",
       "0                                 -500.470978   \n",
       "1                                 -500.582168   \n",
       "2                                 -500.517572   \n",
       "3                                 -500.255908   \n",
       "4                                 -500.356035   \n",
       "\n",
       "   secondary_cleaner.state.floatbank6_a_air  \\\n",
       "0                                 14.151341   \n",
       "1                                 13.998353   \n",
       "2                                 14.028663   \n",
       "3                                 14.005551   \n",
       "4                                 13.996647   \n",
       "\n",
       "   secondary_cleaner.state.floatbank6_a_level  \n",
       "0                                 -605.841980  \n",
       "1                                 -599.787184  \n",
       "2                                 -601.427363  \n",
       "3                                 -599.996129  \n",
       "4                                 -601.496691  "
      ]
     },
     "execution_count": 7,
     "metadata": {},
     "output_type": "execute_result"
    }
   ],
   "source": [
    "gold_recovery_full_new.head()"
   ]
  },
  {
   "cell_type": "code",
   "execution_count": 8,
   "metadata": {
    "scrolled": true
   },
   "outputs": [
    {
     "name": "stdout",
     "output_type": "stream",
     "text": [
      "<class 'pandas.core.frame.DataFrame'>\n",
      "RangeIndex: 19439 entries, 0 to 19438\n",
      "Data columns (total 87 columns):\n",
      " #   Column                                              Non-Null Count  Dtype  \n",
      "---  ------                                              --------------  -----  \n",
      " 0   date                                                19439 non-null  object \n",
      " 1   final.output.concentrate_ag                         19438 non-null  float64\n",
      " 2   final.output.concentrate_pb                         19438 non-null  float64\n",
      " 3   final.output.concentrate_sol                        19228 non-null  float64\n",
      " 4   final.output.concentrate_au                         19439 non-null  float64\n",
      " 5   final.output.recovery                               19439 non-null  float64\n",
      " 6   final.output.tail_ag                                19438 non-null  float64\n",
      " 7   final.output.tail_pb                                19338 non-null  float64\n",
      " 8   final.output.tail_sol                               19433 non-null  float64\n",
      " 9   final.output.tail_au                                19439 non-null  float64\n",
      " 10  primary_cleaner.input.sulfate                       19415 non-null  float64\n",
      " 11  primary_cleaner.input.depressant                    19402 non-null  float64\n",
      " 12  primary_cleaner.input.feed_size                     19439 non-null  float64\n",
      " 13  primary_cleaner.input.xanthate                      19335 non-null  float64\n",
      " 14  primary_cleaner.output.concentrate_ag               19439 non-null  float64\n",
      " 15  primary_cleaner.output.concentrate_pb               19323 non-null  float64\n",
      " 16  primary_cleaner.output.concentrate_sol              19069 non-null  float64\n",
      " 17  primary_cleaner.output.concentrate_au               19439 non-null  float64\n",
      " 18  primary_cleaner.output.tail_ag                      19435 non-null  float64\n",
      " 19  primary_cleaner.output.tail_pb                      19418 non-null  float64\n",
      " 20  primary_cleaner.output.tail_sol                     19377 non-null  float64\n",
      " 21  primary_cleaner.output.tail_au                      19439 non-null  float64\n",
      " 22  primary_cleaner.state.floatbank8_a_air              19435 non-null  float64\n",
      " 23  primary_cleaner.state.floatbank8_a_level            19438 non-null  float64\n",
      " 24  primary_cleaner.state.floatbank8_b_air              19435 non-null  float64\n",
      " 25  primary_cleaner.state.floatbank8_b_level            19438 non-null  float64\n",
      " 26  primary_cleaner.state.floatbank8_c_air              19437 non-null  float64\n",
      " 27  primary_cleaner.state.floatbank8_c_level            19438 non-null  float64\n",
      " 28  primary_cleaner.state.floatbank8_d_air              19436 non-null  float64\n",
      " 29  primary_cleaner.state.floatbank8_d_level            19438 non-null  float64\n",
      " 30  rougher.calculation.sulfate_to_au_concentrate       19437 non-null  float64\n",
      " 31  rougher.calculation.floatbank10_sulfate_to_au_feed  19437 non-null  float64\n",
      " 32  rougher.calculation.floatbank11_sulfate_to_au_feed  19437 non-null  float64\n",
      " 33  rougher.calculation.au_pb_ratio                     19439 non-null  float64\n",
      " 34  rougher.input.feed_ag                               19439 non-null  float64\n",
      " 35  rougher.input.feed_pb                               19339 non-null  float64\n",
      " 36  rougher.input.feed_rate                             19428 non-null  float64\n",
      " 37  rougher.input.feed_size                             19294 non-null  float64\n",
      " 38  rougher.input.feed_sol                              19340 non-null  float64\n",
      " 39  rougher.input.feed_au                               19439 non-null  float64\n",
      " 40  rougher.input.floatbank10_sulfate                   19405 non-null  float64\n",
      " 41  rougher.input.floatbank10_xanthate                  19431 non-null  float64\n",
      " 42  rougher.input.floatbank11_sulfate                   19395 non-null  float64\n",
      " 43  rougher.input.floatbank11_xanthate                  18986 non-null  float64\n",
      " 44  rougher.output.concentrate_ag                       19439 non-null  float64\n",
      " 45  rougher.output.concentrate_pb                       19439 non-null  float64\n",
      " 46  rougher.output.concentrate_sol                      19416 non-null  float64\n",
      " 47  rougher.output.concentrate_au                       19439 non-null  float64\n",
      " 48  rougher.output.recovery                             19439 non-null  float64\n",
      " 49  rougher.output.tail_ag                              19438 non-null  float64\n",
      " 50  rougher.output.tail_pb                              19439 non-null  float64\n",
      " 51  rougher.output.tail_sol                             19439 non-null  float64\n",
      " 52  rougher.output.tail_au                              19439 non-null  float64\n",
      " 53  rougher.state.floatbank10_a_air                     19438 non-null  float64\n",
      " 54  rougher.state.floatbank10_a_level                   19438 non-null  float64\n",
      " 55  rougher.state.floatbank10_b_air                     19438 non-null  float64\n",
      " 56  rougher.state.floatbank10_b_level                   19438 non-null  float64\n",
      " 57  rougher.state.floatbank10_c_air                     19438 non-null  float64\n",
      " 58  rougher.state.floatbank10_c_level                   19438 non-null  float64\n",
      " 59  rougher.state.floatbank10_d_air                     19439 non-null  float64\n",
      " 60  rougher.state.floatbank10_d_level                   19439 non-null  float64\n",
      " 61  rougher.state.floatbank10_e_air                     19003 non-null  float64\n",
      " 62  rougher.state.floatbank10_e_level                   19439 non-null  float64\n",
      " 63  rougher.state.floatbank10_f_air                     19439 non-null  float64\n",
      " 64  rougher.state.floatbank10_f_level                   19439 non-null  float64\n",
      " 65  secondary_cleaner.output.tail_ag                    19437 non-null  float64\n",
      " 66  secondary_cleaner.output.tail_pb                    19427 non-null  float64\n",
      " 67  secondary_cleaner.output.tail_sol                   17691 non-null  float64\n",
      " 68  secondary_cleaner.output.tail_au                    19439 non-null  float64\n",
      " 69  secondary_cleaner.state.floatbank2_a_air            19219 non-null  float64\n",
      " 70  secondary_cleaner.state.floatbank2_a_level          19438 non-null  float64\n",
      " 71  secondary_cleaner.state.floatbank2_b_air            19416 non-null  float64\n",
      " 72  secondary_cleaner.state.floatbank2_b_level          19438 non-null  float64\n",
      " 73  secondary_cleaner.state.floatbank3_a_air            19426 non-null  float64\n",
      " 74  secondary_cleaner.state.floatbank3_a_level          19438 non-null  float64\n",
      " 75  secondary_cleaner.state.floatbank3_b_air            19438 non-null  float64\n",
      " 76  secondary_cleaner.state.floatbank3_b_level          19438 non-null  float64\n",
      " 77  secondary_cleaner.state.floatbank4_a_air            19433 non-null  float64\n",
      " 78  secondary_cleaner.state.floatbank4_a_level          19438 non-null  float64\n",
      " 79  secondary_cleaner.state.floatbank4_b_air            19438 non-null  float64\n",
      " 80  secondary_cleaner.state.floatbank4_b_level          19438 non-null  float64\n",
      " 81  secondary_cleaner.state.floatbank5_a_air            19438 non-null  float64\n",
      " 82  secondary_cleaner.state.floatbank5_a_level          19438 non-null  float64\n",
      " 83  secondary_cleaner.state.floatbank5_b_air            19438 non-null  float64\n",
      " 84  secondary_cleaner.state.floatbank5_b_level          19438 non-null  float64\n",
      " 85  secondary_cleaner.state.floatbank6_a_air            19437 non-null  float64\n",
      " 86  secondary_cleaner.state.floatbank6_a_level          19438 non-null  float64\n",
      "dtypes: float64(86), object(1)\n",
      "memory usage: 12.9+ MB\n"
     ]
    }
   ],
   "source": [
    "gold_recovery_full_new.info()"
   ]
  },
  {
   "cell_type": "markdown",
   "metadata": {},
   "source": [
    "Проверим правильность расчета эффективности обогащения"
   ]
  },
  {
   "cell_type": "code",
   "execution_count": 9,
   "metadata": {},
   "outputs": [
    {
     "data": {
      "text/plain": [
       "9.73512347450521e-15"
      ]
     },
     "execution_count": 9,
     "metadata": {},
     "output_type": "execute_result"
    }
   ],
   "source": [
    "c = gold_recovery_train_new['rougher.output.concentrate_au']\n",
    "f = gold_recovery_train_new['rougher.input.feed_au']\n",
    "t = gold_recovery_train_new['rougher.output.tail_au']\n",
    "\n",
    "recovery = (c * (f - t)) / (f * (c - t)) * 100\n",
    "MAE_recovery = (abs(recovery - gold_recovery_train_new['rougher.output.recovery'])).sum() / len(recovery)\n",
    "MAE_recovery"
   ]
  },
  {
   "cell_type": "markdown",
   "metadata": {},
   "source": [
    "Проверка показало что абсолютное отклонение нашей величины от рассчитанной составляет 9.73512347450521e-15, что является очень маленьким отклонением. Данные, которые были рассчитаны в датафрейме, можно считать верными "
   ]
  },
  {
   "cell_type": "markdown",
   "metadata": {},
   "source": [
    "Приступив к предобработке данных. Можно заметить что в тестовой выборке отсутствуют некоторые колонки, которые есть в обучающей выборке. Найдем такие колонки"
   ]
  },
  {
   "cell_type": "code",
   "execution_count": 10,
   "metadata": {
    "scrolled": true
   },
   "outputs": [
    {
     "data": {
      "text/plain": [
       "['final.output.concentrate_ag',\n",
       " 'final.output.concentrate_pb',\n",
       " 'final.output.concentrate_sol',\n",
       " 'final.output.concentrate_au',\n",
       " 'final.output.recovery',\n",
       " 'final.output.tail_ag',\n",
       " 'final.output.tail_pb',\n",
       " 'final.output.tail_sol',\n",
       " 'final.output.tail_au',\n",
       " 'primary_cleaner.output.concentrate_ag',\n",
       " 'primary_cleaner.output.concentrate_pb',\n",
       " 'primary_cleaner.output.concentrate_sol',\n",
       " 'primary_cleaner.output.concentrate_au',\n",
       " 'primary_cleaner.output.tail_ag',\n",
       " 'primary_cleaner.output.tail_pb',\n",
       " 'primary_cleaner.output.tail_sol',\n",
       " 'primary_cleaner.output.tail_au',\n",
       " 'rougher.calculation.sulfate_to_au_concentrate',\n",
       " 'rougher.calculation.floatbank10_sulfate_to_au_feed',\n",
       " 'rougher.calculation.floatbank11_sulfate_to_au_feed',\n",
       " 'rougher.calculation.au_pb_ratio',\n",
       " 'rougher.output.concentrate_ag',\n",
       " 'rougher.output.concentrate_pb',\n",
       " 'rougher.output.concentrate_sol',\n",
       " 'rougher.output.concentrate_au',\n",
       " 'rougher.output.recovery',\n",
       " 'rougher.output.tail_ag',\n",
       " 'rougher.output.tail_pb',\n",
       " 'rougher.output.tail_sol',\n",
       " 'rougher.output.tail_au',\n",
       " 'secondary_cleaner.output.tail_ag',\n",
       " 'secondary_cleaner.output.tail_pb',\n",
       " 'secondary_cleaner.output.tail_sol',\n",
       " 'secondary_cleaner.output.tail_au']"
      ]
     },
     "execution_count": 10,
     "metadata": {},
     "output_type": "execute_result"
    }
   ],
   "source": [
    "gold_recovery_train_new_columns = list(gold_recovery_train_new.columns)\n",
    "gold_recovery_test_new_columns = list(gold_recovery_test_new.columns)\n",
    "not_in_test_list = []\n",
    "\n",
    "for i in gold_recovery_train_new_columns:\n",
    "    if i not in gold_recovery_test_new_columns:\n",
    "        not_in_test_list.append(i)\n",
    "not_in_test_list"
   ]
  },
  {
   "cell_type": "markdown",
   "metadata": {},
   "source": [
    "Заметим, что в обучающей выборке отсутствуют выходные значения. Разница в том, что в train собраны исторические данные о состоянии техпроцесса, в том числе промежуточные и финальные его показатели. В test же есть только те признаки, которые доступны на старте техпроцесса - именно с ними может работать модель, потому что на старте техпроцесса других признаков мы не можем знать заранее."
   ]
  },
  {
   "cell_type": "markdown",
   "metadata": {},
   "source": [
    "Поскольку исходные данные уже разбиты на обучающую и тестовую выборку, то работать будем только с ними. Найдем все пропуски в обучающей и тестовой выборке "
   ]
  },
  {
   "cell_type": "code",
   "execution_count": 11,
   "metadata": {
    "scrolled": true
   },
   "outputs": [
    {
     "data": {
      "text/plain": [
       "date                                                     0\n",
       "final.output.concentrate_ag                              1\n",
       "final.output.concentrate_pb                              1\n",
       "final.output.concentrate_sol                           211\n",
       "final.output.concentrate_au                              0\n",
       "final.output.recovery                                    0\n",
       "final.output.tail_ag                                     0\n",
       "final.output.tail_pb                                   100\n",
       "final.output.tail_sol                                    5\n",
       "final.output.tail_au                                     0\n",
       "primary_cleaner.input.sulfate                           20\n",
       "primary_cleaner.input.depressant                        32\n",
       "primary_cleaner.input.feed_size                          0\n",
       "primary_cleaner.input.xanthate                         100\n",
       "primary_cleaner.output.concentrate_ag                    0\n",
       "primary_cleaner.output.concentrate_pb                   86\n",
       "primary_cleaner.output.concentrate_sol                 286\n",
       "primary_cleaner.output.concentrate_au                    0\n",
       "primary_cleaner.output.tail_ag                           1\n",
       "primary_cleaner.output.tail_pb                          15\n",
       "primary_cleaner.output.tail_sol                         46\n",
       "primary_cleaner.output.tail_au                           0\n",
       "primary_cleaner.state.floatbank8_a_air                   4\n",
       "primary_cleaner.state.floatbank8_a_level                 1\n",
       "primary_cleaner.state.floatbank8_b_air                   4\n",
       "primary_cleaner.state.floatbank8_b_level                 1\n",
       "primary_cleaner.state.floatbank8_c_air                   2\n",
       "primary_cleaner.state.floatbank8_c_level                 1\n",
       "primary_cleaner.state.floatbank8_d_air                   3\n",
       "primary_cleaner.state.floatbank8_d_level                 1\n",
       "rougher.calculation.sulfate_to_au_concentrate            1\n",
       "rougher.calculation.floatbank10_sulfate_to_au_feed       1\n",
       "rougher.calculation.floatbank11_sulfate_to_au_feed       1\n",
       "rougher.calculation.au_pb_ratio                          0\n",
       "rougher.input.feed_ag                                    0\n",
       "rougher.input.feed_pb                                  100\n",
       "rougher.input.feed_rate                                  8\n",
       "rougher.input.feed_size                                144\n",
       "rougher.input.feed_sol                                  78\n",
       "rougher.input.feed_au                                    0\n",
       "rougher.input.floatbank10_sulfate                       29\n",
       "rougher.input.floatbank10_xanthate                       8\n",
       "rougher.input.floatbank11_sulfate                       36\n",
       "rougher.input.floatbank11_xanthate                     428\n",
       "rougher.output.concentrate_ag                            0\n",
       "rougher.output.concentrate_pb                            0\n",
       "rougher.output.concentrate_sol                          22\n",
       "rougher.output.concentrate_au                            0\n",
       "rougher.output.recovery                                  0\n",
       "rougher.output.tail_ag                                   1\n",
       "rougher.output.tail_pb                                   0\n",
       "rougher.output.tail_sol                                  0\n",
       "rougher.output.tail_au                                   0\n",
       "rougher.state.floatbank10_a_air                          1\n",
       "rougher.state.floatbank10_a_level                        1\n",
       "rougher.state.floatbank10_b_air                          1\n",
       "rougher.state.floatbank10_b_level                        1\n",
       "rougher.state.floatbank10_c_air                          1\n",
       "rougher.state.floatbank10_c_level                        1\n",
       "rougher.state.floatbank10_d_air                          0\n",
       "rougher.state.floatbank10_d_level                        0\n",
       "rougher.state.floatbank10_e_air                        436\n",
       "rougher.state.floatbank10_e_level                        0\n",
       "rougher.state.floatbank10_f_air                          0\n",
       "rougher.state.floatbank10_f_level                        0\n",
       "secondary_cleaner.output.tail_ag                         2\n",
       "secondary_cleaner.output.tail_pb                        10\n",
       "secondary_cleaner.output.tail_sol                     1605\n",
       "secondary_cleaner.output.tail_au                         0\n",
       "secondary_cleaner.state.floatbank2_a_air               217\n",
       "secondary_cleaner.state.floatbank2_a_level               1\n",
       "secondary_cleaner.state.floatbank2_b_air                21\n",
       "secondary_cleaner.state.floatbank2_b_level               1\n",
       "secondary_cleaner.state.floatbank3_a_air                 4\n",
       "secondary_cleaner.state.floatbank3_a_level               1\n",
       "secondary_cleaner.state.floatbank3_b_air                 1\n",
       "secondary_cleaner.state.floatbank3_b_level               1\n",
       "secondary_cleaner.state.floatbank4_a_air                 6\n",
       "secondary_cleaner.state.floatbank4_a_level               1\n",
       "secondary_cleaner.state.floatbank4_b_air                 1\n",
       "secondary_cleaner.state.floatbank4_b_level               1\n",
       "secondary_cleaner.state.floatbank5_a_air                 1\n",
       "secondary_cleaner.state.floatbank5_a_level               1\n",
       "secondary_cleaner.state.floatbank5_b_air                 1\n",
       "secondary_cleaner.state.floatbank5_b_level               1\n",
       "secondary_cleaner.state.floatbank6_a_air                 2\n",
       "secondary_cleaner.state.floatbank6_a_level               1\n",
       "dtype: int64"
      ]
     },
     "execution_count": 11,
     "metadata": {},
     "output_type": "execute_result"
    }
   ],
   "source": [
    "gold_recovery_train_new.isna().sum()"
   ]
  },
  {
   "cell_type": "code",
   "execution_count": 12,
   "metadata": {
    "scrolled": true
   },
   "outputs": [
    {
     "data": {
      "text/plain": [
       "date                                           0\n",
       "primary_cleaner.input.sulfate                  4\n",
       "primary_cleaner.input.depressant               5\n",
       "primary_cleaner.input.feed_size                0\n",
       "primary_cleaner.input.xanthate                 4\n",
       "primary_cleaner.state.floatbank8_a_air         0\n",
       "primary_cleaner.state.floatbank8_a_level       0\n",
       "primary_cleaner.state.floatbank8_b_air         0\n",
       "primary_cleaner.state.floatbank8_b_level       0\n",
       "primary_cleaner.state.floatbank8_c_air         0\n",
       "primary_cleaner.state.floatbank8_c_level       0\n",
       "primary_cleaner.state.floatbank8_d_air         0\n",
       "primary_cleaner.state.floatbank8_d_level       0\n",
       "rougher.input.feed_ag                          0\n",
       "rougher.input.feed_pb                          0\n",
       "rougher.input.feed_rate                        3\n",
       "rougher.input.feed_size                        1\n",
       "rougher.input.feed_sol                        21\n",
       "rougher.input.feed_au                          0\n",
       "rougher.input.floatbank10_sulfate              5\n",
       "rougher.input.floatbank10_xanthate             0\n",
       "rougher.input.floatbank11_sulfate              8\n",
       "rougher.input.floatbank11_xanthate            25\n",
       "rougher.state.floatbank10_a_air                0\n",
       "rougher.state.floatbank10_a_level              0\n",
       "rougher.state.floatbank10_b_air                0\n",
       "rougher.state.floatbank10_b_level              0\n",
       "rougher.state.floatbank10_c_air                0\n",
       "rougher.state.floatbank10_c_level              0\n",
       "rougher.state.floatbank10_d_air                0\n",
       "rougher.state.floatbank10_d_level              0\n",
       "rougher.state.floatbank10_e_air                0\n",
       "rougher.state.floatbank10_e_level              0\n",
       "rougher.state.floatbank10_f_air                0\n",
       "rougher.state.floatbank10_f_level              0\n",
       "secondary_cleaner.state.floatbank2_a_air       3\n",
       "secondary_cleaner.state.floatbank2_a_level     0\n",
       "secondary_cleaner.state.floatbank2_b_air       2\n",
       "secondary_cleaner.state.floatbank2_b_level     0\n",
       "secondary_cleaner.state.floatbank3_a_air       9\n",
       "secondary_cleaner.state.floatbank3_a_level     0\n",
       "secondary_cleaner.state.floatbank3_b_air       0\n",
       "secondary_cleaner.state.floatbank3_b_level     0\n",
       "secondary_cleaner.state.floatbank4_a_air       0\n",
       "secondary_cleaner.state.floatbank4_a_level     0\n",
       "secondary_cleaner.state.floatbank4_b_air       0\n",
       "secondary_cleaner.state.floatbank4_b_level     0\n",
       "secondary_cleaner.state.floatbank5_a_air       0\n",
       "secondary_cleaner.state.floatbank5_a_level     0\n",
       "secondary_cleaner.state.floatbank5_b_air       0\n",
       "secondary_cleaner.state.floatbank5_b_level     0\n",
       "secondary_cleaner.state.floatbank6_a_air       0\n",
       "secondary_cleaner.state.floatbank6_a_level     0\n",
       "dtype: int64"
      ]
     },
     "execution_count": 12,
     "metadata": {},
     "output_type": "execute_result"
    }
   ],
   "source": [
    "gold_recovery_test_new.isna().sum()"
   ]
  },
  {
   "cell_type": "markdown",
   "metadata": {},
   "source": [
    "Удалим из обучающей выбоки столбцы, которые отсутствуют в тестовой выбоки. Оставим только таргетные признаки "
   ]
  },
  {
   "cell_type": "code",
   "execution_count": 13,
   "metadata": {},
   "outputs": [],
   "source": [
    "del not_in_test_list[not_in_test_list.index('rougher.output.recovery')]\n",
    "del not_in_test_list[not_in_test_list.index('final.output.recovery')]\n",
    "\n",
    "gold_recovery_train_new_remove = gold_recovery_train_new.drop(not_in_test_list, axis=1)"
   ]
  },
  {
   "cell_type": "markdown",
   "metadata": {},
   "source": [
    "Добавим в тестовую выборку таргетные значения"
   ]
  },
  {
   "cell_type": "code",
   "execution_count": 14,
   "metadata": {
    "scrolled": true
   },
   "outputs": [
    {
     "name": "stdout",
     "output_type": "stream",
     "text": [
      "<class 'pandas.core.frame.DataFrame'>\n",
      "Int64Index: 5290 entries, 0 to 5289\n",
      "Data columns (total 55 columns):\n",
      " #   Column                                      Non-Null Count  Dtype         \n",
      "---  ------                                      --------------  -----         \n",
      " 0   date                                        5290 non-null   datetime64[ns]\n",
      " 1   primary_cleaner.input.sulfate               5286 non-null   float64       \n",
      " 2   primary_cleaner.input.depressant            5285 non-null   float64       \n",
      " 3   primary_cleaner.input.feed_size             5290 non-null   float64       \n",
      " 4   primary_cleaner.input.xanthate              5286 non-null   float64       \n",
      " 5   primary_cleaner.state.floatbank8_a_air      5290 non-null   float64       \n",
      " 6   primary_cleaner.state.floatbank8_a_level    5290 non-null   float64       \n",
      " 7   primary_cleaner.state.floatbank8_b_air      5290 non-null   float64       \n",
      " 8   primary_cleaner.state.floatbank8_b_level    5290 non-null   float64       \n",
      " 9   primary_cleaner.state.floatbank8_c_air      5290 non-null   float64       \n",
      " 10  primary_cleaner.state.floatbank8_c_level    5290 non-null   float64       \n",
      " 11  primary_cleaner.state.floatbank8_d_air      5290 non-null   float64       \n",
      " 12  primary_cleaner.state.floatbank8_d_level    5290 non-null   float64       \n",
      " 13  rougher.input.feed_ag                       5290 non-null   float64       \n",
      " 14  rougher.input.feed_pb                       5290 non-null   float64       \n",
      " 15  rougher.input.feed_rate                     5287 non-null   float64       \n",
      " 16  rougher.input.feed_size                     5289 non-null   float64       \n",
      " 17  rougher.input.feed_sol                      5269 non-null   float64       \n",
      " 18  rougher.input.feed_au                       5290 non-null   float64       \n",
      " 19  rougher.input.floatbank10_sulfate           5285 non-null   float64       \n",
      " 20  rougher.input.floatbank10_xanthate          5290 non-null   float64       \n",
      " 21  rougher.input.floatbank11_sulfate           5282 non-null   float64       \n",
      " 22  rougher.input.floatbank11_xanthate          5265 non-null   float64       \n",
      " 23  rougher.state.floatbank10_a_air             5290 non-null   float64       \n",
      " 24  rougher.state.floatbank10_a_level           5290 non-null   float64       \n",
      " 25  rougher.state.floatbank10_b_air             5290 non-null   float64       \n",
      " 26  rougher.state.floatbank10_b_level           5290 non-null   float64       \n",
      " 27  rougher.state.floatbank10_c_air             5290 non-null   float64       \n",
      " 28  rougher.state.floatbank10_c_level           5290 non-null   float64       \n",
      " 29  rougher.state.floatbank10_d_air             5290 non-null   float64       \n",
      " 30  rougher.state.floatbank10_d_level           5290 non-null   float64       \n",
      " 31  rougher.state.floatbank10_e_air             5290 non-null   float64       \n",
      " 32  rougher.state.floatbank10_e_level           5290 non-null   float64       \n",
      " 33  rougher.state.floatbank10_f_air             5290 non-null   float64       \n",
      " 34  rougher.state.floatbank10_f_level           5290 non-null   float64       \n",
      " 35  secondary_cleaner.state.floatbank2_a_air    5287 non-null   float64       \n",
      " 36  secondary_cleaner.state.floatbank2_a_level  5290 non-null   float64       \n",
      " 37  secondary_cleaner.state.floatbank2_b_air    5288 non-null   float64       \n",
      " 38  secondary_cleaner.state.floatbank2_b_level  5290 non-null   float64       \n",
      " 39  secondary_cleaner.state.floatbank3_a_air    5281 non-null   float64       \n",
      " 40  secondary_cleaner.state.floatbank3_a_level  5290 non-null   float64       \n",
      " 41  secondary_cleaner.state.floatbank3_b_air    5290 non-null   float64       \n",
      " 42  secondary_cleaner.state.floatbank3_b_level  5290 non-null   float64       \n",
      " 43  secondary_cleaner.state.floatbank4_a_air    5290 non-null   float64       \n",
      " 44  secondary_cleaner.state.floatbank4_a_level  5290 non-null   float64       \n",
      " 45  secondary_cleaner.state.floatbank4_b_air    5290 non-null   float64       \n",
      " 46  secondary_cleaner.state.floatbank4_b_level  5290 non-null   float64       \n",
      " 47  secondary_cleaner.state.floatbank5_a_air    5290 non-null   float64       \n",
      " 48  secondary_cleaner.state.floatbank5_a_level  5290 non-null   float64       \n",
      " 49  secondary_cleaner.state.floatbank5_b_air    5290 non-null   float64       \n",
      " 50  secondary_cleaner.state.floatbank5_b_level  5290 non-null   float64       \n",
      " 51  secondary_cleaner.state.floatbank6_a_air    5290 non-null   float64       \n",
      " 52  secondary_cleaner.state.floatbank6_a_level  5290 non-null   float64       \n",
      " 53  rougher.output.recovery                     5290 non-null   float64       \n",
      " 54  final.output.recovery                       5290 non-null   float64       \n",
      "dtypes: datetime64[ns](1), float64(54)\n",
      "memory usage: 2.3 MB\n"
     ]
    }
   ],
   "source": [
    "pd.options.mode.chained_assignment = None\n",
    "gold_recovery_full_new_target = gold_recovery_full_new[['date', 'rougher.output.recovery', 'final.output.recovery']]\n",
    "gold_recovery_full_new_target['date'] = pd.to_datetime(gold_recovery_full_new_target['date'], format='%Y-%m-%d %H:%M:%S')\n",
    "gold_recovery_test_new['date'] = pd.to_datetime(gold_recovery_test_new['date'], format='%Y-%m-%d %H:%M:%S')\n",
    "gold_recovery_test_new = gold_recovery_test_new.merge(gold_recovery_full_new_target, on='date', how='left')\n",
    "gold_recovery_test_new.info()"
   ]
  },
  {
   "cell_type": "markdown",
   "metadata": {},
   "source": [
    "Удалим все строчки с пропусками в обучающей и тестовой выборке чтобы не добавлять искусственные данные в датафрейм     "
   ]
  },
  {
   "cell_type": "code",
   "execution_count": 15,
   "metadata": {},
   "outputs": [
    {
     "data": {
      "text/plain": [
       "10.389426814615877"
      ]
     },
     "execution_count": 15,
     "metadata": {},
     "output_type": "execute_result"
    }
   ],
   "source": [
    "first_shape_train = gold_recovery_train_new_remove.shape[0]\n",
    "gold_recovery_train_new_remove.isna().sum()\n",
    "gold_recovery_train_new_remove = gold_recovery_train_new_remove.dropna()\n",
    "second_shape_train = gold_recovery_train_new_remove.shape[0]\n",
    "procent_remove_row = (1 - second_shape_train / first_shape_train) * 100\n",
    "procent_remove_row"
   ]
  },
  {
   "cell_type": "code",
   "execution_count": 16,
   "metadata": {},
   "outputs": [
    {
     "data": {
      "text/plain": [
       "1.153119092627597"
      ]
     },
     "execution_count": 16,
     "metadata": {},
     "output_type": "execute_result"
    }
   ],
   "source": [
    "first_shape_test = gold_recovery_test_new.shape[0]\n",
    "gold_recovery_test_new_remove = gold_recovery_test_new.dropna()\n",
    "second_shape_test = gold_recovery_test_new_remove.shape[0]\n",
    "procent_remove_row_test = (1 - second_shape_test / first_shape_test) * 100\n",
    "procent_remove_row_test"
   ]
  },
  {
   "cell_type": "markdown",
   "metadata": {},
   "source": [
    "Общая сумма удаленных строчек составило 11%, что весомо, но не сильно критично.    "
   ]
  },
  {
   "cell_type": "markdown",
   "metadata": {},
   "source": [
    "Проверим данные на дубликаты"
   ]
  },
  {
   "cell_type": "code",
   "execution_count": 17,
   "metadata": {},
   "outputs": [
    {
     "data": {
      "text/plain": [
       "(0, 0)"
      ]
     },
     "execution_count": 17,
     "metadata": {},
     "output_type": "execute_result"
    }
   ],
   "source": [
    "gold_recovery_train_new_remove.duplicated().sum(), gold_recovery_test_new_remove.duplicated().sum(), "
   ]
  },
  {
   "cell_type": "markdown",
   "metadata": {},
   "source": [
    "Дубликаты не обнаружены       "
   ]
  },
  {
   "cell_type": "markdown",
   "metadata": {},
   "source": [
    "**В данном разделе были подгружены необходимые датафреймы для обучения модели. Посчитали правильность расчета эффективности обогащения и определили, что в тестовой выборке отсутствуют выходные величины. Добавили таргетные признаки в тестовую выборку. Удалены все пропуски и произведена проверка на дубликаты.**"
   ]
  },
  {
   "cell_type": "markdown",
   "metadata": {},
   "source": [
    "## Анализ данных"
   ]
  },
  {
   "cell_type": "markdown",
   "metadata": {},
   "source": [
    "Посмотрим, как меняется концентрация металлов (Au, Ag, Pb) на различных этапах очистки"
   ]
  },
  {
   "cell_type": "markdown",
   "metadata": {},
   "source": [
    "Построим гистограммы для концентрации Au на разных этапах"
   ]
  },
  {
   "cell_type": "code",
   "execution_count": 18,
   "metadata": {},
   "outputs": [
    {
     "data": {
      "image/png": "[encoded data removed]",
      "text/plain": [
       "<Figure size 1296x648 with 1 Axes>"
      ]
     },
     "metadata": {},
     "output_type": "display_data"
    }
   ],
   "source": [
    "sns.set(rc={'figure.figsize':(18,9)})\n",
    "gold_recovery_train_new['rougher.input.feed_au'].hist(bins=20)\n",
    "plt.title('Концентрация Au до флотации');\n",
    "plt.xlabel('Корзины')\n",
    "plt.ylabel('Концентрация Au');"
   ]
  },
  {
   "cell_type": "code",
   "execution_count": 19,
   "metadata": {},
   "outputs": [
    {
     "data": {
      "image/png": "[encoded data removed]",
      "text/plain": [
       "<Figure size 1296x648 with 1 Axes>"
      ]
     },
     "metadata": {},
     "output_type": "display_data"
    }
   ],
   "source": [
    "gold_recovery_train_new['rougher.output.concentrate_au'].hist(bins=20)\n",
    "plt.title('Концентрация Au до первого этапа очистки');\n",
    "plt.xlabel('Корзины')\n",
    "plt.ylabel('Концентрация Au');"
   ]
  },
  {
   "cell_type": "code",
   "execution_count": 20,
   "metadata": {},
   "outputs": [
    {
     "data": {
      "image/png": "[encoded data removed]",
      "text/plain": [
       "<Figure size 1296x648 with 1 Axes>"
      ]
     },
     "metadata": {},
     "output_type": "display_data"
    }
   ],
   "source": [
    "gold_recovery_train_new['primary_cleaner.output.concentrate_au'].hist(bins=20)\n",
    "plt.title('Концентрация Au до второго этапа очистки');\n",
    "plt.xlabel('Корзины')\n",
    "plt.ylabel('Концентрация Au');"
   ]
  },
  {
   "cell_type": "code",
   "execution_count": 21,
   "metadata": {
    "scrolled": false
   },
   "outputs": [
    {
     "data": {
      "image/png": "[encoded data removed]",
      "text/plain": [
       "<Figure size 1296x648 with 1 Axes>"
      ]
     },
     "metadata": {},
     "output_type": "display_data"
    }
   ],
   "source": [
    "gold_recovery_train_new['final.output.concentrate_au'].hist(bins=20)\n",
    "plt.title('Финальная Концентрация Au');\n",
    "plt.xlabel('Корзины')\n",
    "plt.ylabel('Концентрация Au');"
   ]
  },
  {
   "cell_type": "markdown",
   "metadata": {},
   "source": [
    "**Из графиков видно, что наибольшая общая концентрация метала Au на финальной стадии, и концентрация увеличивается с каждым этапом очистки**"
   ]
  },
  {
   "cell_type": "markdown",
   "metadata": {},
   "source": [
    "Построим график для концентрации Ag"
   ]
  },
  {
   "cell_type": "code",
   "execution_count": 22,
   "metadata": {},
   "outputs": [
    {
     "data": {
      "image/png": "[encoded data removed]",
      "text/plain": [
       "<Figure size 1296x648 with 1 Axes>"
      ]
     },
     "metadata": {},
     "output_type": "display_data"
    }
   ],
   "source": [
    "gold_recovery_train_new['rougher.input.feed_ag'].hist(bins=20)\n",
    "plt.title('Концентрация Ag до флотации');\n",
    "plt.xlabel('Корзины')\n",
    "plt.ylabel('Концентрация Ag');"
   ]
  },
  {
   "cell_type": "code",
   "execution_count": 23,
   "metadata": {},
   "outputs": [
    {
     "data": {
      "image/png": "[encoded data removed]",
      "text/plain": [
       "<Figure size 1296x648 with 1 Axes>"
      ]
     },
     "metadata": {},
     "output_type": "display_data"
    }
   ],
   "source": [
    "gold_recovery_train_new['rougher.output.concentrate_ag'].hist(bins=20)\n",
    "plt.title('Концентрация Ag до первого этапа очистки');\n",
    "plt.xlabel('Корзины')\n",
    "plt.ylabel('Концентрация Ag');"
   ]
  },
  {
   "cell_type": "code",
   "execution_count": 24,
   "metadata": {},
   "outputs": [
    {
     "data": {
      "image/png": "[encoded data removed]",
      "text/plain": [
       "<Figure size 1296x648 with 1 Axes>"
      ]
     },
     "metadata": {},
     "output_type": "display_data"
    }
   ],
   "source": [
    "gold_recovery_train_new['primary_cleaner.output.concentrate_ag'].hist(bins=20)\n",
    "plt.title('Концентрация Ag до второго этапа очистки');\n",
    "plt.xlabel('Корзины')\n",
    "plt.ylabel('Концентрация Ag');"
   ]
  },
  {
   "cell_type": "code",
   "execution_count": 25,
   "metadata": {},
   "outputs": [
    {
     "data": {
      "image/png": "[encoded data removed]",
      "text/plain": [
       "<Figure size 1296x648 with 1 Axes>"
      ]
     },
     "metadata": {},
     "output_type": "display_data"
    }
   ],
   "source": [
    "gold_recovery_train_new['final.output.concentrate_ag'].hist(bins=20)\n",
    "plt.title('Финальная Концентрация Ag');\n",
    "plt.xlabel('Корзины')\n",
    "plt.ylabel('Концентрация Ag');"
   ]
  },
  {
   "cell_type": "markdown",
   "metadata": {},
   "source": [
    "**Из графиков видно, что наибольшая общая концентрация метала Ag на стадии перед первым этапом очистки и концентрация уменьшается с каждым этапом очистки после флотации**"
   ]
  },
  {
   "cell_type": "markdown",
   "metadata": {},
   "source": [
    "Построим график для концентрации Pb"
   ]
  },
  {
   "cell_type": "code",
   "execution_count": 26,
   "metadata": {},
   "outputs": [
    {
     "data": {
      "image/png": "[encoded data removed]",
      "text/plain": [
       "<Figure size 1296x648 with 1 Axes>"
      ]
     },
     "metadata": {},
     "output_type": "display_data"
    }
   ],
   "source": [
    "gold_recovery_train_new['rougher.input.feed_pb'].hist(bins=20)\n",
    "plt.title('Концентрация Pb до флотации');\n",
    "plt.xlabel('Корзины')\n",
    "plt.ylabel('Концентрация Pb');"
   ]
  },
  {
   "cell_type": "code",
   "execution_count": 27,
   "metadata": {},
   "outputs": [
    {
     "data": {
      "image/png": "[encoded data removed]",
      "text/plain": [
       "<Figure size 1296x648 with 1 Axes>"
      ]
     },
     "metadata": {},
     "output_type": "display_data"
    }
   ],
   "source": [
    "gold_recovery_train_new['rougher.output.concentrate_pb'].hist(bins=20)\n",
    "plt.title('Концентрация Pb до первого этапа очистки');\n",
    "plt.xlabel('Корзины')\n",
    "plt.ylabel('Концентрация Pb');"
   ]
  },
  {
   "cell_type": "code",
   "execution_count": 28,
   "metadata": {},
   "outputs": [
    {
     "data": {
      "image/png": "[encoded data removed]",
      "text/plain": [
       "<Figure size 1296x648 with 1 Axes>"
      ]
     },
     "metadata": {},
     "output_type": "display_data"
    }
   ],
   "source": [
    "gold_recovery_train_new['primary_cleaner.output.concentrate_pb'].hist(bins=20)\n",
    "plt.title('Концентрация Pb до второго этапа очистки');\n",
    "plt.xlabel('Корзины')\n",
    "plt.ylabel('Концентрация Pb');"
   ]
  },
  {
   "cell_type": "code",
   "execution_count": 29,
   "metadata": {},
   "outputs": [
    {
     "data": {
      "image/png": "[encoded data removed]",
      "text/plain": [
       "<Figure size 1296x648 with 1 Axes>"
      ]
     },
     "metadata": {},
     "output_type": "display_data"
    }
   ],
   "source": [
    "gold_recovery_train_new['final.output.concentrate_pb'].hist(bins=20)\n",
    "plt.title('Финальная Концентрация Pb');\n",
    "plt.xlabel('Корзины')\n",
    "plt.ylabel('Концентрация Pb');"
   ]
  },
  {
   "cell_type": "markdown",
   "metadata": {},
   "source": [
    "**Из графиков видно, что наибольшая общая концентрация метала Pb на финальной стадии, и концентрация увеличивается с каждым этапом очистки**"
   ]
  },
  {
   "cell_type": "markdown",
   "metadata": {},
   "source": [
    "Сравним распределения размеров гранул сырья на обучающей и тестовой выборках"
   ]
  },
  {
   "cell_type": "code",
   "execution_count": 30,
   "metadata": {
    "scrolled": false
   },
   "outputs": [
    {
     "data": {
      "image/png": "[encoded data removed]",
      "text/plain": [
       "<Figure size 1296x648 with 1 Axes>"
      ]
     },
     "metadata": {},
     "output_type": "display_data"
    }
   ],
   "source": [
    "sns.kdeplot(data=gold_recovery_train_new_remove['rougher.input.feed_size'])\n",
    "sns.kdeplot(data=gold_recovery_test_new_remove['rougher.input.feed_size']).set_xlabel('Размер гранул сырья')\n",
    "plt.title('Распределение размеров гранул сырья на обучающей и тестовой выборках перед флотацией');"
   ]
  },
  {
   "cell_type": "code",
   "execution_count": 31,
   "metadata": {},
   "outputs": [
    {
     "data": {
      "image/png": "[encoded data removed]",
      "text/plain": [
       "<Figure size 1296x648 with 1 Axes>"
      ]
     },
     "metadata": {},
     "output_type": "display_data"
    }
   ],
   "source": [
    "sns.kdeplot(data=gold_recovery_train_new_remove['primary_cleaner.input.feed_size'])\n",
    "sns.kdeplot(data=gold_recovery_test_new_remove['primary_cleaner.input.feed_size']).set_xlabel('Размер гранул сырья')\n",
    "plt.title('Распределение размеров гранул сырья на обучающей и тестовой выборках перед первым этапом очистки');"
   ]
  },
  {
   "cell_type": "markdown",
   "metadata": {},
   "source": [
    "Из графиков видно, что распределения повторяют друг друга. Можно сказать, что распределения не отличаются "
   ]
  },
  {
   "cell_type": "markdown",
   "metadata": {},
   "source": [
    "Исследуем суммарную концентрацию всех веществ на разных стадиях: в сырье, в черновом и финальном концентратах. "
   ]
  },
  {
   "cell_type": "code",
   "execution_count": 32,
   "metadata": {},
   "outputs": [],
   "source": [
    "concentration_feedstock = pd.DataFrame(gold_recovery_train_new['rougher.input.feed_ag'] + \\\n",
    "gold_recovery_train_new['rougher.input.feed_au'] + \\\n",
    "gold_recovery_train_new['rougher.input.feed_pb'], columns=['feedstock'])\n",
    "\n",
    "concentration_rough = pd.DataFrame(gold_recovery_train_new['rougher.output.concentrate_ag'] + \\\n",
    "gold_recovery_train_new['rougher.output.concentrate_au'] + \\\n",
    "gold_recovery_train_new['rougher.output.concentrate_pb'], columns=['rough'])\n",
    "\n",
    "concentration_final = pd.DataFrame(gold_recovery_train_new['final.output.concentrate_ag'] + \\\n",
    "gold_recovery_train_new['final.output.concentrate_au'] + \\\n",
    "gold_recovery_train_new['final.output.concentrate_pb'], columns=['final'])"
   ]
  },
  {
   "cell_type": "code",
   "execution_count": 33,
   "metadata": {
    "scrolled": false
   },
   "outputs": [
    {
     "data": {
      "image/png": "[encoded data removed]",
      "text/plain": [
       "<Figure size 1296x648 with 1 Axes>"
      ]
     },
     "metadata": {},
     "output_type": "display_data"
    }
   ],
   "source": [
    "concentration_feedstock.hist(bins=20);\n",
    "plt.title('Суммарная концентрация металлов до флотации')\n",
    "plt.xlabel('Корзины')\n",
    "plt.ylabel('Суммарная концентрация металлов');"
   ]
  },
  {
   "cell_type": "code",
   "execution_count": 34,
   "metadata": {},
   "outputs": [
    {
     "data": {
      "image/png": "[encoded data removed]",
      "text/plain": [
       "<Figure size 1296x648 with 1 Axes>"
      ]
     },
     "metadata": {},
     "output_type": "display_data"
    }
   ],
   "source": [
    "concentration_rough.hist(bins=20);\n",
    "plt.title('Суммарная концентрация металлов после флотации')\n",
    "plt.xlabel('Корзины')\n",
    "plt.ylabel('Суммарная концентрация металлов');"
   ]
  },
  {
   "cell_type": "code",
   "execution_count": 35,
   "metadata": {
    "scrolled": false
   },
   "outputs": [
    {
     "data": {
      "image/png": "[encoded data removed]",
      "text/plain": [
       "<Figure size 1296x648 with 1 Axes>"
      ]
     },
     "metadata": {},
     "output_type": "display_data"
    }
   ],
   "source": [
    "concentration_final.hist(bins=20);\n",
    "plt.title('Финальная суммарная концентрация металлов')\n",
    "plt.xlabel('Корзины')\n",
    "plt.ylabel('Суммарная концентрация металлов');"
   ]
  },
  {
   "cell_type": "code",
   "execution_count": 36,
   "metadata": {
    "scrolled": false
   },
   "outputs": [
    {
     "data": {
      "image/png": "[encoded data removed]",
      "text/plain": [
       "<Figure size 1296x648 with 1 Axes>"
      ]
     },
     "metadata": {},
     "output_type": "display_data"
    }
   ],
   "source": [
    "sns.boxplot(data=[concentration_feedstock,concentration_rough,concentration_final])\n",
    "plt.title('\"Ящик с усами\" для концентации металлов на различных этапах')\n",
    "plt.xlabel('Этапы очистки')\n",
    "plt.ylabel('Распределение значений');"
   ]
  },
  {
   "cell_type": "markdown",
   "metadata": {},
   "source": [
    "**Из графиков видно, что концентрация увеличивается с каждым этапом обработки и ее максимальное значение находится в финальном виде. Также можно заметить большое количество выбросов для значений финальной концентрации. Найдем все значения, которые в сумме равны нулю и уберем их.**"
   ]
  },
  {
   "cell_type": "code",
   "execution_count": 37,
   "metadata": {
    "scrolled": false
   },
   "outputs": [
    {
     "data": {
      "text/plain": [
       "(feedstock    0\n",
       " dtype: int64,\n",
       " rough    297\n",
       " dtype: int64,\n",
       " final    58\n",
       " dtype: int64)"
      ]
     },
     "execution_count": 37,
     "metadata": {},
     "output_type": "execute_result"
    }
   ],
   "source": [
    "concentration_feedstock.loc[concentration_feedstock['feedstock'] == 0].count(), \\\n",
    "concentration_rough.loc[concentration_rough['rough'] == 0].count(), \\\n",
    "concentration_final.loc[concentration_final['final'] == 0].count()"
   ]
  },
  {
   "cell_type": "markdown",
   "metadata": {},
   "source": [
    "Суммарные нулевые значения действительно есть, удалим их"
   ]
  },
  {
   "cell_type": "code",
   "execution_count": 38,
   "metadata": {},
   "outputs": [],
   "source": [
    "row_sum_zero = []\n",
    "for i in range(0, len(gold_recovery_train_new)):\n",
    "    if (gold_recovery_train_new.loc[i,'rougher.output.concentrate_ag'] == 0 \\\n",
    "    and gold_recovery_train_new.loc[i,'rougher.output.concentrate_au'] == 0 \\\n",
    "    and gold_recovery_train_new.loc[i,'rougher.output.concentrate_pb'] == 0) \\\n",
    "    or (gold_recovery_train_new.loc[i,'final.output.concentrate_ag'] == 0 \\\n",
    "    and gold_recovery_train_new.loc[i,'final.output.concentrate_au'] == 0 \\\n",
    "    and gold_recovery_train_new.loc[i,'final.output.concentrate_pb'] == 0):\n",
    "        row_sum_zero.append(i)\n",
    "gold_recovery_train_new = gold_recovery_train_new.drop(labels=row_sum_zero, axis=0)"
   ]
  },
  {
   "cell_type": "markdown",
   "metadata": {},
   "source": [
    "**В данном разделе был произведен анализ: концентрации металлов на различных этапах очистки, распределения гранул сырья на обучающей и тестовой выборах, суммарной концентрации всех веществ на разных стадиях очистки. Нашли суммарные нулевые значения и удалили их из обучающей выборки.**"
   ]
  },
  {
   "cell_type": "markdown",
   "metadata": {},
   "source": [
    "## Модель"
   ]
  },
  {
   "cell_type": "markdown",
   "metadata": {},
   "source": [
    "Напишем функцию для вычисления итоговой sMAPE"
   ]
  },
  {
   "cell_type": "code",
   "execution_count": 39,
   "metadata": {},
   "outputs": [],
   "source": [
    "def sMAPE_func(x_true, x_pred):\n",
    "    x_true = x_true.reset_index()\n",
    "    x_pred = pd.DataFrame(x_pred, columns=['rougher.output.recovery_pred','final.output.recovery_pred'])\n",
    "    smape_rougher = (\n",
    "        ((abs(x_true['rougher.output.recovery'] - x_pred['rougher.output.recovery_pred'])) / \\\n",
    "        ((abs(x_true['rougher.output.recovery']) + abs(x_pred['rougher.output.recovery_pred'])) / 2)).sum() / \\\n",
    "        len(x_true['rougher.output.recovery']) \\\n",
    "        ) * 100\n",
    "    smape_final = (\n",
    "        ((abs(x_true['final.output.recovery'] - x_pred['final.output.recovery_pred'])) / \\\n",
    "        ((abs(x_true['final.output.recovery']) + abs(x_pred['final.output.recovery_pred'])) / 2)).sum() / \\\n",
    "        len(x_true['final.output.recovery']) \\\n",
    "        ) * 100\n",
    "    total_smape = 0.25 * smape_rougher + 0.75 * smape_final\n",
    "    return total_smape"
   ]
  },
  {
   "cell_type": "markdown",
   "metadata": {},
   "source": [
    "Разобьем наши выборки на обучающую и целевую выборку."
   ]
  },
  {
   "cell_type": "code",
   "execution_count": 40,
   "metadata": {},
   "outputs": [],
   "source": [
    "features_train = gold_recovery_train_new_remove.drop(['rougher.output.recovery', 'final.output.recovery', 'date'], axis=1)\n",
    "target_train = gold_recovery_train_new_remove[['rougher.output.recovery', 'final.output.recovery']]\n",
    "features_test = gold_recovery_test_new_remove.drop(['rougher.output.recovery', 'final.output.recovery', 'date'], axis=1)\n",
    "target_test = gold_recovery_test_new_remove[['rougher.output.recovery', 'final.output.recovery']]"
   ]
  },
  {
   "cell_type": "markdown",
   "metadata": {},
   "source": [
    "Обучим модель регрессии и посчитаем качество модели"
   ]
  },
  {
   "cell_type": "code",
   "execution_count": 41,
   "metadata": {
    "scrolled": false
   },
   "outputs": [
    {
     "name": "stdout",
     "output_type": "stream",
     "text": [
      "sMAPE модели: 12.064889586727903\n"
     ]
    }
   ],
   "source": [
    "model = LinearRegression()\n",
    "smape = make_scorer(sMAPE_func, greater_is_better=False)\n",
    "cv_linear_regression = cross_val_score(model, features_train, target_train, cv=3, scoring=smape)\n",
    "print(f'sMAPE модели: {abs(cv_linear_regression.mean())}')"
   ]
  },
  {
   "cell_type": "markdown",
   "metadata": {},
   "source": [
    "Обучим модель дерева решений и посчитаем качество модели"
   ]
  },
  {
   "cell_type": "code",
   "execution_count": 42,
   "metadata": {},
   "outputs": [
    {
     "name": "stdout",
     "output_type": "stream",
     "text": [
      "sMAPE модели: 13.876554141979403, глубина дерева: 10\n"
     ]
    }
   ],
   "source": [
    "cv_mean = 1000\n",
    "for depth in range(2, 11):\n",
    "    model = DecisionTreeRegressor(random_state=12345, max_depth=depth)\n",
    "    cv_tree = cross_val_score(model, features_train, target_train, cv=3, scoring=smape)\n",
    "    cv_mean_tree = cv_tree.mean()\n",
    "    if cv_mean_tree < cv_mean:\n",
    "        model_tree = model\n",
    "        cv_mean = cv_mean_tree\n",
    "        cv = cv_tree\n",
    "        depth_tree = depth\n",
    "print(f'sMAPE модели: {abs(cv_mean)}, глубина дерева: {depth_tree}')"
   ]
  },
  {
   "cell_type": "markdown",
   "metadata": {},
   "source": [
    "Обучим случайного леса и посчитаем качество модели"
   ]
  },
  {
   "cell_type": "code",
   "execution_count": 43,
   "metadata": {},
   "outputs": [
    {
     "name": "stdout",
     "output_type": "stream",
     "text": [
      "sMAPE модели: 13.389718719622842,\n",
      "глубина деревьев случайного леса: 20, число деревьев: 5\n"
     ]
    }
   ],
   "source": [
    "cv_mean = 1000\n",
    "for depth in range(2, 11):\n",
    "    for est in range(5, 101, 5):\n",
    "        model = RandomForestRegressor(random_state=12345, max_depth=depth, n_estimators=est)\n",
    "        cv_forest = cross_val_score(model, features_train, target_train, cv=3, scoring=smape)\n",
    "        cv_mean_forest = cv_forest.mean()\n",
    "        if cv_mean_forest < cv_mean:\n",
    "            model_forest = model\n",
    "            cv_mean = cv_mean_forest\n",
    "            cv = cv_forest\n",
    "            depth_forest = depth\n",
    "            est_forest = est\n",
    "print(f'sMAPE модели: {abs(cv_mean)},\\n\\\n",
    "глубина деревьев случайного леса: {depth_forest}, число деревьев: {est_forest}')"
   ]
  },
  {
   "cell_type": "markdown",
   "metadata": {},
   "source": [
    "Лучший параметр sMAPE показала модель линейной регрессии, примем эту модель для финального тестирования"
   ]
  },
  {
   "cell_type": "code",
   "execution_count": 44,
   "metadata": {},
   "outputs": [
    {
     "data": {
      "text/plain": [
       "LinearRegression()"
      ]
     },
     "execution_count": 44,
     "metadata": {},
     "output_type": "execute_result"
    }
   ],
   "source": [
    "model = LinearRegression()\n",
    "model.fit(features_train, target_train)"
   ]
  },
  {
   "cell_type": "code",
   "execution_count": 45,
   "metadata": {},
   "outputs": [
    {
     "name": "stdout",
     "output_type": "stream",
     "text": [
      "Параметр sMAPE после финального тестирования: 9.210107929028654\n"
     ]
    }
   ],
   "source": [
    "test_predict = model.predict(features_test)\n",
    "test_smape = sMAPE_func(target_test, test_predict)\n",
    "print(f'Параметр sMAPE после финального тестирования: {test_smape}')"
   ]
  },
  {
   "cell_type": "markdown",
   "metadata": {},
   "source": [
    "Параметр sMAPE после финального тестирования составляет 9.210107929028654. Значение получилось даже меньше чем на этапе обучения. Для данной метрики это хорошее развитие событий, так как мы стремимся приблизиться к 0. "
   ]
  },
  {
   "cell_type": "markdown",
   "metadata": {},
   "source": [
    "Проверим нашу модель на адекватность, сравнив качество её предсказаний с качеством модели, которая предсказывала бы константу "
   ]
  },
  {
   "cell_type": "code",
   "execution_count": 46,
   "metadata": {},
   "outputs": [
    {
     "name": "stdout",
     "output_type": "stream",
     "text": [
      "Параметр sMAPE dummy-модели: 9.744788079141177\n"
     ]
    }
   ],
   "source": [
    "dummy_regr = DummyRegressor()\n",
    "dummy_regr.fit(features_train, target_train)\n",
    "dummy_regr_predict = dummy_regr.predict(features_test)\n",
    "dummy_regr_smape = sMAPE_func(target_test, dummy_regr_predict)\n",
    "print(f'Параметр sMAPE dummy-модели: {dummy_regr_smape}')"
   ]
  },
  {
   "cell_type": "markdown",
   "metadata": {},
   "source": [
    "Итоговая проверка показала, что выбранная модель показывает лучше результат, чем модель которая предсказывает константу "
   ]
  },
  {
   "cell_type": "markdown",
   "metadata": {},
   "source": [
    "## Вывод"
   ]
  },
  {
   "cell_type": "markdown",
   "metadata": {},
   "source": [
    "В разделе “Подготовка данных” были подгружены 3 датафрейма: изначальные данные, обучающая выборка и тестовая выборка. Вывели общую информацию о них, посчитали правильность расчета эффективности обогащения. Расчет показал, что отличие параметров эффективности обогащения датафрейма с расчетными – минимальны, и составляет 9.73512347450521e-15. Определили, что в тестовой выборке отсутствуют выходные величины так как скорее всего они соответствуют входным величинам на следующем этапе. Добавили таргетные признаки в тестовую выборку.  Удалены все пропуски, чтобы на модель не влияли искусственные данные в случае, если бы мы заполняли пропуски самостоятельно. Произведена проверка на дубликаты.  \n",
    "\n",
    "В разделе “Анализ данных” изучили как меняется концентрация металлов (Au, Ag, Pb) на различных этапах очистки. \n",
    "- Для концентрации Au: наибольшая общая концентрация метала Au на финальной стадии, и концентрация увеличивается с каждым этапом очистки.\n",
    "- Для концентрации Ag: наибольшая общая концентрация метала Ag на стадии перед первым этапом очистки и концентрация уменьшается с каждым этапом очистки после флотации.\n",
    "- Для концентрации Pb: наибольшая общая концентрация метала Pb на финальной стадии, и концентрация увеличивается с каждым этапом очистки\n",
    "\n",
    "Проверили распределения размеров гранул сырья на обучающей и тестовой выборках. График распределения плотности показал, что распределения повторяют друг друга. Исследовали суммарную концентрацию всех веществ на разных стадиях: в сырье, в черновом и финальном концентратах. Концентрация увеличивается с каждым этапом обработки и ее максимальное значение находится в финальном виде.\n",
    "\n",
    "В разделе “Модель” была написана функция для расчета метрики sMAPE, выборки разбиты по признакам для обучения. Обучены 3 различных модели: модель линейной регрессии, модель дерева решений для регрессии и модель случайного леса для регрессии. Лучший результат после проверки методом кроссвалидации показала модель линейной регрессии, так как у нее наименьший sMAPE с показателем 12.064889586727903. Ее мы и взяли для финального тестирования. В финальном тестировании модель показала параметр sMAPE - 9.210107929028654, что даже лучше, чем на этапе обучения. Итоговая проверка показала что наилучшая модель имеет показатель sMAPE нижу чем у модели, предсказывающую константу, это и доказывает обоснованность использования модели линейной регрессии. \n",
    "\n"
   ]
  }
 ],
 "metadata": {
  "ExecuteTimeLog": [
   {
    "duration": 379,
    "start_time": "2023-02-13T10:11:49.096Z"
   },
   {
    "duration": 3638,
    "start_time": "2023-02-13T10:15:15.608Z"
   },
   {
    "duration": 33,
    "start_time": "2023-02-13T10:15:32.314Z"
   },
   {
    "duration": 20,
    "start_time": "2023-02-13T10:18:48.226Z"
   },
   {
    "duration": 19,
    "start_time": "2023-02-13T10:19:42.008Z"
   },
   {
    "duration": 24,
    "start_time": "2023-02-13T10:19:44.970Z"
   },
   {
    "duration": 18,
    "start_time": "2023-02-13T10:20:23.824Z"
   },
   {
    "duration": 11,
    "start_time": "2023-02-13T10:20:37.911Z"
   },
   {
    "duration": 23,
    "start_time": "2023-02-13T10:20:41.455Z"
   },
   {
    "duration": 18,
    "start_time": "2023-02-13T10:20:49.942Z"
   },
   {
    "duration": 65,
    "start_time": "2023-02-13T10:23:26.150Z"
   },
   {
    "duration": 7,
    "start_time": "2023-02-13T10:23:43.111Z"
   },
   {
    "duration": 15867,
    "start_time": "2023-02-13T10:24:18.549Z"
   },
   {
    "duration": 2702,
    "start_time": "2023-02-13T10:24:34.419Z"
   },
   {
    "duration": 3,
    "start_time": "2023-02-13T10:24:40.061Z"
   },
   {
    "duration": 763,
    "start_time": "2023-02-13T10:24:45.478Z"
   },
   {
    "duration": 29,
    "start_time": "2023-02-13T10:24:46.243Z"
   },
   {
    "duration": 51,
    "start_time": "2023-02-13T10:31:24.174Z"
   },
   {
    "duration": 2462,
    "start_time": "2023-02-13T10:31:36.363Z"
   },
   {
    "duration": 3389,
    "start_time": "2023-02-13T10:31:39.947Z"
   },
   {
    "duration": 2637,
    "start_time": "2023-02-13T10:31:53.391Z"
   },
   {
    "duration": 1651,
    "start_time": "2023-02-13T10:31:56.032Z"
   },
   {
    "duration": 3347,
    "start_time": "2023-02-13T10:31:57.685Z"
   },
   {
    "duration": 24,
    "start_time": "2023-02-13T10:32:01.033Z"
   },
   {
    "duration": 40,
    "start_time": "2023-02-13T10:32:01.060Z"
   },
   {
    "duration": 22,
    "start_time": "2023-02-13T10:32:01.102Z"
   },
   {
    "duration": 35,
    "start_time": "2023-02-13T10:32:01.126Z"
   },
   {
    "duration": 38,
    "start_time": "2023-02-13T10:32:01.163Z"
   },
   {
    "duration": 38,
    "start_time": "2023-02-13T10:32:01.203Z"
   },
   {
    "duration": 511,
    "start_time": "2023-02-13T10:38:28.424Z"
   },
   {
    "duration": 3476,
    "start_time": "2023-02-13T10:38:28.938Z"
   },
   {
    "duration": 25,
    "start_time": "2023-02-13T10:38:32.416Z"
   },
   {
    "duration": 22,
    "start_time": "2023-02-13T10:38:32.443Z"
   },
   {
    "duration": 21,
    "start_time": "2023-02-13T10:38:32.468Z"
   },
   {
    "duration": 17,
    "start_time": "2023-02-13T10:38:32.490Z"
   },
   {
    "duration": 18,
    "start_time": "2023-02-13T10:38:32.509Z"
   },
   {
    "duration": 42,
    "start_time": "2023-02-13T10:38:32.528Z"
   },
   {
    "duration": 10,
    "start_time": "2023-02-13T10:40:13.847Z"
   },
   {
    "duration": 719,
    "start_time": "2023-02-13T10:40:39.904Z"
   },
   {
    "duration": 9,
    "start_time": "2023-02-13T10:40:44.695Z"
   },
   {
    "duration": 779,
    "start_time": "2023-02-13T10:43:33.422Z"
   },
   {
    "duration": 10,
    "start_time": "2023-02-13T10:43:39.837Z"
   },
   {
    "duration": 683,
    "start_time": "2023-02-13T11:20:11.568Z"
   },
   {
    "duration": 53,
    "start_time": "2023-02-13T11:20:14.421Z"
   },
   {
    "duration": 786,
    "start_time": "2023-02-13T11:20:58.873Z"
   },
   {
    "duration": 699,
    "start_time": "2023-02-13T11:21:09.192Z"
   },
   {
    "duration": 61,
    "start_time": "2023-02-13T11:21:10.408Z"
   },
   {
    "duration": 418,
    "start_time": "2023-02-13T11:21:36.834Z"
   },
   {
    "duration": 700,
    "start_time": "2023-02-13T11:21:37.254Z"
   },
   {
    "duration": 69,
    "start_time": "2023-02-13T11:21:37.957Z"
   },
   {
    "duration": 17,
    "start_time": "2023-02-13T11:21:38.029Z"
   },
   {
    "duration": 55,
    "start_time": "2023-02-13T11:21:38.048Z"
   },
   {
    "duration": 16,
    "start_time": "2023-02-13T11:21:38.104Z"
   },
   {
    "duration": 68,
    "start_time": "2023-02-13T11:21:38.121Z"
   },
   {
    "duration": 18,
    "start_time": "2023-02-13T11:21:38.190Z"
   },
   {
    "duration": 162,
    "start_time": "2023-02-13T11:39:41.862Z"
   },
   {
    "duration": 139,
    "start_time": "2023-02-13T11:41:13.520Z"
   },
   {
    "duration": 137,
    "start_time": "2023-02-13T11:41:37.047Z"
   },
   {
    "duration": 121,
    "start_time": "2023-02-13T11:41:38.575Z"
   },
   {
    "duration": 390,
    "start_time": "2023-02-13T11:52:47.987Z"
   },
   {
    "duration": 6,
    "start_time": "2023-02-13T11:53:47.914Z"
   },
   {
    "duration": 404,
    "start_time": "2023-02-13T11:53:55.867Z"
   },
   {
    "duration": 7,
    "start_time": "2023-02-13T11:54:10.545Z"
   },
   {
    "duration": 8,
    "start_time": "2023-02-13T11:56:44.801Z"
   },
   {
    "duration": 9,
    "start_time": "2023-02-13T11:56:58.033Z"
   },
   {
    "duration": 5,
    "start_time": "2023-02-13T11:58:00.449Z"
   },
   {
    "duration": 4,
    "start_time": "2023-02-13T11:59:45.823Z"
   },
   {
    "duration": 59,
    "start_time": "2023-02-13T12:00:46.511Z"
   },
   {
    "duration": 8,
    "start_time": "2023-02-13T12:00:56.590Z"
   },
   {
    "duration": 3,
    "start_time": "2023-02-13T12:01:55.535Z"
   },
   {
    "duration": 7,
    "start_time": "2023-02-13T12:02:13.871Z"
   },
   {
    "duration": 7,
    "start_time": "2023-02-13T12:15:03.716Z"
   },
   {
    "duration": 4,
    "start_time": "2023-02-13T12:17:29.835Z"
   },
   {
    "duration": 75,
    "start_time": "2023-02-13T12:17:49.221Z"
   },
   {
    "duration": 138,
    "start_time": "2023-02-13T12:17:53.411Z"
   },
   {
    "duration": 8,
    "start_time": "2023-02-13T12:21:00.018Z"
   },
   {
    "duration": 6,
    "start_time": "2023-02-13T12:21:06.114Z"
   },
   {
    "duration": 7,
    "start_time": "2023-02-13T12:21:42.517Z"
   },
   {
    "duration": 4,
    "start_time": "2023-02-13T12:21:57.306Z"
   },
   {
    "duration": 7,
    "start_time": "2023-02-13T12:22:35.593Z"
   },
   {
    "duration": 5,
    "start_time": "2023-02-13T12:24:28.321Z"
   },
   {
    "duration": 6,
    "start_time": "2023-02-13T12:24:44.977Z"
   },
   {
    "duration": 6,
    "start_time": "2023-02-13T12:39:15.334Z"
   },
   {
    "duration": 7,
    "start_time": "2023-02-13T12:39:38.260Z"
   },
   {
    "duration": 9,
    "start_time": "2023-02-13T12:39:47.772Z"
   },
   {
    "duration": 10,
    "start_time": "2023-02-13T12:40:16.820Z"
   },
   {
    "duration": 11,
    "start_time": "2023-02-13T12:42:33.859Z"
   },
   {
    "duration": 10,
    "start_time": "2023-02-13T12:42:39.835Z"
   },
   {
    "duration": 10,
    "start_time": "2023-02-13T12:43:03.123Z"
   },
   {
    "duration": 10,
    "start_time": "2023-02-13T12:43:10.963Z"
   },
   {
    "duration": 14,
    "start_time": "2023-02-13T12:43:30.987Z"
   },
   {
    "duration": 11,
    "start_time": "2023-02-13T12:43:41.347Z"
   },
   {
    "duration": 76,
    "start_time": "2023-02-13T12:44:22.360Z"
   },
   {
    "duration": 87,
    "start_time": "2023-02-13T12:44:39.340Z"
   },
   {
    "duration": 58,
    "start_time": "2023-02-13T12:44:58.820Z"
   },
   {
    "duration": 11,
    "start_time": "2023-02-13T12:45:37.530Z"
   },
   {
    "duration": 425,
    "start_time": "2023-02-13T12:47:57.140Z"
   },
   {
    "duration": 712,
    "start_time": "2023-02-13T12:47:57.567Z"
   },
   {
    "duration": 66,
    "start_time": "2023-02-13T12:47:58.280Z"
   },
   {
    "duration": 32,
    "start_time": "2023-02-13T12:47:58.349Z"
   },
   {
    "duration": 44,
    "start_time": "2023-02-13T12:47:58.383Z"
   },
   {
    "duration": 14,
    "start_time": "2023-02-13T12:47:58.429Z"
   },
   {
    "duration": 62,
    "start_time": "2023-02-13T12:47:58.467Z"
   },
   {
    "duration": 17,
    "start_time": "2023-02-13T12:47:58.531Z"
   },
   {
    "duration": 24,
    "start_time": "2023-02-13T12:47:58.549Z"
   },
   {
    "duration": 12,
    "start_time": "2023-02-13T12:47:58.575Z"
   },
   {
    "duration": 17,
    "start_time": "2023-02-13T12:47:58.588Z"
   },
   {
    "duration": 80,
    "start_time": "2023-02-13T12:47:58.607Z"
   },
   {
    "duration": 10,
    "start_time": "2023-02-13T12:48:17.201Z"
   },
   {
    "duration": 340,
    "start_time": "2023-02-13T12:48:23.014Z"
   },
   {
    "duration": 686,
    "start_time": "2023-02-13T12:48:23.355Z"
   },
   {
    "duration": 65,
    "start_time": "2023-02-13T12:48:24.043Z"
   },
   {
    "duration": 16,
    "start_time": "2023-02-13T12:48:24.110Z"
   },
   {
    "duration": 51,
    "start_time": "2023-02-13T12:48:24.128Z"
   },
   {
    "duration": 13,
    "start_time": "2023-02-13T12:48:24.180Z"
   },
   {
    "duration": 52,
    "start_time": "2023-02-13T12:48:24.194Z"
   },
   {
    "duration": 16,
    "start_time": "2023-02-13T12:48:24.266Z"
   },
   {
    "duration": 16,
    "start_time": "2023-02-13T12:48:24.284Z"
   },
   {
    "duration": 22,
    "start_time": "2023-02-13T12:48:24.302Z"
   },
   {
    "duration": 10,
    "start_time": "2023-02-13T12:48:24.325Z"
   },
   {
    "duration": 17,
    "start_time": "2023-02-13T12:48:24.336Z"
   },
   {
    "duration": 385,
    "start_time": "2023-02-13T12:49:07.527Z"
   },
   {
    "duration": 732,
    "start_time": "2023-02-13T12:49:07.914Z"
   },
   {
    "duration": 69,
    "start_time": "2023-02-13T12:49:08.647Z"
   },
   {
    "duration": 19,
    "start_time": "2023-02-13T12:49:08.718Z"
   },
   {
    "duration": 55,
    "start_time": "2023-02-13T12:49:08.738Z"
   },
   {
    "duration": 15,
    "start_time": "2023-02-13T12:49:08.795Z"
   },
   {
    "duration": 86,
    "start_time": "2023-02-13T12:49:08.812Z"
   },
   {
    "duration": 19,
    "start_time": "2023-02-13T12:49:08.900Z"
   },
   {
    "duration": 9,
    "start_time": "2023-02-13T12:49:08.921Z"
   },
   {
    "duration": 8,
    "start_time": "2023-02-13T12:49:08.932Z"
   },
   {
    "duration": 11,
    "start_time": "2023-02-13T12:49:08.968Z"
   },
   {
    "duration": 11,
    "start_time": "2023-02-13T12:49:08.980Z"
   },
   {
    "duration": 13,
    "start_time": "2023-02-13T12:54:54.599Z"
   },
   {
    "duration": 356,
    "start_time": "2023-02-13T12:54:58.017Z"
   },
   {
    "duration": 714,
    "start_time": "2023-02-13T12:54:58.375Z"
   },
   {
    "duration": 64,
    "start_time": "2023-02-13T12:54:59.090Z"
   },
   {
    "duration": 18,
    "start_time": "2023-02-13T12:54:59.166Z"
   },
   {
    "duration": 40,
    "start_time": "2023-02-13T12:54:59.186Z"
   },
   {
    "duration": 40,
    "start_time": "2023-02-13T12:54:59.228Z"
   },
   {
    "duration": 113,
    "start_time": "2023-02-13T12:54:59.270Z"
   },
   {
    "duration": 19,
    "start_time": "2023-02-13T12:54:59.385Z"
   },
   {
    "duration": 11,
    "start_time": "2023-02-13T12:54:59.406Z"
   },
   {
    "duration": 14,
    "start_time": "2023-02-13T12:54:59.419Z"
   },
   {
    "duration": 34,
    "start_time": "2023-02-13T12:54:59.434Z"
   },
   {
    "duration": 13,
    "start_time": "2023-02-13T12:54:59.470Z"
   },
   {
    "duration": 79,
    "start_time": "2023-02-13T12:57:38.999Z"
   },
   {
    "duration": 7,
    "start_time": "2023-02-13T12:58:22.071Z"
   },
   {
    "duration": 10769,
    "start_time": "2023-02-13T12:58:41.127Z"
   },
   {
    "duration": 10,
    "start_time": "2023-02-13T12:59:48.114Z"
   },
   {
    "duration": 11,
    "start_time": "2023-02-13T12:59:55.502Z"
   },
   {
    "duration": 16,
    "start_time": "2023-02-13T13:00:35.151Z"
   },
   {
    "duration": 14,
    "start_time": "2023-02-13T13:01:06.973Z"
   },
   {
    "duration": 14,
    "start_time": "2023-02-13T13:01:20.623Z"
   },
   {
    "duration": 8,
    "start_time": "2023-02-13T14:36:17.858Z"
   },
   {
    "duration": 7,
    "start_time": "2023-02-13T14:46:46.253Z"
   },
   {
    "duration": 138,
    "start_time": "2023-02-13T14:46:58.221Z"
   },
   {
    "duration": 249,
    "start_time": "2023-02-13T14:51:07.747Z"
   },
   {
    "duration": 9,
    "start_time": "2023-02-13T14:58:40.433Z"
   },
   {
    "duration": 5,
    "start_time": "2023-02-13T14:59:40.438Z"
   },
   {
    "duration": 14,
    "start_time": "2023-02-13T14:59:53.254Z"
   },
   {
    "duration": 14,
    "start_time": "2023-02-13T15:02:14.749Z"
   },
   {
    "duration": 15,
    "start_time": "2023-02-13T15:02:20.285Z"
   },
   {
    "duration": 457,
    "start_time": "2023-02-13T15:02:26.263Z"
   },
   {
    "duration": 761,
    "start_time": "2023-02-13T15:02:26.723Z"
   },
   {
    "duration": 81,
    "start_time": "2023-02-13T15:02:27.486Z"
   },
   {
    "duration": 23,
    "start_time": "2023-02-13T15:02:27.569Z"
   },
   {
    "duration": 42,
    "start_time": "2023-02-13T15:02:27.595Z"
   },
   {
    "duration": 37,
    "start_time": "2023-02-13T15:02:27.638Z"
   },
   {
    "duration": 61,
    "start_time": "2023-02-13T15:02:27.676Z"
   },
   {
    "duration": 34,
    "start_time": "2023-02-13T15:02:27.738Z"
   },
   {
    "duration": 9,
    "start_time": "2023-02-13T15:02:27.773Z"
   },
   {
    "duration": 5,
    "start_time": "2023-02-13T15:02:27.783Z"
   },
   {
    "duration": 13,
    "start_time": "2023-02-13T15:02:27.790Z"
   },
   {
    "duration": 6,
    "start_time": "2023-02-13T15:02:27.804Z"
   },
   {
    "duration": 18,
    "start_time": "2023-02-13T15:02:27.812Z"
   },
   {
    "duration": 10,
    "start_time": "2023-02-13T15:05:40.274Z"
   },
   {
    "duration": 60,
    "start_time": "2023-02-13T15:08:13.275Z"
   },
   {
    "duration": 71,
    "start_time": "2023-02-13T15:08:24.049Z"
   },
   {
    "duration": 88,
    "start_time": "2023-02-13T15:08:35.633Z"
   },
   {
    "duration": 8,
    "start_time": "2023-02-13T15:39:44.584Z"
   },
   {
    "duration": 9,
    "start_time": "2023-02-13T15:40:03.113Z"
   },
   {
    "duration": 71,
    "start_time": "2023-02-13T15:42:52.337Z"
   },
   {
    "duration": 16,
    "start_time": "2023-02-13T15:43:55.399Z"
   },
   {
    "duration": 10,
    "start_time": "2023-02-13T15:45:19.903Z"
   },
   {
    "duration": 8,
    "start_time": "2023-02-13T15:46:24.149Z"
   },
   {
    "duration": 392,
    "start_time": "2023-02-13T15:46:45.801Z"
   },
   {
    "duration": 735,
    "start_time": "2023-02-13T15:46:46.195Z"
   },
   {
    "duration": 70,
    "start_time": "2023-02-13T15:46:46.934Z"
   },
   {
    "duration": 19,
    "start_time": "2023-02-13T15:46:47.006Z"
   },
   {
    "duration": 62,
    "start_time": "2023-02-13T15:46:47.027Z"
   },
   {
    "duration": 13,
    "start_time": "2023-02-13T15:46:47.091Z"
   },
   {
    "duration": 70,
    "start_time": "2023-02-13T15:46:47.105Z"
   },
   {
    "duration": 16,
    "start_time": "2023-02-13T15:46:47.176Z"
   },
   {
    "duration": 8,
    "start_time": "2023-02-13T15:46:47.194Z"
   },
   {
    "duration": 4,
    "start_time": "2023-02-13T15:46:47.204Z"
   },
   {
    "duration": 10,
    "start_time": "2023-02-13T15:46:47.210Z"
   },
   {
    "duration": 5,
    "start_time": "2023-02-13T15:46:47.222Z"
   },
   {
    "duration": 98,
    "start_time": "2023-02-13T15:46:47.229Z"
   },
   {
    "duration": 0,
    "start_time": "2023-02-13T15:46:47.329Z"
   },
   {
    "duration": 0,
    "start_time": "2023-02-13T15:46:47.330Z"
   },
   {
    "duration": 8,
    "start_time": "2023-02-13T15:47:45.461Z"
   },
   {
    "duration": 8,
    "start_time": "2023-02-13T15:47:50.228Z"
   },
   {
    "duration": 13,
    "start_time": "2023-02-13T15:48:01.445Z"
   },
   {
    "duration": 11,
    "start_time": "2023-02-13T15:48:18.836Z"
   },
   {
    "duration": 453,
    "start_time": "2023-02-13T15:49:04.340Z"
   },
   {
    "duration": 878,
    "start_time": "2023-02-13T15:49:04.795Z"
   },
   {
    "duration": 92,
    "start_time": "2023-02-13T15:49:05.675Z"
   },
   {
    "duration": 19,
    "start_time": "2023-02-13T15:49:05.769Z"
   },
   {
    "duration": 42,
    "start_time": "2023-02-13T15:49:05.791Z"
   },
   {
    "duration": 37,
    "start_time": "2023-02-13T15:49:05.835Z"
   },
   {
    "duration": 61,
    "start_time": "2023-02-13T15:49:05.874Z"
   },
   {
    "duration": 35,
    "start_time": "2023-02-13T15:49:05.937Z"
   },
   {
    "duration": 9,
    "start_time": "2023-02-13T15:49:05.974Z"
   },
   {
    "duration": 15,
    "start_time": "2023-02-13T15:49:05.985Z"
   },
   {
    "duration": 22,
    "start_time": "2023-02-13T15:49:06.001Z"
   },
   {
    "duration": 18,
    "start_time": "2023-02-13T15:49:06.025Z"
   },
   {
    "duration": 48,
    "start_time": "2023-02-13T15:49:06.046Z"
   },
   {
    "duration": 25,
    "start_time": "2023-02-13T15:49:06.098Z"
   },
   {
    "duration": 120,
    "start_time": "2023-02-13T15:49:06.125Z"
   },
   {
    "duration": 64,
    "start_time": "2023-02-13T15:49:29.412Z"
   },
   {
    "duration": 8,
    "start_time": "2023-02-13T15:51:02.243Z"
   },
   {
    "duration": 9,
    "start_time": "2023-02-13T15:52:48.226Z"
   },
   {
    "duration": 8,
    "start_time": "2023-02-13T15:55:23.419Z"
   },
   {
    "duration": 419,
    "start_time": "2023-02-13T15:55:38.228Z"
   },
   {
    "duration": 802,
    "start_time": "2023-02-13T15:55:38.649Z"
   },
   {
    "duration": 86,
    "start_time": "2023-02-13T15:55:39.453Z"
   },
   {
    "duration": 41,
    "start_time": "2023-02-13T15:55:39.540Z"
   },
   {
    "duration": 37,
    "start_time": "2023-02-13T15:55:39.583Z"
   },
   {
    "duration": 19,
    "start_time": "2023-02-13T15:55:39.622Z"
   },
   {
    "duration": 69,
    "start_time": "2023-02-13T15:55:39.643Z"
   },
   {
    "duration": 18,
    "start_time": "2023-02-13T15:55:39.714Z"
   },
   {
    "duration": 9,
    "start_time": "2023-02-13T15:55:39.734Z"
   },
   {
    "duration": 31,
    "start_time": "2023-02-13T15:55:39.745Z"
   },
   {
    "duration": 34,
    "start_time": "2023-02-13T15:55:39.779Z"
   },
   {
    "duration": 12,
    "start_time": "2023-02-13T15:55:39.815Z"
   },
   {
    "duration": 71,
    "start_time": "2023-02-13T15:55:39.829Z"
   },
   {
    "duration": 0,
    "start_time": "2023-02-13T15:55:39.903Z"
   },
   {
    "duration": 0,
    "start_time": "2023-02-13T15:55:39.904Z"
   },
   {
    "duration": 4,
    "start_time": "2023-02-13T15:56:12.608Z"
   },
   {
    "duration": 4,
    "start_time": "2023-02-13T15:56:17.624Z"
   },
   {
    "duration": 8,
    "start_time": "2023-02-13T15:58:28.736Z"
   },
   {
    "duration": 8,
    "start_time": "2023-02-13T15:58:46.055Z"
   },
   {
    "duration": 12,
    "start_time": "2023-02-13T15:58:51.062Z"
   },
   {
    "duration": 8,
    "start_time": "2023-02-13T15:59:01.519Z"
   },
   {
    "duration": 9,
    "start_time": "2023-02-13T16:00:18.629Z"
   },
   {
    "duration": 417,
    "start_time": "2023-02-13T16:00:22.744Z"
   },
   {
    "duration": 741,
    "start_time": "2023-02-13T16:00:23.162Z"
   },
   {
    "duration": 77,
    "start_time": "2023-02-13T16:00:23.905Z"
   },
   {
    "duration": 19,
    "start_time": "2023-02-13T16:00:23.984Z"
   },
   {
    "duration": 41,
    "start_time": "2023-02-13T16:00:24.004Z"
   },
   {
    "duration": 35,
    "start_time": "2023-02-13T16:00:24.047Z"
   },
   {
    "duration": 67,
    "start_time": "2023-02-13T16:00:24.087Z"
   },
   {
    "duration": 32,
    "start_time": "2023-02-13T16:00:24.156Z"
   },
   {
    "duration": 10,
    "start_time": "2023-02-13T16:00:24.190Z"
   },
   {
    "duration": 9,
    "start_time": "2023-02-13T16:00:24.202Z"
   },
   {
    "duration": 13,
    "start_time": "2023-02-13T16:00:24.212Z"
   },
   {
    "duration": 7,
    "start_time": "2023-02-13T16:00:24.227Z"
   },
   {
    "duration": 90,
    "start_time": "2023-02-13T16:00:24.236Z"
   },
   {
    "duration": 0,
    "start_time": "2023-02-13T16:00:24.328Z"
   },
   {
    "duration": 0,
    "start_time": "2023-02-13T16:00:24.329Z"
   },
   {
    "duration": 0,
    "start_time": "2023-02-13T16:00:24.331Z"
   },
   {
    "duration": 8,
    "start_time": "2023-02-13T16:03:50.679Z"
   },
   {
    "duration": 4,
    "start_time": "2023-02-13T16:04:37.332Z"
   },
   {
    "duration": 7,
    "start_time": "2023-02-13T16:04:57.147Z"
   },
   {
    "duration": 7,
    "start_time": "2023-02-13T16:05:35.899Z"
   },
   {
    "duration": 8,
    "start_time": "2023-02-13T16:05:49.028Z"
   },
   {
    "duration": 409,
    "start_time": "2023-02-13T16:06:03.543Z"
   },
   {
    "duration": 792,
    "start_time": "2023-02-13T16:06:03.954Z"
   },
   {
    "duration": 77,
    "start_time": "2023-02-13T16:06:04.748Z"
   },
   {
    "duration": 19,
    "start_time": "2023-02-13T16:06:04.828Z"
   },
   {
    "duration": 60,
    "start_time": "2023-02-13T16:06:04.849Z"
   },
   {
    "duration": 12,
    "start_time": "2023-02-13T16:06:04.911Z"
   },
   {
    "duration": 83,
    "start_time": "2023-02-13T16:06:04.924Z"
   },
   {
    "duration": 24,
    "start_time": "2023-02-13T16:06:05.009Z"
   },
   {
    "duration": 53,
    "start_time": "2023-02-13T16:06:05.036Z"
   },
   {
    "duration": 34,
    "start_time": "2023-02-13T16:06:05.091Z"
   },
   {
    "duration": 16,
    "start_time": "2023-02-13T16:06:05.127Z"
   },
   {
    "duration": 10,
    "start_time": "2023-02-13T16:06:05.145Z"
   },
   {
    "duration": 6,
    "start_time": "2023-02-13T16:06:05.157Z"
   },
   {
    "duration": 44,
    "start_time": "2023-02-13T16:06:05.165Z"
   },
   {
    "duration": 12,
    "start_time": "2023-02-13T16:06:05.212Z"
   },
   {
    "duration": 122,
    "start_time": "2023-02-13T16:06:05.226Z"
   },
   {
    "duration": 5,
    "start_time": "2023-02-13T16:06:35.539Z"
   },
   {
    "duration": 5,
    "start_time": "2023-02-13T16:06:44.907Z"
   },
   {
    "duration": 4,
    "start_time": "2023-02-13T16:07:40.387Z"
   },
   {
    "duration": 4,
    "start_time": "2023-02-13T16:08:04.811Z"
   },
   {
    "duration": 3,
    "start_time": "2023-02-13T16:08:54.811Z"
   },
   {
    "duration": 99,
    "start_time": "2023-02-13T16:09:45.842Z"
   },
   {
    "duration": 15,
    "start_time": "2023-02-13T16:10:51.068Z"
   },
   {
    "duration": 7,
    "start_time": "2023-02-13T16:11:30.434Z"
   },
   {
    "duration": 20,
    "start_time": "2023-02-13T16:11:36.962Z"
   },
   {
    "duration": 8,
    "start_time": "2023-02-13T16:13:29.016Z"
   },
   {
    "duration": 426,
    "start_time": "2023-02-13T16:13:37.457Z"
   },
   {
    "duration": 720,
    "start_time": "2023-02-13T16:13:37.885Z"
   },
   {
    "duration": 65,
    "start_time": "2023-02-13T16:13:38.606Z"
   },
   {
    "duration": 20,
    "start_time": "2023-02-13T16:13:38.672Z"
   },
   {
    "duration": 38,
    "start_time": "2023-02-13T16:13:38.695Z"
   },
   {
    "duration": 48,
    "start_time": "2023-02-13T16:13:38.734Z"
   },
   {
    "duration": 67,
    "start_time": "2023-02-13T16:13:38.784Z"
   },
   {
    "duration": 19,
    "start_time": "2023-02-13T16:13:38.853Z"
   },
   {
    "duration": 14,
    "start_time": "2023-02-13T16:13:38.874Z"
   },
   {
    "duration": 8,
    "start_time": "2023-02-13T16:13:38.890Z"
   },
   {
    "duration": 18,
    "start_time": "2023-02-13T16:13:38.900Z"
   },
   {
    "duration": 6,
    "start_time": "2023-02-13T16:13:38.920Z"
   },
   {
    "duration": 3,
    "start_time": "2023-02-13T16:13:38.928Z"
   },
   {
    "duration": 41,
    "start_time": "2023-02-13T16:13:38.933Z"
   },
   {
    "duration": 13,
    "start_time": "2023-02-13T16:13:38.975Z"
   },
   {
    "duration": 103,
    "start_time": "2023-02-13T16:13:38.989Z"
   },
   {
    "duration": 70,
    "start_time": "2023-02-13T16:14:00.714Z"
   },
   {
    "duration": 387,
    "start_time": "2023-02-13T16:14:05.611Z"
   },
   {
    "duration": 672,
    "start_time": "2023-02-13T16:14:06.000Z"
   },
   {
    "duration": 71,
    "start_time": "2023-02-13T16:14:06.676Z"
   },
   {
    "duration": 36,
    "start_time": "2023-02-13T16:14:06.750Z"
   },
   {
    "duration": 48,
    "start_time": "2023-02-13T16:14:06.788Z"
   },
   {
    "duration": 35,
    "start_time": "2023-02-13T16:14:06.838Z"
   },
   {
    "duration": 65,
    "start_time": "2023-02-13T16:14:06.877Z"
   },
   {
    "duration": 38,
    "start_time": "2023-02-13T16:14:06.944Z"
   },
   {
    "duration": 10,
    "start_time": "2023-02-13T16:14:06.984Z"
   },
   {
    "duration": 6,
    "start_time": "2023-02-13T16:14:06.997Z"
   },
   {
    "duration": 15,
    "start_time": "2023-02-13T16:14:07.004Z"
   },
   {
    "duration": 7,
    "start_time": "2023-02-13T16:14:07.022Z"
   },
   {
    "duration": 15,
    "start_time": "2023-02-13T16:14:07.031Z"
   },
   {
    "duration": 22,
    "start_time": "2023-02-13T16:14:07.074Z"
   },
   {
    "duration": 8,
    "start_time": "2023-02-13T16:14:07.098Z"
   },
   {
    "duration": 117,
    "start_time": "2023-02-13T16:14:07.108Z"
   },
   {
    "duration": 431,
    "start_time": "2023-02-13T16:14:30.267Z"
   },
   {
    "duration": 697,
    "start_time": "2023-02-13T16:14:30.700Z"
   },
   {
    "duration": 109,
    "start_time": "2023-02-13T16:14:31.399Z"
   },
   {
    "duration": 70,
    "start_time": "2023-02-13T16:14:31.510Z"
   },
   {
    "duration": 35,
    "start_time": "2023-02-13T16:14:31.582Z"
   },
   {
    "duration": 10,
    "start_time": "2023-02-13T16:14:31.619Z"
   },
   {
    "duration": 83,
    "start_time": "2023-02-13T16:14:31.631Z"
   },
   {
    "duration": 16,
    "start_time": "2023-02-13T16:14:31.716Z"
   },
   {
    "duration": 7,
    "start_time": "2023-02-13T16:14:31.734Z"
   },
   {
    "duration": 31,
    "start_time": "2023-02-13T16:14:31.743Z"
   },
   {
    "duration": 23,
    "start_time": "2023-02-13T16:14:31.779Z"
   },
   {
    "duration": 10,
    "start_time": "2023-02-13T16:14:31.804Z"
   },
   {
    "duration": 4,
    "start_time": "2023-02-13T16:14:31.815Z"
   },
   {
    "duration": 17,
    "start_time": "2023-02-13T16:14:31.821Z"
   },
   {
    "duration": 7,
    "start_time": "2023-02-13T16:14:31.840Z"
   },
   {
    "duration": 98,
    "start_time": "2023-02-13T16:14:31.848Z"
   },
   {
    "duration": 412,
    "start_time": "2023-02-13T16:15:03.317Z"
   },
   {
    "duration": 786,
    "start_time": "2023-02-13T16:15:03.732Z"
   },
   {
    "duration": 88,
    "start_time": "2023-02-13T16:15:04.520Z"
   },
   {
    "duration": 17,
    "start_time": "2023-02-13T16:15:04.610Z"
   },
   {
    "duration": 58,
    "start_time": "2023-02-13T16:15:04.629Z"
   },
   {
    "duration": 38,
    "start_time": "2023-02-13T16:15:04.689Z"
   },
   {
    "duration": 89,
    "start_time": "2023-02-13T16:15:04.729Z"
   },
   {
    "duration": 19,
    "start_time": "2023-02-13T16:15:04.820Z"
   },
   {
    "duration": 46,
    "start_time": "2023-02-13T16:15:04.841Z"
   },
   {
    "duration": 41,
    "start_time": "2023-02-13T16:15:04.892Z"
   },
   {
    "duration": 73,
    "start_time": "2023-02-13T16:15:04.935Z"
   },
   {
    "duration": 56,
    "start_time": "2023-02-13T16:15:05.010Z"
   },
   {
    "duration": 81,
    "start_time": "2023-02-13T16:15:05.068Z"
   },
   {
    "duration": 65,
    "start_time": "2023-02-13T16:15:05.153Z"
   },
   {
    "duration": 49,
    "start_time": "2023-02-13T16:15:05.220Z"
   },
   {
    "duration": 134,
    "start_time": "2023-02-13T16:15:05.275Z"
   },
   {
    "duration": 1493,
    "start_time": "2023-02-13T16:51:35.447Z"
   },
   {
    "duration": 415,
    "start_time": "2023-02-13T16:53:06.298Z"
   },
   {
    "duration": 696,
    "start_time": "2023-02-13T16:53:06.715Z"
   },
   {
    "duration": 70,
    "start_time": "2023-02-13T16:53:07.413Z"
   },
   {
    "duration": 16,
    "start_time": "2023-02-13T16:53:07.485Z"
   },
   {
    "duration": 37,
    "start_time": "2023-02-13T16:53:07.503Z"
   },
   {
    "duration": 30,
    "start_time": "2023-02-13T16:53:07.541Z"
   },
   {
    "duration": 53,
    "start_time": "2023-02-13T16:53:07.572Z"
   },
   {
    "duration": 14,
    "start_time": "2023-02-13T16:53:07.627Z"
   },
   {
    "duration": 27,
    "start_time": "2023-02-13T16:53:07.643Z"
   },
   {
    "duration": 5,
    "start_time": "2023-02-13T16:53:07.672Z"
   },
   {
    "duration": 13,
    "start_time": "2023-02-13T16:53:07.678Z"
   },
   {
    "duration": 7,
    "start_time": "2023-02-13T16:53:07.693Z"
   },
   {
    "duration": 3,
    "start_time": "2023-02-13T16:53:07.701Z"
   },
   {
    "duration": 25,
    "start_time": "2023-02-13T16:53:07.706Z"
   },
   {
    "duration": 36,
    "start_time": "2023-02-13T16:53:07.733Z"
   },
   {
    "duration": 111,
    "start_time": "2023-02-13T16:53:07.771Z"
   },
   {
    "duration": 1458,
    "start_time": "2023-02-13T16:53:07.885Z"
   },
   {
    "duration": 4,
    "start_time": "2023-02-13T16:54:03.582Z"
   },
   {
    "duration": 10,
    "start_time": "2023-02-13T16:54:29.622Z"
   },
   {
    "duration": 8,
    "start_time": "2023-02-13T16:59:06.612Z"
   },
   {
    "duration": 8,
    "start_time": "2023-02-13T17:02:44.315Z"
   },
   {
    "duration": 100,
    "start_time": "2023-02-13T17:02:57.258Z"
   },
   {
    "duration": 112,
    "start_time": "2023-02-13T17:05:09.648Z"
   },
   {
    "duration": 81,
    "start_time": "2023-02-13T17:08:13.055Z"
   },
   {
    "duration": 130,
    "start_time": "2023-02-13T17:09:39.565Z"
   },
   {
    "duration": 85,
    "start_time": "2023-02-13T17:10:29.590Z"
   },
   {
    "duration": 86,
    "start_time": "2023-02-13T17:14:52.004Z"
   },
   {
    "duration": 81,
    "start_time": "2023-02-13T17:15:18.859Z"
   },
   {
    "duration": 73,
    "start_time": "2023-02-13T17:16:07.947Z"
   },
   {
    "duration": 109,
    "start_time": "2023-02-13T17:16:17.162Z"
   },
   {
    "duration": 126,
    "start_time": "2023-02-13T17:17:32.564Z"
   },
   {
    "duration": 93,
    "start_time": "2023-02-13T17:18:30.754Z"
   },
   {
    "duration": 95,
    "start_time": "2023-02-13T17:18:53.321Z"
   },
   {
    "duration": 93,
    "start_time": "2023-02-13T17:18:59.129Z"
   },
   {
    "duration": 104,
    "start_time": "2023-02-13T17:19:09.954Z"
   },
   {
    "duration": 92,
    "start_time": "2023-02-13T17:19:13.105Z"
   },
   {
    "duration": 89,
    "start_time": "2023-02-13T17:20:00.793Z"
   },
   {
    "duration": 98,
    "start_time": "2023-02-13T17:20:51.512Z"
   },
   {
    "duration": 107,
    "start_time": "2023-02-13T17:20:52.728Z"
   },
   {
    "duration": 85,
    "start_time": "2023-02-13T17:20:53.560Z"
   },
   {
    "duration": 111,
    "start_time": "2023-02-13T17:21:28.175Z"
   },
   {
    "duration": 132,
    "start_time": "2023-02-13T17:21:43.224Z"
   },
   {
    "duration": 97,
    "start_time": "2023-02-13T17:21:58.848Z"
   },
   {
    "duration": 112,
    "start_time": "2023-02-13T17:22:02.800Z"
   },
   {
    "duration": 113,
    "start_time": "2023-02-13T17:22:28.720Z"
   },
   {
    "duration": 113,
    "start_time": "2023-02-13T17:22:30.799Z"
   },
   {
    "duration": 108,
    "start_time": "2023-02-13T17:23:43.079Z"
   },
   {
    "duration": 114,
    "start_time": "2023-02-13T17:23:55.374Z"
   },
   {
    "duration": 105,
    "start_time": "2023-02-13T17:24:21.902Z"
   },
   {
    "duration": 111,
    "start_time": "2023-02-13T17:24:57.607Z"
   },
   {
    "duration": 3,
    "start_time": "2023-02-13T17:28:49.755Z"
   },
   {
    "duration": 122,
    "start_time": "2023-02-13T17:29:35.755Z"
   },
   {
    "duration": 131,
    "start_time": "2023-02-13T17:29:56.820Z"
   },
   {
    "duration": 113,
    "start_time": "2023-02-13T17:30:07.316Z"
   },
   {
    "duration": 124,
    "start_time": "2023-02-13T17:30:28.980Z"
   },
   {
    "duration": 115,
    "start_time": "2023-02-13T17:30:45.305Z"
   },
   {
    "duration": 126,
    "start_time": "2023-02-13T17:30:54.228Z"
   },
   {
    "duration": 118,
    "start_time": "2023-02-13T17:32:42.762Z"
   },
   {
    "duration": 142,
    "start_time": "2023-02-13T17:33:04.162Z"
   },
   {
    "duration": 115,
    "start_time": "2023-02-13T17:33:55.492Z"
   },
   {
    "duration": 127,
    "start_time": "2023-02-13T17:34:04.450Z"
   },
   {
    "duration": 140,
    "start_time": "2023-02-13T17:36:17.745Z"
   },
   {
    "duration": 116,
    "start_time": "2023-02-13T17:37:45.911Z"
   },
   {
    "duration": 141,
    "start_time": "2023-02-13T17:37:57.936Z"
   },
   {
    "duration": 124,
    "start_time": "2023-02-13T17:38:48.247Z"
   },
   {
    "duration": 129,
    "start_time": "2023-02-13T17:38:52.159Z"
   },
   {
    "duration": 155,
    "start_time": "2023-02-13T17:39:05.568Z"
   },
   {
    "duration": 1102,
    "start_time": "2023-02-13T17:58:45.487Z"
   },
   {
    "duration": 121,
    "start_time": "2023-02-13T17:58:53.158Z"
   },
   {
    "duration": 120,
    "start_time": "2023-02-13T17:58:54.087Z"
   },
   {
    "duration": 114,
    "start_time": "2023-02-13T17:59:08.230Z"
   },
   {
    "duration": 10,
    "start_time": "2023-02-13T17:59:26.125Z"
   },
   {
    "duration": 118,
    "start_time": "2023-02-13T17:59:55.277Z"
   },
   {
    "duration": 96,
    "start_time": "2023-02-13T18:00:44.573Z"
   },
   {
    "duration": 121,
    "start_time": "2023-02-13T18:00:58.846Z"
   },
   {
    "duration": 4,
    "start_time": "2023-02-13T18:01:27.823Z"
   },
   {
    "duration": 5,
    "start_time": "2023-02-13T18:01:28.733Z"
   },
   {
    "duration": 5,
    "start_time": "2023-02-13T18:02:01.046Z"
   },
   {
    "duration": 6,
    "start_time": "2023-02-13T18:02:02.997Z"
   },
   {
    "duration": 48,
    "start_time": "2023-02-14T12:51:08.203Z"
   },
   {
    "duration": 858,
    "start_time": "2023-02-14T12:51:16.140Z"
   },
   {
    "duration": 3113,
    "start_time": "2023-02-14T12:51:17.002Z"
   },
   {
    "duration": 59,
    "start_time": "2023-02-14T12:51:20.117Z"
   },
   {
    "duration": 19,
    "start_time": "2023-02-14T12:51:20.179Z"
   },
   {
    "duration": 34,
    "start_time": "2023-02-14T12:51:20.199Z"
   },
   {
    "duration": 14,
    "start_time": "2023-02-14T12:51:20.234Z"
   },
   {
    "duration": 67,
    "start_time": "2023-02-14T12:51:20.250Z"
   },
   {
    "duration": 15,
    "start_time": "2023-02-14T12:51:20.318Z"
   },
   {
    "duration": 8,
    "start_time": "2023-02-14T12:51:20.334Z"
   },
   {
    "duration": 8,
    "start_time": "2023-02-14T12:51:20.344Z"
   },
   {
    "duration": 10,
    "start_time": "2023-02-14T12:51:20.354Z"
   },
   {
    "duration": 28,
    "start_time": "2023-02-14T12:51:20.365Z"
   },
   {
    "duration": 9,
    "start_time": "2023-02-14T12:51:20.395Z"
   },
   {
    "duration": 20,
    "start_time": "2023-02-14T12:51:20.406Z"
   },
   {
    "duration": 7,
    "start_time": "2023-02-14T12:51:20.427Z"
   },
   {
    "duration": 103,
    "start_time": "2023-02-14T12:51:20.435Z"
   },
   {
    "duration": 143,
    "start_time": "2023-02-14T12:51:20.539Z"
   },
   {
    "duration": 125,
    "start_time": "2023-02-14T12:51:20.684Z"
   },
   {
    "duration": 127,
    "start_time": "2023-02-14T12:51:20.811Z"
   },
   {
    "duration": 6,
    "start_time": "2023-02-14T12:51:20.939Z"
   },
   {
    "duration": 21,
    "start_time": "2023-02-14T12:51:20.946Z"
   },
   {
    "duration": 19,
    "start_time": "2023-02-14T12:51:20.969Z"
   },
   {
    "duration": 142,
    "start_time": "2023-02-14T12:51:42.404Z"
   },
   {
    "duration": 132,
    "start_time": "2023-02-14T12:51:47.028Z"
   },
   {
    "duration": 71,
    "start_time": "2023-02-14T12:52:08.923Z"
   },
   {
    "duration": 163,
    "start_time": "2023-02-14T12:54:18.123Z"
   },
   {
    "duration": 139,
    "start_time": "2023-02-14T12:54:37.167Z"
   },
   {
    "duration": 159,
    "start_time": "2023-02-14T12:55:09.824Z"
   },
   {
    "duration": 129,
    "start_time": "2023-02-14T12:55:14.379Z"
   },
   {
    "duration": 136,
    "start_time": "2023-02-14T12:55:31.467Z"
   },
   {
    "duration": 158,
    "start_time": "2023-02-14T12:55:40.925Z"
   },
   {
    "duration": 69,
    "start_time": "2023-02-14T12:56:53.674Z"
   },
   {
    "duration": 161,
    "start_time": "2023-02-14T12:57:01.617Z"
   },
   {
    "duration": 222,
    "start_time": "2023-02-14T13:01:35.913Z"
   },
   {
    "duration": 169,
    "start_time": "2023-02-14T13:03:11.695Z"
   },
   {
    "duration": 164,
    "start_time": "2023-02-14T13:03:23.039Z"
   },
   {
    "duration": 178,
    "start_time": "2023-02-14T13:03:44.840Z"
   },
   {
    "duration": 280,
    "start_time": "2023-02-14T13:05:00.567Z"
   },
   {
    "duration": 245,
    "start_time": "2023-02-14T13:05:33.142Z"
   },
   {
    "duration": 290,
    "start_time": "2023-02-14T13:05:45.181Z"
   },
   {
    "duration": 189,
    "start_time": "2023-02-14T13:05:59.422Z"
   },
   {
    "duration": 192,
    "start_time": "2023-02-14T13:06:07.245Z"
   },
   {
    "duration": 168,
    "start_time": "2023-02-14T13:06:19.237Z"
   },
   {
    "duration": 80,
    "start_time": "2023-02-14T13:23:08.927Z"
   },
   {
    "duration": 90,
    "start_time": "2023-02-14T13:23:29.346Z"
   },
   {
    "duration": 84,
    "start_time": "2023-02-14T13:23:37.957Z"
   },
   {
    "duration": 87,
    "start_time": "2023-02-14T13:23:43.048Z"
   },
   {
    "duration": 6,
    "start_time": "2023-02-14T13:23:53.389Z"
   },
   {
    "duration": 0,
    "start_time": "2023-02-14T13:25:10.547Z"
   },
   {
    "duration": 406,
    "start_time": "2023-02-14T13:25:31.206Z"
   },
   {
    "duration": 1595,
    "start_time": "2023-02-14T13:26:27.686Z"
   },
   {
    "duration": 31,
    "start_time": "2023-02-14T13:27:28.331Z"
   },
   {
    "duration": 13,
    "start_time": "2023-02-14T13:27:57.428Z"
   },
   {
    "duration": 2646,
    "start_time": "2023-02-14T13:28:17.468Z"
   },
   {
    "duration": 11,
    "start_time": "2023-02-14T13:29:15.589Z"
   },
   {
    "duration": 80,
    "start_time": "2023-02-14T13:29:27.828Z"
   },
   {
    "duration": 125,
    "start_time": "2023-02-14T13:31:17.556Z"
   },
   {
    "duration": 707,
    "start_time": "2023-02-14T13:42:56.606Z"
   },
   {
    "duration": 1674,
    "start_time": "2023-02-14T13:55:16.165Z"
   },
   {
    "duration": 856,
    "start_time": "2023-02-14T13:55:17.841Z"
   },
   {
    "duration": 72,
    "start_time": "2023-02-14T13:55:18.704Z"
   },
   {
    "duration": 33,
    "start_time": "2023-02-14T13:55:18.778Z"
   },
   {
    "duration": 80,
    "start_time": "2023-02-14T13:55:18.814Z"
   },
   {
    "duration": 18,
    "start_time": "2023-02-14T13:55:18.896Z"
   },
   {
    "duration": 102,
    "start_time": "2023-02-14T13:55:18.916Z"
   },
   {
    "duration": 18,
    "start_time": "2023-02-14T13:55:19.019Z"
   },
   {
    "duration": 28,
    "start_time": "2023-02-14T13:55:19.038Z"
   },
   {
    "duration": 44,
    "start_time": "2023-02-14T13:55:19.068Z"
   },
   {
    "duration": 35,
    "start_time": "2023-02-14T13:55:19.114Z"
   },
   {
    "duration": 14,
    "start_time": "2023-02-14T13:55:19.151Z"
   },
   {
    "duration": 45,
    "start_time": "2023-02-14T13:55:19.167Z"
   },
   {
    "duration": 74,
    "start_time": "2023-02-14T13:55:19.216Z"
   },
   {
    "duration": 61,
    "start_time": "2023-02-14T13:55:19.293Z"
   },
   {
    "duration": 119,
    "start_time": "2023-02-14T13:55:19.356Z"
   },
   {
    "duration": 159,
    "start_time": "2023-02-14T13:55:19.477Z"
   },
   {
    "duration": 146,
    "start_time": "2023-02-14T13:55:19.638Z"
   },
   {
    "duration": 158,
    "start_time": "2023-02-14T13:55:19.786Z"
   },
   {
    "duration": 213,
    "start_time": "2023-02-14T13:55:19.947Z"
   },
   {
    "duration": 212,
    "start_time": "2023-02-14T13:55:20.162Z"
   },
   {
    "duration": 138,
    "start_time": "2023-02-14T13:55:20.376Z"
   },
   {
    "duration": 0,
    "start_time": "2023-02-14T13:55:20.515Z"
   },
   {
    "duration": 9,
    "start_time": "2023-02-14T13:56:44.342Z"
   },
   {
    "duration": 3,
    "start_time": "2023-02-14T15:36:14.711Z"
   },
   {
    "duration": 109,
    "start_time": "2023-02-14T15:38:57.398Z"
   },
   {
    "duration": 8,
    "start_time": "2023-02-14T15:39:14.533Z"
   },
   {
    "duration": 116,
    "start_time": "2023-02-14T15:39:16.846Z"
   },
   {
    "duration": 1629,
    "start_time": "2023-02-14T15:40:01.634Z"
   },
   {
    "duration": 727,
    "start_time": "2023-02-14T15:40:03.265Z"
   },
   {
    "duration": 62,
    "start_time": "2023-02-14T15:40:03.994Z"
   },
   {
    "duration": 33,
    "start_time": "2023-02-14T15:40:04.058Z"
   },
   {
    "duration": 43,
    "start_time": "2023-02-14T15:40:04.093Z"
   },
   {
    "duration": 53,
    "start_time": "2023-02-14T15:40:04.137Z"
   },
   {
    "duration": 80,
    "start_time": "2023-02-14T15:40:04.192Z"
   },
   {
    "duration": 20,
    "start_time": "2023-02-14T15:40:04.274Z"
   },
   {
    "duration": 8,
    "start_time": "2023-02-14T15:40:04.296Z"
   },
   {
    "duration": 22,
    "start_time": "2023-02-14T15:40:04.306Z"
   },
   {
    "duration": 26,
    "start_time": "2023-02-14T15:40:04.329Z"
   },
   {
    "duration": 21,
    "start_time": "2023-02-14T15:40:04.357Z"
   },
   {
    "duration": 34,
    "start_time": "2023-02-14T15:40:04.380Z"
   },
   {
    "duration": 41,
    "start_time": "2023-02-14T15:40:04.415Z"
   },
   {
    "duration": 22,
    "start_time": "2023-02-14T15:40:04.458Z"
   },
   {
    "duration": 119,
    "start_time": "2023-02-14T15:40:04.482Z"
   },
   {
    "duration": 153,
    "start_time": "2023-02-14T15:40:04.603Z"
   },
   {
    "duration": 140,
    "start_time": "2023-02-14T15:40:04.758Z"
   },
   {
    "duration": 144,
    "start_time": "2023-02-14T15:40:04.900Z"
   },
   {
    "duration": 203,
    "start_time": "2023-02-14T15:40:05.046Z"
   },
   {
    "duration": 205,
    "start_time": "2023-02-14T15:40:05.251Z"
   },
   {
    "duration": 7,
    "start_time": "2023-02-14T15:40:05.457Z"
   },
   {
    "duration": 133,
    "start_time": "2023-02-14T15:40:05.466Z"
   },
   {
    "duration": 9,
    "start_time": "2023-02-14T15:44:25.221Z"
   },
   {
    "duration": 992,
    "start_time": "2023-02-14T15:44:26.100Z"
   },
   {
    "duration": 954,
    "start_time": "2023-02-14T17:53:27.941Z"
   },
   {
    "duration": 640,
    "start_time": "2023-02-14T17:53:42.358Z"
   },
   {
    "duration": 1694,
    "start_time": "2023-02-17T10:16:13.478Z"
   },
   {
    "duration": 2236,
    "start_time": "2023-02-17T10:16:15.175Z"
   },
   {
    "duration": 90,
    "start_time": "2023-02-17T10:16:17.413Z"
   },
   {
    "duration": 38,
    "start_time": "2023-02-17T10:16:17.505Z"
   },
   {
    "duration": 55,
    "start_time": "2023-02-17T10:16:17.553Z"
   },
   {
    "duration": 36,
    "start_time": "2023-02-17T10:16:17.611Z"
   },
   {
    "duration": 72,
    "start_time": "2023-02-17T10:16:17.655Z"
   },
   {
    "duration": 28,
    "start_time": "2023-02-17T10:16:17.729Z"
   },
   {
    "duration": 11,
    "start_time": "2023-02-17T10:16:17.759Z"
   },
   {
    "duration": 6,
    "start_time": "2023-02-17T10:16:17.772Z"
   },
   {
    "duration": 23,
    "start_time": "2023-02-17T10:16:17.780Z"
   },
   {
    "duration": 10,
    "start_time": "2023-02-17T10:16:17.805Z"
   },
   {
    "duration": 10,
    "start_time": "2023-02-17T10:16:17.844Z"
   },
   {
    "duration": 172,
    "start_time": "2023-02-17T10:16:17.858Z"
   },
   {
    "duration": 0,
    "start_time": "2023-02-17T10:16:18.032Z"
   },
   {
    "duration": 0,
    "start_time": "2023-02-17T10:16:18.033Z"
   },
   {
    "duration": 0,
    "start_time": "2023-02-17T10:16:18.043Z"
   },
   {
    "duration": 0,
    "start_time": "2023-02-17T10:16:18.045Z"
   },
   {
    "duration": 0,
    "start_time": "2023-02-17T10:16:18.047Z"
   },
   {
    "duration": 0,
    "start_time": "2023-02-17T10:16:18.048Z"
   },
   {
    "duration": 0,
    "start_time": "2023-02-17T10:16:18.048Z"
   },
   {
    "duration": 0,
    "start_time": "2023-02-17T10:16:18.049Z"
   },
   {
    "duration": 0,
    "start_time": "2023-02-17T10:16:18.050Z"
   },
   {
    "duration": 0,
    "start_time": "2023-02-17T10:16:18.051Z"
   },
   {
    "duration": 0,
    "start_time": "2023-02-17T10:16:18.051Z"
   },
   {
    "duration": 0,
    "start_time": "2023-02-17T10:16:18.052Z"
   },
   {
    "duration": 0,
    "start_time": "2023-02-17T10:16:18.057Z"
   },
   {
    "duration": 4,
    "start_time": "2023-02-17T10:17:13.657Z"
   },
   {
    "duration": 1552,
    "start_time": "2023-02-17T10:17:18.791Z"
   },
   {
    "duration": 890,
    "start_time": "2023-02-17T10:17:20.346Z"
   },
   {
    "duration": 70,
    "start_time": "2023-02-17T10:17:21.239Z"
   },
   {
    "duration": 46,
    "start_time": "2023-02-17T10:17:21.311Z"
   },
   {
    "duration": 45,
    "start_time": "2023-02-17T10:17:21.360Z"
   },
   {
    "duration": 22,
    "start_time": "2023-02-17T10:17:21.406Z"
   },
   {
    "duration": 118,
    "start_time": "2023-02-17T10:17:21.429Z"
   },
   {
    "duration": 33,
    "start_time": "2023-02-17T10:17:21.549Z"
   },
   {
    "duration": 19,
    "start_time": "2023-02-17T10:17:21.585Z"
   },
   {
    "duration": 9,
    "start_time": "2023-02-17T10:17:21.606Z"
   },
   {
    "duration": 36,
    "start_time": "2023-02-17T10:17:21.617Z"
   },
   {
    "duration": 20,
    "start_time": "2023-02-17T10:17:21.655Z"
   },
   {
    "duration": 14,
    "start_time": "2023-02-17T10:17:21.679Z"
   },
   {
    "duration": 602,
    "start_time": "2023-02-17T10:17:21.697Z"
   },
   {
    "duration": 0,
    "start_time": "2023-02-17T10:17:22.301Z"
   },
   {
    "duration": 0,
    "start_time": "2023-02-17T10:17:22.302Z"
   },
   {
    "duration": 0,
    "start_time": "2023-02-17T10:17:22.303Z"
   },
   {
    "duration": 0,
    "start_time": "2023-02-17T10:17:22.304Z"
   },
   {
    "duration": 0,
    "start_time": "2023-02-17T10:17:22.305Z"
   },
   {
    "duration": 0,
    "start_time": "2023-02-17T10:17:22.306Z"
   },
   {
    "duration": 0,
    "start_time": "2023-02-17T10:17:22.308Z"
   },
   {
    "duration": 0,
    "start_time": "2023-02-17T10:17:22.309Z"
   },
   {
    "duration": 0,
    "start_time": "2023-02-17T10:17:22.309Z"
   },
   {
    "duration": 0,
    "start_time": "2023-02-17T10:17:22.310Z"
   },
   {
    "duration": 0,
    "start_time": "2023-02-17T10:17:22.311Z"
   },
   {
    "duration": 0,
    "start_time": "2023-02-17T10:17:22.313Z"
   },
   {
    "duration": 0,
    "start_time": "2023-02-17T10:17:22.314Z"
   },
   {
    "duration": 40,
    "start_time": "2023-02-17T10:17:38.316Z"
   },
   {
    "duration": 68,
    "start_time": "2023-02-17T10:18:17.628Z"
   },
   {
    "duration": 46,
    "start_time": "2023-02-17T10:19:13.524Z"
   },
   {
    "duration": 43,
    "start_time": "2023-02-17T10:24:00.033Z"
   },
   {
    "duration": 88,
    "start_time": "2023-02-17T10:26:25.992Z"
   },
   {
    "duration": 102,
    "start_time": "2023-02-17T10:26:44.420Z"
   },
   {
    "duration": 79,
    "start_time": "2023-02-17T10:27:26.137Z"
   },
   {
    "duration": 42,
    "start_time": "2023-02-17T10:27:39.752Z"
   },
   {
    "duration": 1476,
    "start_time": "2023-02-17T10:40:24.747Z"
   },
   {
    "duration": 775,
    "start_time": "2023-02-17T10:40:26.225Z"
   },
   {
    "duration": 80,
    "start_time": "2023-02-17T10:40:27.002Z"
   },
   {
    "duration": 21,
    "start_time": "2023-02-17T10:40:27.085Z"
   },
   {
    "duration": 59,
    "start_time": "2023-02-17T10:40:27.109Z"
   },
   {
    "duration": 13,
    "start_time": "2023-02-17T10:40:27.169Z"
   },
   {
    "duration": 80,
    "start_time": "2023-02-17T10:40:27.184Z"
   },
   {
    "duration": 20,
    "start_time": "2023-02-17T10:40:27.266Z"
   },
   {
    "duration": 9,
    "start_time": "2023-02-17T10:40:27.287Z"
   },
   {
    "duration": 5,
    "start_time": "2023-02-17T10:40:27.299Z"
   },
   {
    "duration": 42,
    "start_time": "2023-02-17T10:40:27.306Z"
   },
   {
    "duration": 9,
    "start_time": "2023-02-17T10:40:27.350Z"
   },
   {
    "duration": 9,
    "start_time": "2023-02-17T10:40:27.360Z"
   },
   {
    "duration": 35,
    "start_time": "2023-02-17T10:40:27.371Z"
   },
   {
    "duration": 42,
    "start_time": "2023-02-17T10:40:27.408Z"
   },
   {
    "duration": 14,
    "start_time": "2023-02-17T10:40:27.452Z"
   },
   {
    "duration": 120,
    "start_time": "2023-02-17T10:40:27.468Z"
   },
   {
    "duration": 173,
    "start_time": "2023-02-17T10:40:27.589Z"
   },
   {
    "duration": 154,
    "start_time": "2023-02-17T10:40:27.764Z"
   },
   {
    "duration": 151,
    "start_time": "2023-02-17T10:40:27.920Z"
   },
   {
    "duration": 202,
    "start_time": "2023-02-17T10:40:28.074Z"
   },
   {
    "duration": 230,
    "start_time": "2023-02-17T10:40:28.277Z"
   },
   {
    "duration": 5,
    "start_time": "2023-02-17T10:40:28.509Z"
   },
   {
    "duration": 26,
    "start_time": "2023-02-17T10:40:28.515Z"
   },
   {
    "duration": 809,
    "start_time": "2023-02-17T10:40:28.542Z"
   },
   {
    "duration": 6722,
    "start_time": "2023-02-17T10:40:29.354Z"
   },
   {
    "duration": 1503,
    "start_time": "2023-02-17T10:41:17.413Z"
   },
   {
    "duration": 911,
    "start_time": "2023-02-17T10:41:18.918Z"
   },
   {
    "duration": 88,
    "start_time": "2023-02-17T10:41:19.831Z"
   },
   {
    "duration": 42,
    "start_time": "2023-02-17T10:41:19.922Z"
   },
   {
    "duration": 47,
    "start_time": "2023-02-17T10:41:19.966Z"
   },
   {
    "duration": 38,
    "start_time": "2023-02-17T10:41:20.015Z"
   },
   {
    "duration": 70,
    "start_time": "2023-02-17T10:41:20.055Z"
   },
   {
    "duration": 36,
    "start_time": "2023-02-17T10:41:20.126Z"
   },
   {
    "duration": 17,
    "start_time": "2023-02-17T10:41:20.164Z"
   },
   {
    "duration": 20,
    "start_time": "2023-02-17T10:41:20.185Z"
   },
   {
    "duration": 21,
    "start_time": "2023-02-17T10:41:20.207Z"
   },
   {
    "duration": 25,
    "start_time": "2023-02-17T10:41:20.230Z"
   },
   {
    "duration": 16,
    "start_time": "2023-02-17T10:41:20.257Z"
   },
   {
    "duration": 63,
    "start_time": "2023-02-17T10:41:20.275Z"
   },
   {
    "duration": 20,
    "start_time": "2023-02-17T10:41:20.340Z"
   },
   {
    "duration": 29,
    "start_time": "2023-02-17T10:41:20.362Z"
   },
   {
    "duration": 128,
    "start_time": "2023-02-17T10:41:20.393Z"
   },
   {
    "duration": 172,
    "start_time": "2023-02-17T10:41:20.524Z"
   },
   {
    "duration": 156,
    "start_time": "2023-02-17T10:41:20.698Z"
   },
   {
    "duration": 158,
    "start_time": "2023-02-17T10:41:20.857Z"
   },
   {
    "duration": 257,
    "start_time": "2023-02-17T10:41:21.017Z"
   },
   {
    "duration": 234,
    "start_time": "2023-02-17T10:41:21.276Z"
   },
   {
    "duration": 6,
    "start_time": "2023-02-17T10:41:21.512Z"
   },
   {
    "duration": 32,
    "start_time": "2023-02-17T10:41:21.520Z"
   },
   {
    "duration": 994,
    "start_time": "2023-02-17T10:41:21.554Z"
   },
   {
    "duration": 7053,
    "start_time": "2023-02-17T10:41:22.553Z"
   },
   {
    "duration": 44141,
    "start_time": "2023-02-17T10:41:29.608Z"
   },
   {
    "duration": 1563,
    "start_time": "2023-02-17T10:42:25.492Z"
   },
   {
    "duration": 829,
    "start_time": "2023-02-17T10:42:27.058Z"
   },
   {
    "duration": 94,
    "start_time": "2023-02-17T10:42:27.889Z"
   },
   {
    "duration": 20,
    "start_time": "2023-02-17T10:42:27.985Z"
   },
   {
    "duration": 71,
    "start_time": "2023-02-17T10:42:28.007Z"
   },
   {
    "duration": 15,
    "start_time": "2023-02-17T10:42:28.080Z"
   },
   {
    "duration": 88,
    "start_time": "2023-02-17T10:42:28.097Z"
   },
   {
    "duration": 21,
    "start_time": "2023-02-17T10:42:28.187Z"
   },
   {
    "duration": 8,
    "start_time": "2023-02-17T10:42:28.210Z"
   },
   {
    "duration": 24,
    "start_time": "2023-02-17T10:42:28.221Z"
   },
   {
    "duration": 33,
    "start_time": "2023-02-17T10:42:28.249Z"
   },
   {
    "duration": 7,
    "start_time": "2023-02-17T10:42:28.284Z"
   },
   {
    "duration": 14,
    "start_time": "2023-02-17T10:42:28.293Z"
   },
   {
    "duration": 54,
    "start_time": "2023-02-17T10:42:28.310Z"
   },
   {
    "duration": 18,
    "start_time": "2023-02-17T10:42:28.365Z"
   },
   {
    "duration": 13,
    "start_time": "2023-02-17T10:42:28.385Z"
   },
   {
    "duration": 133,
    "start_time": "2023-02-17T10:42:28.400Z"
   },
   {
    "duration": 184,
    "start_time": "2023-02-17T10:42:28.534Z"
   },
   {
    "duration": 173,
    "start_time": "2023-02-17T10:42:28.721Z"
   },
   {
    "duration": 158,
    "start_time": "2023-02-17T10:42:28.895Z"
   },
   {
    "duration": 262,
    "start_time": "2023-02-17T10:42:29.060Z"
   },
   {
    "duration": 283,
    "start_time": "2023-02-17T10:42:29.325Z"
   },
   {
    "duration": 5,
    "start_time": "2023-02-17T10:42:29.609Z"
   },
   {
    "duration": 31,
    "start_time": "2023-02-17T10:42:29.616Z"
   },
   {
    "duration": 1400,
    "start_time": "2023-02-17T10:42:29.649Z"
   },
   {
    "duration": 7105,
    "start_time": "2023-02-17T10:42:31.053Z"
   },
   {
    "duration": 44204,
    "start_time": "2023-02-17T10:42:38.161Z"
   },
   {
    "duration": 163,
    "start_time": "2023-02-17T10:49:00.743Z"
   },
   {
    "duration": 14,
    "start_time": "2023-02-17T10:59:38.602Z"
   },
   {
    "duration": 1818,
    "start_time": "2023-02-17T11:00:30.226Z"
   },
   {
    "duration": 14,
    "start_time": "2023-02-17T11:00:32.314Z"
   },
   {
    "duration": 15,
    "start_time": "2023-02-17T11:00:44.274Z"
   },
   {
    "duration": 1439,
    "start_time": "2023-02-17T11:00:56.873Z"
   },
   {
    "duration": 744,
    "start_time": "2023-02-17T11:00:58.314Z"
   },
   {
    "duration": 69,
    "start_time": "2023-02-17T11:00:59.060Z"
   },
   {
    "duration": 18,
    "start_time": "2023-02-17T11:00:59.141Z"
   },
   {
    "duration": 46,
    "start_time": "2023-02-17T11:00:59.161Z"
   },
   {
    "duration": 44,
    "start_time": "2023-02-17T11:00:59.209Z"
   },
   {
    "duration": 103,
    "start_time": "2023-02-17T11:00:59.255Z"
   },
   {
    "duration": 32,
    "start_time": "2023-02-17T11:00:59.360Z"
   },
   {
    "duration": 12,
    "start_time": "2023-02-17T11:00:59.394Z"
   },
   {
    "duration": 35,
    "start_time": "2023-02-17T11:00:59.408Z"
   },
   {
    "duration": 23,
    "start_time": "2023-02-17T11:00:59.445Z"
   },
   {
    "duration": 24,
    "start_time": "2023-02-17T11:00:59.471Z"
   },
   {
    "duration": 13,
    "start_time": "2023-02-17T11:00:59.497Z"
   },
   {
    "duration": 30,
    "start_time": "2023-02-17T11:00:59.514Z"
   },
   {
    "duration": 16,
    "start_time": "2023-02-17T11:00:59.546Z"
   },
   {
    "duration": 13,
    "start_time": "2023-02-17T11:00:59.564Z"
   },
   {
    "duration": 126,
    "start_time": "2023-02-17T11:00:59.579Z"
   },
   {
    "duration": 157,
    "start_time": "2023-02-17T11:00:59.707Z"
   },
   {
    "duration": 158,
    "start_time": "2023-02-17T11:00:59.866Z"
   },
   {
    "duration": 155,
    "start_time": "2023-02-17T11:01:00.026Z"
   },
   {
    "duration": 222,
    "start_time": "2023-02-17T11:01:00.183Z"
   },
   {
    "duration": 228,
    "start_time": "2023-02-17T11:01:00.406Z"
   },
   {
    "duration": 4,
    "start_time": "2023-02-17T11:01:00.641Z"
   },
   {
    "duration": 64,
    "start_time": "2023-02-17T11:01:00.648Z"
   },
   {
    "duration": 1038,
    "start_time": "2023-02-17T11:01:00.714Z"
   },
   {
    "duration": 6643,
    "start_time": "2023-02-17T11:01:01.841Z"
   },
   {
    "duration": 43151,
    "start_time": "2023-02-17T11:01:08.486Z"
   },
   {
    "duration": 1868,
    "start_time": "2023-02-17T11:01:51.639Z"
   },
   {
    "duration": 15,
    "start_time": "2023-02-17T11:01:53.509Z"
   },
   {
    "duration": 13,
    "start_time": "2023-02-17T11:02:42.529Z"
   },
   {
    "duration": 1439,
    "start_time": "2023-02-17T11:03:03.862Z"
   },
   {
    "duration": 754,
    "start_time": "2023-02-17T11:03:05.304Z"
   },
   {
    "duration": 92,
    "start_time": "2023-02-17T11:03:06.060Z"
   },
   {
    "duration": 18,
    "start_time": "2023-02-17T11:03:06.153Z"
   },
   {
    "duration": 67,
    "start_time": "2023-02-17T11:03:06.174Z"
   },
   {
    "duration": 14,
    "start_time": "2023-02-17T11:03:06.243Z"
   },
   {
    "duration": 80,
    "start_time": "2023-02-17T11:03:06.259Z"
   },
   {
    "duration": 20,
    "start_time": "2023-02-17T11:03:06.341Z"
   },
   {
    "duration": 10,
    "start_time": "2023-02-17T11:03:06.363Z"
   },
   {
    "duration": 12,
    "start_time": "2023-02-17T11:03:06.375Z"
   },
   {
    "duration": 18,
    "start_time": "2023-02-17T11:03:06.389Z"
   },
   {
    "duration": 37,
    "start_time": "2023-02-17T11:03:06.409Z"
   },
   {
    "duration": 14,
    "start_time": "2023-02-17T11:03:06.448Z"
   },
   {
    "duration": 61,
    "start_time": "2023-02-17T11:03:06.465Z"
   },
   {
    "duration": 19,
    "start_time": "2023-02-17T11:03:06.528Z"
   },
   {
    "duration": 13,
    "start_time": "2023-02-17T11:03:06.549Z"
   },
   {
    "duration": 110,
    "start_time": "2023-02-17T11:03:06.564Z"
   },
   {
    "duration": 173,
    "start_time": "2023-02-17T11:03:06.676Z"
   },
   {
    "duration": 147,
    "start_time": "2023-02-17T11:03:06.851Z"
   },
   {
    "duration": 161,
    "start_time": "2023-02-17T11:03:07.000Z"
   },
   {
    "duration": 217,
    "start_time": "2023-02-17T11:03:07.163Z"
   },
   {
    "duration": 223,
    "start_time": "2023-02-17T11:03:07.382Z"
   },
   {
    "duration": 5,
    "start_time": "2023-02-17T11:03:07.608Z"
   },
   {
    "duration": 25,
    "start_time": "2023-02-17T11:03:07.615Z"
   },
   {
    "duration": 903,
    "start_time": "2023-02-17T11:03:07.642Z"
   },
   {
    "duration": 6739,
    "start_time": "2023-02-17T11:03:08.548Z"
   },
   {
    "duration": 42644,
    "start_time": "2023-02-17T11:03:15.288Z"
   },
   {
    "duration": 1899,
    "start_time": "2023-02-17T11:03:57.934Z"
   },
   {
    "duration": 17,
    "start_time": "2023-02-17T11:03:59.834Z"
   },
   {
    "duration": 1687,
    "start_time": "2023-02-17T11:45:45.544Z"
   },
   {
    "duration": 839,
    "start_time": "2023-02-17T11:45:47.233Z"
   },
   {
    "duration": 78,
    "start_time": "2023-02-17T11:45:48.074Z"
   },
   {
    "duration": 21,
    "start_time": "2023-02-17T11:45:48.154Z"
   },
   {
    "duration": 65,
    "start_time": "2023-02-17T11:45:48.177Z"
   },
   {
    "duration": 15,
    "start_time": "2023-02-17T11:45:48.244Z"
   },
   {
    "duration": 89,
    "start_time": "2023-02-17T11:45:48.261Z"
   },
   {
    "duration": 23,
    "start_time": "2023-02-17T11:45:48.352Z"
   },
   {
    "duration": 10,
    "start_time": "2023-02-17T11:45:48.376Z"
   },
   {
    "duration": 7,
    "start_time": "2023-02-17T11:45:48.388Z"
   },
   {
    "duration": 42,
    "start_time": "2023-02-17T11:45:48.398Z"
   },
   {
    "duration": 8,
    "start_time": "2023-02-17T11:45:48.444Z"
   },
   {
    "duration": 9,
    "start_time": "2023-02-17T11:45:48.455Z"
   },
   {
    "duration": 30,
    "start_time": "2023-02-17T11:45:48.468Z"
   },
   {
    "duration": 43,
    "start_time": "2023-02-17T11:45:48.500Z"
   },
   {
    "duration": 11,
    "start_time": "2023-02-17T11:45:48.544Z"
   },
   {
    "duration": 124,
    "start_time": "2023-02-17T11:45:48.558Z"
   },
   {
    "duration": 170,
    "start_time": "2023-02-17T11:45:48.684Z"
   },
   {
    "duration": 179,
    "start_time": "2023-02-17T11:45:48.856Z"
   },
   {
    "duration": 188,
    "start_time": "2023-02-17T11:45:49.037Z"
   },
   {
    "duration": 250,
    "start_time": "2023-02-17T11:45:49.227Z"
   },
   {
    "duration": 232,
    "start_time": "2023-02-17T11:45:49.479Z"
   },
   {
    "duration": 5,
    "start_time": "2023-02-17T11:45:49.713Z"
   },
   {
    "duration": 25,
    "start_time": "2023-02-17T11:45:49.720Z"
   },
   {
    "duration": 1196,
    "start_time": "2023-02-17T11:45:49.748Z"
   },
   {
    "duration": 7370,
    "start_time": "2023-02-17T11:45:50.946Z"
   },
   {
    "duration": 45940,
    "start_time": "2023-02-17T11:45:58.318Z"
   },
   {
    "duration": 2087,
    "start_time": "2023-02-17T11:46:44.260Z"
   },
   {
    "duration": 14,
    "start_time": "2023-02-17T11:46:46.349Z"
   },
   {
    "duration": 1574,
    "start_time": "2023-02-18T16:01:57.378Z"
   },
   {
    "duration": 1972,
    "start_time": "2023-02-18T16:01:58.953Z"
   },
   {
    "duration": 4,
    "start_time": "2023-02-18T16:17:47.701Z"
   },
   {
    "duration": 728,
    "start_time": "2023-02-18T16:17:50.960Z"
   },
   {
    "duration": 77,
    "start_time": "2023-02-18T16:17:52.537Z"
   },
   {
    "duration": 19,
    "start_time": "2023-02-18T16:17:53.120Z"
   },
   {
    "duration": 39,
    "start_time": "2023-02-18T16:17:53.792Z"
   },
   {
    "duration": 14,
    "start_time": "2023-02-18T16:17:54.016Z"
   },
   {
    "duration": 62,
    "start_time": "2023-02-18T16:17:54.465Z"
   },
   {
    "duration": 20,
    "start_time": "2023-02-18T16:17:54.760Z"
   },
   {
    "duration": 20,
    "start_time": "2023-02-18T16:17:58.033Z"
   },
   {
    "duration": 6,
    "start_time": "2023-02-18T16:18:00.207Z"
   },
   {
    "duration": 6,
    "start_time": "2023-02-18T16:19:37.935Z"
   },
   {
    "duration": 5,
    "start_time": "2023-02-18T16:19:38.488Z"
   },
   {
    "duration": 5,
    "start_time": "2023-02-18T16:21:50.867Z"
   },
   {
    "duration": 10,
    "start_time": "2023-02-18T16:21:54.870Z"
   },
   {
    "duration": 8,
    "start_time": "2023-02-18T16:21:55.301Z"
   },
   {
    "duration": 6,
    "start_time": "2023-02-18T16:21:56.269Z"
   },
   {
    "duration": 141,
    "start_time": "2023-02-18T16:49:21.250Z"
   },
   {
    "duration": 119,
    "start_time": "2023-02-18T16:50:41.446Z"
   },
   {
    "duration": 137,
    "start_time": "2023-02-18T16:51:46.041Z"
   },
   {
    "duration": 147,
    "start_time": "2023-02-18T16:51:46.793Z"
   },
   {
    "duration": 143,
    "start_time": "2023-02-18T16:51:47.545Z"
   },
   {
    "duration": 233,
    "start_time": "2023-02-18T16:52:42.818Z"
   },
   {
    "duration": 134,
    "start_time": "2023-02-18T16:53:01.119Z"
   },
   {
    "duration": 366,
    "start_time": "2023-02-18T16:54:38.975Z"
   },
   {
    "duration": 324,
    "start_time": "2023-02-18T16:54:46.657Z"
   },
   {
    "duration": 404,
    "start_time": "2023-02-18T16:55:04.059Z"
   },
   {
    "duration": 376,
    "start_time": "2023-02-18T16:55:20.103Z"
   },
   {
    "duration": 553,
    "start_time": "2023-02-18T16:55:30.495Z"
   },
   {
    "duration": 329,
    "start_time": "2023-02-18T16:56:55.543Z"
   },
   {
    "duration": 356,
    "start_time": "2023-02-18T16:57:01.950Z"
   },
   {
    "duration": 363,
    "start_time": "2023-02-18T16:57:46.413Z"
   },
   {
    "duration": 359,
    "start_time": "2023-02-18T16:57:59.309Z"
   },
   {
    "duration": 372,
    "start_time": "2023-02-18T16:58:44.599Z"
   },
   {
    "duration": 503,
    "start_time": "2023-02-18T16:58:56.933Z"
   },
   {
    "duration": 347,
    "start_time": "2023-02-18T16:59:10.258Z"
   },
   {
    "duration": 43,
    "start_time": "2023-02-18T16:59:20.926Z"
   },
   {
    "duration": 377,
    "start_time": "2023-02-18T17:00:44.645Z"
   },
   {
    "duration": 44,
    "start_time": "2023-02-18T17:02:34.725Z"
   },
   {
    "duration": 52,
    "start_time": "2023-02-18T17:02:47.989Z"
   },
   {
    "duration": 50,
    "start_time": "2023-02-18T17:03:02.107Z"
   },
   {
    "duration": 64,
    "start_time": "2023-02-18T17:03:17.364Z"
   },
   {
    "duration": 54,
    "start_time": "2023-02-18T17:03:20.899Z"
   },
   {
    "duration": 69,
    "start_time": "2023-02-18T17:03:27.771Z"
   },
   {
    "duration": 50,
    "start_time": "2023-02-18T17:03:34.035Z"
   },
   {
    "duration": 114,
    "start_time": "2023-02-18T17:04:23.123Z"
   },
   {
    "duration": 341,
    "start_time": "2023-02-18T17:04:41.595Z"
   },
   {
    "duration": 341,
    "start_time": "2023-02-18T17:04:57.349Z"
   },
   {
    "duration": 538,
    "start_time": "2023-02-18T17:05:08.860Z"
   },
   {
    "duration": 370,
    "start_time": "2023-02-18T17:05:23.522Z"
   },
   {
    "duration": 386,
    "start_time": "2023-02-18T17:05:59.050Z"
   },
   {
    "duration": 158,
    "start_time": "2023-02-18T17:11:46.768Z"
   },
   {
    "duration": 143,
    "start_time": "2023-02-18T17:14:41.395Z"
   },
   {
    "duration": 146,
    "start_time": "2023-02-18T17:14:42.028Z"
   },
   {
    "duration": 147,
    "start_time": "2023-02-18T17:14:42.621Z"
   },
   {
    "duration": 160,
    "start_time": "2023-02-18T17:14:43.286Z"
   },
   {
    "duration": 181,
    "start_time": "2023-02-18T17:18:07.424Z"
   },
   {
    "duration": 283,
    "start_time": "2023-02-18T17:18:07.758Z"
   },
   {
    "duration": 172,
    "start_time": "2023-02-18T17:18:08.077Z"
   },
   {
    "duration": 156,
    "start_time": "2023-02-18T17:18:08.639Z"
   },
   {
    "duration": 171,
    "start_time": "2023-02-18T17:19:33.661Z"
   },
   {
    "duration": 156,
    "start_time": "2023-02-18T17:19:39.032Z"
   },
   {
    "duration": 166,
    "start_time": "2023-02-18T17:19:44.581Z"
   },
   {
    "duration": 162,
    "start_time": "2023-02-18T17:19:47.894Z"
   },
   {
    "duration": 171,
    "start_time": "2023-02-18T17:19:51.950Z"
   },
   {
    "duration": 156,
    "start_time": "2023-02-18T17:19:55.429Z"
   },
   {
    "duration": 171,
    "start_time": "2023-02-18T17:20:01.798Z"
   },
   {
    "duration": 188,
    "start_time": "2023-02-18T17:20:03.869Z"
   },
   {
    "duration": 335,
    "start_time": "2023-02-18T17:20:30.189Z"
   },
   {
    "duration": 181,
    "start_time": "2023-02-18T17:20:35.092Z"
   },
   {
    "duration": 169,
    "start_time": "2023-02-18T17:20:38.384Z"
   },
   {
    "duration": 178,
    "start_time": "2023-02-18T17:20:42.141Z"
   },
   {
    "duration": 66,
    "start_time": "2023-02-18T17:24:07.248Z"
   },
   {
    "duration": 16,
    "start_time": "2023-02-18T17:24:47.555Z"
   },
   {
    "duration": 322,
    "start_time": "2023-02-18T17:25:51.570Z"
   },
   {
    "duration": 11,
    "start_time": "2023-02-18T17:26:14.859Z"
   },
   {
    "duration": 14,
    "start_time": "2023-02-18T17:26:20.938Z"
   },
   {
    "duration": 379,
    "start_time": "2023-02-18T17:26:42.235Z"
   },
   {
    "duration": 458,
    "start_time": "2023-02-18T17:26:59.090Z"
   },
   {
    "duration": 1661,
    "start_time": "2023-02-18T17:27:06.227Z"
   },
   {
    "duration": 905,
    "start_time": "2023-02-18T17:27:07.891Z"
   },
   {
    "duration": 91,
    "start_time": "2023-02-18T17:27:08.797Z"
   },
   {
    "duration": 47,
    "start_time": "2023-02-18T17:27:08.890Z"
   },
   {
    "duration": 50,
    "start_time": "2023-02-18T17:27:08.945Z"
   },
   {
    "duration": 24,
    "start_time": "2023-02-18T17:27:08.997Z"
   },
   {
    "duration": 120,
    "start_time": "2023-02-18T17:27:09.029Z"
   },
   {
    "duration": 25,
    "start_time": "2023-02-18T17:27:09.153Z"
   },
   {
    "duration": 11,
    "start_time": "2023-02-18T17:27:09.180Z"
   },
   {
    "duration": 6,
    "start_time": "2023-02-18T17:27:09.193Z"
   },
   {
    "duration": 39,
    "start_time": "2023-02-18T17:27:09.209Z"
   },
   {
    "duration": 17,
    "start_time": "2023-02-18T17:27:09.250Z"
   },
   {
    "duration": 12,
    "start_time": "2023-02-18T17:27:09.270Z"
   },
   {
    "duration": 29,
    "start_time": "2023-02-18T17:27:09.286Z"
   },
   {
    "duration": 20,
    "start_time": "2023-02-18T17:27:09.317Z"
   },
   {
    "duration": 30,
    "start_time": "2023-02-18T17:27:09.340Z"
   },
   {
    "duration": 146,
    "start_time": "2023-02-18T17:27:09.373Z"
   },
   {
    "duration": 187,
    "start_time": "2023-02-18T17:27:09.521Z"
   },
   {
    "duration": 213,
    "start_time": "2023-02-18T17:27:09.710Z"
   },
   {
    "duration": 189,
    "start_time": "2023-02-18T17:27:09.927Z"
   },
   {
    "duration": 283,
    "start_time": "2023-02-18T17:27:10.125Z"
   },
   {
    "duration": 231,
    "start_time": "2023-02-18T17:27:10.411Z"
   },
   {
    "duration": 196,
    "start_time": "2023-02-18T17:27:10.644Z"
   },
   {
    "duration": 186,
    "start_time": "2023-02-18T17:27:10.841Z"
   },
   {
    "duration": 199,
    "start_time": "2023-02-18T17:27:11.028Z"
   },
   {
    "duration": 220,
    "start_time": "2023-02-18T17:27:11.229Z"
   },
   {
    "duration": 198,
    "start_time": "2023-02-18T17:27:11.454Z"
   },
   {
    "duration": 192,
    "start_time": "2023-02-18T17:27:11.655Z"
   },
   {
    "duration": 200,
    "start_time": "2023-02-18T17:27:11.849Z"
   },
   {
    "duration": 242,
    "start_time": "2023-02-18T17:27:12.051Z"
   },
   {
    "duration": 434,
    "start_time": "2023-02-18T17:27:12.295Z"
   },
   {
    "duration": 313,
    "start_time": "2023-02-18T17:27:12.732Z"
   },
   {
    "duration": 8,
    "start_time": "2023-02-18T17:27:13.050Z"
   },
   {
    "duration": 46,
    "start_time": "2023-02-18T17:27:13.060Z"
   },
   {
    "duration": 3334,
    "start_time": "2023-02-18T17:27:13.116Z"
   },
   {
    "duration": 7013,
    "start_time": "2023-02-18T17:27:16.456Z"
   },
   {
    "duration": 44872,
    "start_time": "2023-02-18T17:27:23.473Z"
   },
   {
    "duration": 1965,
    "start_time": "2023-02-18T17:28:08.347Z"
   },
   {
    "duration": 16,
    "start_time": "2023-02-18T17:28:10.317Z"
   },
   {
    "duration": 3,
    "start_time": "2023-02-18T17:29:52.161Z"
   },
   {
    "duration": 335,
    "start_time": "2023-02-18T17:30:05.352Z"
   },
   {
    "duration": 389,
    "start_time": "2023-02-18T17:33:00.887Z"
   },
   {
    "duration": 463,
    "start_time": "2023-02-18T17:33:18.368Z"
   },
   {
    "duration": 356,
    "start_time": "2023-02-18T17:33:23.018Z"
   },
   {
    "duration": 18,
    "start_time": "2023-02-18T17:34:29.184Z"
   },
   {
    "duration": 16,
    "start_time": "2023-02-18T17:34:42.150Z"
   },
   {
    "duration": 365,
    "start_time": "2023-02-18T17:35:12.424Z"
   },
   {
    "duration": 356,
    "start_time": "2023-02-18T17:36:20.421Z"
   },
   {
    "duration": 436,
    "start_time": "2023-02-18T17:36:31.877Z"
   },
   {
    "duration": 14,
    "start_time": "2023-02-18T17:37:37.686Z"
   },
   {
    "duration": 377,
    "start_time": "2023-02-18T17:37:45.357Z"
   },
   {
    "duration": 374,
    "start_time": "2023-02-18T17:38:43.157Z"
   },
   {
    "duration": 3,
    "start_time": "2023-02-18T17:39:05.277Z"
   },
   {
    "duration": 389,
    "start_time": "2023-02-18T17:39:10.461Z"
   },
   {
    "duration": 369,
    "start_time": "2023-02-18T17:39:18.357Z"
   },
   {
    "duration": 365,
    "start_time": "2023-02-18T17:39:24.853Z"
   },
   {
    "duration": 367,
    "start_time": "2023-02-18T17:39:32.024Z"
   },
   {
    "duration": 4,
    "start_time": "2023-02-18T17:39:43.589Z"
   },
   {
    "duration": 390,
    "start_time": "2023-02-18T17:40:46.053Z"
   },
   {
    "duration": 413,
    "start_time": "2023-02-18T17:40:51.533Z"
   },
   {
    "duration": 445,
    "start_time": "2023-02-18T17:41:01.965Z"
   },
   {
    "duration": 64,
    "start_time": "2023-02-18T17:41:51.590Z"
   },
   {
    "duration": 616,
    "start_time": "2023-02-18T17:41:55.757Z"
   },
   {
    "duration": 511,
    "start_time": "2023-02-18T17:42:07.989Z"
   },
   {
    "duration": 450,
    "start_time": "2023-02-18T17:42:13.231Z"
   },
   {
    "duration": 475,
    "start_time": "2023-02-18T17:43:09.049Z"
   },
   {
    "duration": 439,
    "start_time": "2023-02-18T17:43:46.452Z"
   },
   {
    "duration": 438,
    "start_time": "2023-02-18T17:44:08.320Z"
   },
   {
    "duration": 487,
    "start_time": "2023-02-18T17:44:41.707Z"
   },
   {
    "duration": 426,
    "start_time": "2023-02-18T17:45:26.522Z"
   },
   {
    "duration": 451,
    "start_time": "2023-02-18T17:45:30.739Z"
   },
   {
    "duration": 486,
    "start_time": "2023-02-18T17:45:38.771Z"
   },
   {
    "duration": 496,
    "start_time": "2023-02-18T17:45:49.899Z"
   },
   {
    "duration": 198,
    "start_time": "2023-02-18T17:47:57.489Z"
   },
   {
    "duration": 181,
    "start_time": "2023-02-18T17:48:11.346Z"
   },
   {
    "duration": 203,
    "start_time": "2023-02-18T17:48:57.418Z"
   },
   {
    "duration": 635,
    "start_time": "2023-02-18T17:49:47.851Z"
   },
   {
    "duration": 217,
    "start_time": "2023-02-18T17:50:13.777Z"
   },
   {
    "duration": 227,
    "start_time": "2023-02-18T17:50:15.105Z"
   },
   {
    "duration": 214,
    "start_time": "2023-02-18T17:50:15.937Z"
   },
   {
    "duration": 218,
    "start_time": "2023-02-18T17:50:16.612Z"
   },
   {
    "duration": 209,
    "start_time": "2023-02-18T17:50:18.794Z"
   },
   {
    "duration": 207,
    "start_time": "2023-02-18T17:50:19.498Z"
   },
   {
    "duration": 229,
    "start_time": "2023-02-18T17:50:20.090Z"
   },
   {
    "duration": 219,
    "start_time": "2023-02-18T17:50:20.832Z"
   },
   {
    "duration": 236,
    "start_time": "2023-02-18T17:50:23.617Z"
   },
   {
    "duration": 231,
    "start_time": "2023-02-18T17:50:24.361Z"
   },
   {
    "duration": 322,
    "start_time": "2023-02-18T17:50:24.890Z"
   },
   {
    "duration": 216,
    "start_time": "2023-02-18T17:50:25.682Z"
   },
   {
    "duration": 214,
    "start_time": "2023-02-18T17:51:45.568Z"
   },
   {
    "duration": 231,
    "start_time": "2023-02-18T17:51:46.461Z"
   },
   {
    "duration": 241,
    "start_time": "2023-02-18T17:51:47.049Z"
   },
   {
    "duration": 8,
    "start_time": "2023-02-18T17:51:50.905Z"
   },
   {
    "duration": 227,
    "start_time": "2023-02-18T17:51:53.784Z"
   },
   {
    "duration": 241,
    "start_time": "2023-02-18T17:51:54.810Z"
   },
   {
    "duration": 230,
    "start_time": "2023-02-18T17:51:55.584Z"
   },
   {
    "duration": 226,
    "start_time": "2023-02-18T17:53:20.416Z"
   },
   {
    "duration": 281,
    "start_time": "2023-02-18T17:53:24.168Z"
   },
   {
    "duration": 236,
    "start_time": "2023-02-18T17:53:33.432Z"
   },
   {
    "duration": 177,
    "start_time": "2023-02-18T17:56:55.270Z"
   },
   {
    "duration": 247,
    "start_time": "2023-02-18T17:57:29.447Z"
   },
   {
    "duration": 156,
    "start_time": "2023-02-18T17:57:37.350Z"
   },
   {
    "duration": 262,
    "start_time": "2023-02-18T17:58:04.023Z"
   },
   {
    "duration": 158,
    "start_time": "2023-02-18T17:58:12.414Z"
   },
   {
    "duration": 265,
    "start_time": "2023-02-18T18:01:27.270Z"
   },
   {
    "duration": 221,
    "start_time": "2023-02-18T18:03:52.515Z"
   },
   {
    "duration": 159,
    "start_time": "2023-02-18T18:04:06.035Z"
   },
   {
    "duration": 15,
    "start_time": "2023-02-18T18:05:17.714Z"
   },
   {
    "duration": 8,
    "start_time": "2023-02-18T18:05:35.128Z"
   },
   {
    "duration": 7,
    "start_time": "2023-02-18T18:05:42.100Z"
   },
   {
    "duration": 735,
    "start_time": "2023-02-18T18:06:28.899Z"
   },
   {
    "duration": 12,
    "start_time": "2023-02-18T18:06:44.140Z"
   },
   {
    "duration": 7,
    "start_time": "2023-02-18T18:07:00.226Z"
   },
   {
    "duration": 11,
    "start_time": "2023-02-18T18:08:13.966Z"
   },
   {
    "duration": 10,
    "start_time": "2023-02-18T18:08:18.809Z"
   },
   {
    "duration": 9,
    "start_time": "2023-02-18T18:08:30.314Z"
   },
   {
    "duration": 190,
    "start_time": "2023-02-18T18:09:57.322Z"
   },
   {
    "duration": 236,
    "start_time": "2023-02-18T18:10:27.267Z"
   },
   {
    "duration": 12,
    "start_time": "2023-02-18T18:11:09.824Z"
   },
   {
    "duration": 11,
    "start_time": "2023-02-18T18:11:16.152Z"
   },
   {
    "duration": 10,
    "start_time": "2023-02-18T18:11:21.656Z"
   },
   {
    "duration": 663,
    "start_time": "2023-02-18T18:18:31.845Z"
   },
   {
    "duration": 17,
    "start_time": "2023-02-18T18:18:45.869Z"
   },
   {
    "duration": 786,
    "start_time": "2023-02-18T18:19:01.045Z"
   },
   {
    "duration": 706,
    "start_time": "2023-02-18T18:19:47.846Z"
   },
   {
    "duration": 682,
    "start_time": "2023-02-18T18:19:54.901Z"
   },
   {
    "duration": 163,
    "start_time": "2023-02-18T18:19:59.173Z"
   },
   {
    "duration": 687,
    "start_time": "2023-02-18T18:20:09.076Z"
   },
   {
    "duration": 4,
    "start_time": "2023-02-18T18:20:49.636Z"
   },
   {
    "duration": 58,
    "start_time": "2023-02-18T18:22:25.499Z"
   },
   {
    "duration": 4,
    "start_time": "2023-02-18T18:22:37.730Z"
   },
   {
    "duration": 59,
    "start_time": "2023-02-18T18:22:46.125Z"
   },
   {
    "duration": 98,
    "start_time": "2023-02-18T18:27:19.926Z"
   },
   {
    "duration": 99,
    "start_time": "2023-02-18T18:28:17.483Z"
   },
   {
    "duration": 112,
    "start_time": "2023-02-18T18:28:38.329Z"
   },
   {
    "duration": 102,
    "start_time": "2023-02-18T18:29:03.921Z"
   },
   {
    "duration": 96,
    "start_time": "2023-02-18T18:29:44.617Z"
   },
   {
    "duration": 108,
    "start_time": "2023-02-18T18:29:51.203Z"
   },
   {
    "duration": 97,
    "start_time": "2023-02-18T18:30:03.729Z"
   },
   {
    "duration": 116,
    "start_time": "2023-02-18T18:31:35.503Z"
   },
   {
    "duration": 1309,
    "start_time": "2023-02-18T18:31:41.051Z"
   },
   {
    "duration": 684,
    "start_time": "2023-02-18T18:31:42.362Z"
   },
   {
    "duration": 66,
    "start_time": "2023-02-18T18:31:43.048Z"
   },
   {
    "duration": 39,
    "start_time": "2023-02-18T18:31:43.116Z"
   },
   {
    "duration": 38,
    "start_time": "2023-02-18T18:31:43.157Z"
   },
   {
    "duration": 13,
    "start_time": "2023-02-18T18:31:43.197Z"
   },
   {
    "duration": 61,
    "start_time": "2023-02-18T18:31:43.212Z"
   },
   {
    "duration": 34,
    "start_time": "2023-02-18T18:31:43.275Z"
   },
   {
    "duration": 8,
    "start_time": "2023-02-18T18:31:43.311Z"
   },
   {
    "duration": 8,
    "start_time": "2023-02-18T18:31:43.322Z"
   },
   {
    "duration": 18,
    "start_time": "2023-02-18T18:31:43.331Z"
   },
   {
    "duration": 32,
    "start_time": "2023-02-18T18:31:43.350Z"
   },
   {
    "duration": 9,
    "start_time": "2023-02-18T18:31:43.385Z"
   },
   {
    "duration": 33,
    "start_time": "2023-02-18T18:31:43.396Z"
   },
   {
    "duration": 16,
    "start_time": "2023-02-18T18:31:43.431Z"
   },
   {
    "duration": 11,
    "start_time": "2023-02-18T18:31:43.449Z"
   },
   {
    "duration": 120,
    "start_time": "2023-02-18T18:31:43.462Z"
   },
   {
    "duration": 159,
    "start_time": "2023-02-18T18:31:43.584Z"
   },
   {
    "duration": 235,
    "start_time": "2023-02-18T18:31:43.745Z"
   },
   {
    "duration": 273,
    "start_time": "2023-02-18T18:31:43.982Z"
   },
   {
    "duration": 299,
    "start_time": "2023-02-18T18:31:44.257Z"
   },
   {
    "duration": 233,
    "start_time": "2023-02-18T18:31:44.557Z"
   },
   {
    "duration": 206,
    "start_time": "2023-02-18T18:31:44.792Z"
   },
   {
    "duration": 240,
    "start_time": "2023-02-18T18:31:45.002Z"
   },
   {
    "duration": 230,
    "start_time": "2023-02-18T18:31:45.244Z"
   },
   {
    "duration": 238,
    "start_time": "2023-02-18T18:31:45.475Z"
   },
   {
    "duration": 228,
    "start_time": "2023-02-18T18:31:45.715Z"
   },
   {
    "duration": 226,
    "start_time": "2023-02-18T18:31:45.946Z"
   },
   {
    "duration": 230,
    "start_time": "2023-02-18T18:31:46.173Z"
   },
   {
    "duration": 436,
    "start_time": "2023-02-18T18:31:46.405Z"
   },
   {
    "duration": 531,
    "start_time": "2023-02-18T18:31:46.843Z"
   },
   {
    "duration": 7,
    "start_time": "2023-02-18T18:31:47.376Z"
   },
   {
    "duration": 314,
    "start_time": "2023-02-18T18:31:47.384Z"
   },
   {
    "duration": 224,
    "start_time": "2023-02-18T18:31:47.702Z"
   },
   {
    "duration": 222,
    "start_time": "2023-02-18T18:31:47.928Z"
   },
   {
    "duration": 177,
    "start_time": "2023-02-18T18:31:48.152Z"
   },
   {
    "duration": 10,
    "start_time": "2023-02-18T18:31:48.330Z"
   },
   {
    "duration": 106,
    "start_time": "2023-02-18T18:31:48.341Z"
   },
   {
    "duration": 4,
    "start_time": "2023-02-18T18:31:48.449Z"
   },
   {
    "duration": 13,
    "start_time": "2023-02-18T18:31:48.455Z"
   },
   {
    "duration": 834,
    "start_time": "2023-02-18T18:31:48.470Z"
   },
   {
    "duration": 5954,
    "start_time": "2023-02-18T18:31:49.306Z"
   },
   {
    "duration": 38198,
    "start_time": "2023-02-18T18:31:55.261Z"
   },
   {
    "duration": 1749,
    "start_time": "2023-02-18T18:32:33.461Z"
   },
   {
    "duration": 13,
    "start_time": "2023-02-18T18:32:35.214Z"
   },
   {
    "duration": 114,
    "start_time": "2023-02-18T18:32:35.230Z"
   },
   {
    "duration": 107,
    "start_time": "2023-02-18T18:32:59.087Z"
   },
   {
    "duration": 98,
    "start_time": "2023-02-18T18:34:59.576Z"
   },
   {
    "duration": 227,
    "start_time": "2023-02-18T18:35:42.817Z"
   },
   {
    "duration": 116,
    "start_time": "2023-02-18T18:37:51.948Z"
   },
   {
    "duration": 144,
    "start_time": "2023-02-18T18:38:55.165Z"
   },
   {
    "duration": 773,
    "start_time": "2023-02-18T18:41:18.091Z"
   },
   {
    "duration": 45,
    "start_time": "2023-02-18T18:42:42.836Z"
   },
   {
    "duration": 758,
    "start_time": "2023-02-18T18:42:51.821Z"
   },
   {
    "duration": 715,
    "start_time": "2023-02-18T18:43:25.850Z"
   },
   {
    "duration": 1797,
    "start_time": "2023-02-18T18:43:40.095Z"
   },
   {
    "duration": 817,
    "start_time": "2023-02-18T18:43:41.894Z"
   },
   {
    "duration": 89,
    "start_time": "2023-02-18T18:43:42.716Z"
   },
   {
    "duration": 26,
    "start_time": "2023-02-18T18:43:42.813Z"
   },
   {
    "duration": 57,
    "start_time": "2023-02-18T18:43:42.841Z"
   },
   {
    "duration": 24,
    "start_time": "2023-02-18T18:43:42.903Z"
   },
   {
    "duration": 99,
    "start_time": "2023-02-18T18:43:42.929Z"
   },
   {
    "duration": 24,
    "start_time": "2023-02-18T18:43:43.031Z"
   },
   {
    "duration": 13,
    "start_time": "2023-02-18T18:43:43.057Z"
   },
   {
    "duration": 40,
    "start_time": "2023-02-18T18:43:43.074Z"
   },
   {
    "duration": 23,
    "start_time": "2023-02-18T18:43:43.118Z"
   },
   {
    "duration": 11,
    "start_time": "2023-02-18T18:43:43.143Z"
   },
   {
    "duration": 10,
    "start_time": "2023-02-18T18:43:43.156Z"
   },
   {
    "duration": 44,
    "start_time": "2023-02-18T18:43:43.168Z"
   },
   {
    "duration": 22,
    "start_time": "2023-02-18T18:43:43.214Z"
   },
   {
    "duration": 14,
    "start_time": "2023-02-18T18:43:43.238Z"
   },
   {
    "duration": 129,
    "start_time": "2023-02-18T18:43:43.254Z"
   },
   {
    "duration": 201,
    "start_time": "2023-02-18T18:43:43.385Z"
   },
   {
    "duration": 278,
    "start_time": "2023-02-18T18:43:43.587Z"
   },
   {
    "duration": 278,
    "start_time": "2023-02-18T18:43:43.867Z"
   },
   {
    "duration": 394,
    "start_time": "2023-02-18T18:43:44.148Z"
   },
   {
    "duration": 279,
    "start_time": "2023-02-18T18:43:44.545Z"
   },
   {
    "duration": 256,
    "start_time": "2023-02-18T18:43:44.826Z"
   },
   {
    "duration": 300,
    "start_time": "2023-02-18T18:43:45.084Z"
   },
   {
    "duration": 282,
    "start_time": "2023-02-18T18:43:45.385Z"
   },
   {
    "duration": 283,
    "start_time": "2023-02-18T18:43:45.669Z"
   },
   {
    "duration": 275,
    "start_time": "2023-02-18T18:43:45.954Z"
   },
   {
    "duration": 288,
    "start_time": "2023-02-18T18:43:46.234Z"
   },
   {
    "duration": 255,
    "start_time": "2023-02-18T18:43:46.524Z"
   },
   {
    "duration": 507,
    "start_time": "2023-02-18T18:43:46.781Z"
   },
   {
    "duration": 526,
    "start_time": "2023-02-18T18:43:47.290Z"
   },
   {
    "duration": 10,
    "start_time": "2023-02-18T18:43:47.818Z"
   },
   {
    "duration": 383,
    "start_time": "2023-02-18T18:43:47.830Z"
   },
   {
    "duration": 245,
    "start_time": "2023-02-18T18:43:48.217Z"
   },
   {
    "duration": 276,
    "start_time": "2023-02-18T18:43:48.465Z"
   },
   {
    "duration": 223,
    "start_time": "2023-02-18T18:43:48.744Z"
   },
   {
    "duration": 10,
    "start_time": "2023-02-18T18:43:48.969Z"
   },
   {
    "duration": 267,
    "start_time": "2023-02-18T18:43:48.981Z"
   },
   {
    "duration": 6,
    "start_time": "2023-02-18T18:43:49.251Z"
   },
   {
    "duration": 15,
    "start_time": "2023-02-18T18:43:49.259Z"
   },
   {
    "duration": 2137,
    "start_time": "2023-02-18T18:43:49.276Z"
   },
   {
    "duration": 6505,
    "start_time": "2023-02-18T18:43:51.415Z"
   },
   {
    "duration": 41221,
    "start_time": "2023-02-18T18:43:57.922Z"
   },
   {
    "duration": 1777,
    "start_time": "2023-02-18T18:44:39.145Z"
   },
   {
    "duration": 13,
    "start_time": "2023-02-18T18:44:40.924Z"
   },
   {
    "duration": 235,
    "start_time": "2023-02-18T18:44:40.940Z"
   },
   {
    "duration": 886,
    "start_time": "2023-02-18T18:45:35.425Z"
   },
   {
    "duration": 1534,
    "start_time": "2023-02-18T18:45:43.560Z"
   },
   {
    "duration": 786,
    "start_time": "2023-02-18T18:45:45.096Z"
   },
   {
    "duration": 84,
    "start_time": "2023-02-18T18:45:45.884Z"
   },
   {
    "duration": 16,
    "start_time": "2023-02-18T18:45:45.970Z"
   },
   {
    "duration": 58,
    "start_time": "2023-02-18T18:45:45.987Z"
   },
   {
    "duration": 16,
    "start_time": "2023-02-18T18:45:46.047Z"
   },
   {
    "duration": 88,
    "start_time": "2023-02-18T18:45:46.065Z"
   },
   {
    "duration": 18,
    "start_time": "2023-02-18T18:45:46.156Z"
   },
   {
    "duration": 8,
    "start_time": "2023-02-18T18:45:46.176Z"
   },
   {
    "duration": 8,
    "start_time": "2023-02-18T18:45:46.202Z"
   },
   {
    "duration": 26,
    "start_time": "2023-02-18T18:45:46.212Z"
   },
   {
    "duration": 9,
    "start_time": "2023-02-18T18:45:46.240Z"
   },
   {
    "duration": 10,
    "start_time": "2023-02-18T18:45:46.251Z"
   },
   {
    "duration": 56,
    "start_time": "2023-02-18T18:45:46.263Z"
   },
   {
    "duration": 19,
    "start_time": "2023-02-18T18:45:46.322Z"
   },
   {
    "duration": 12,
    "start_time": "2023-02-18T18:45:46.343Z"
   },
   {
    "duration": 123,
    "start_time": "2023-02-18T18:45:46.357Z"
   },
   {
    "duration": 183,
    "start_time": "2023-02-18T18:45:46.481Z"
   },
   {
    "duration": 242,
    "start_time": "2023-02-18T18:45:46.666Z"
   },
   {
    "duration": 268,
    "start_time": "2023-02-18T18:45:46.910Z"
   },
   {
    "duration": 340,
    "start_time": "2023-02-18T18:45:47.180Z"
   },
   {
    "duration": 250,
    "start_time": "2023-02-18T18:45:47.522Z"
   },
   {
    "duration": 249,
    "start_time": "2023-02-18T18:45:47.774Z"
   },
   {
    "duration": 255,
    "start_time": "2023-02-18T18:45:48.025Z"
   },
   {
    "duration": 264,
    "start_time": "2023-02-18T18:45:48.282Z"
   },
   {
    "duration": 275,
    "start_time": "2023-02-18T18:45:48.548Z"
   },
   {
    "duration": 260,
    "start_time": "2023-02-18T18:45:48.826Z"
   },
   {
    "duration": 264,
    "start_time": "2023-02-18T18:45:49.089Z"
   },
   {
    "duration": 269,
    "start_time": "2023-02-18T18:45:49.355Z"
   },
   {
    "duration": 448,
    "start_time": "2023-02-18T18:45:49.626Z"
   },
   {
    "duration": 512,
    "start_time": "2023-02-18T18:45:50.076Z"
   },
   {
    "duration": 22,
    "start_time": "2023-02-18T18:45:50.590Z"
   },
   {
    "duration": 370,
    "start_time": "2023-02-18T18:45:50.617Z"
   },
   {
    "duration": 242,
    "start_time": "2023-02-18T18:45:50.988Z"
   },
   {
    "duration": 260,
    "start_time": "2023-02-18T18:45:51.232Z"
   },
   {
    "duration": 224,
    "start_time": "2023-02-18T18:45:51.494Z"
   },
   {
    "duration": 11,
    "start_time": "2023-02-18T18:45:51.721Z"
   },
   {
    "duration": 204,
    "start_time": "2023-02-18T18:45:51.734Z"
   },
   {
    "duration": 5,
    "start_time": "2023-02-18T18:45:51.941Z"
   },
   {
    "duration": 17,
    "start_time": "2023-02-18T18:45:51.949Z"
   },
   {
    "duration": 1940,
    "start_time": "2023-02-18T18:45:51.968Z"
   },
   {
    "duration": 6643,
    "start_time": "2023-02-18T18:45:53.911Z"
   },
   {
    "duration": 41364,
    "start_time": "2023-02-18T18:46:00.556Z"
   },
   {
    "duration": 1765,
    "start_time": "2023-02-18T18:46:41.922Z"
   },
   {
    "duration": 20,
    "start_time": "2023-02-18T18:46:43.689Z"
   },
   {
    "duration": 242,
    "start_time": "2023-02-18T18:48:28.847Z"
   },
   {
    "duration": 1882,
    "start_time": "2023-02-18T18:55:48.732Z"
   },
   {
    "duration": 1918,
    "start_time": "2023-02-18T18:56:21.189Z"
   },
   {
    "duration": 4,
    "start_time": "2023-02-18T18:59:23.172Z"
   },
   {
    "duration": 848,
    "start_time": "2023-02-18T18:59:23.745Z"
   },
   {
    "duration": 1594,
    "start_time": "2023-02-18T18:59:42.398Z"
   },
   {
    "duration": 1000,
    "start_time": "2023-02-18T18:59:43.994Z"
   },
   {
    "duration": 81,
    "start_time": "2023-02-18T18:59:44.996Z"
   },
   {
    "duration": 47,
    "start_time": "2023-02-18T18:59:45.079Z"
   },
   {
    "duration": 67,
    "start_time": "2023-02-18T18:59:45.128Z"
   },
   {
    "duration": 34,
    "start_time": "2023-02-18T18:59:45.197Z"
   },
   {
    "duration": 82,
    "start_time": "2023-02-18T18:59:45.233Z"
   },
   {
    "duration": 25,
    "start_time": "2023-02-18T18:59:45.316Z"
   },
   {
    "duration": 19,
    "start_time": "2023-02-18T18:59:45.343Z"
   },
   {
    "duration": 5,
    "start_time": "2023-02-18T18:59:45.365Z"
   },
   {
    "duration": 16,
    "start_time": "2023-02-18T18:59:45.372Z"
   },
   {
    "duration": 43,
    "start_time": "2023-02-18T18:59:45.390Z"
   },
   {
    "duration": 25,
    "start_time": "2023-02-18T18:59:45.436Z"
   },
   {
    "duration": 30,
    "start_time": "2023-02-18T18:59:45.463Z"
   },
   {
    "duration": 27,
    "start_time": "2023-02-18T18:59:45.494Z"
   },
   {
    "duration": 28,
    "start_time": "2023-02-18T18:59:45.526Z"
   },
   {
    "duration": 119,
    "start_time": "2023-02-18T18:59:45.556Z"
   },
   {
    "duration": 292,
    "start_time": "2023-02-18T18:59:45.677Z"
   },
   {
    "duration": 302,
    "start_time": "2023-02-18T18:59:45.972Z"
   },
   {
    "duration": 286,
    "start_time": "2023-02-18T18:59:46.276Z"
   },
   {
    "duration": 355,
    "start_time": "2023-02-18T18:59:46.564Z"
   },
   {
    "duration": 261,
    "start_time": "2023-02-18T18:59:46.930Z"
   },
   {
    "duration": 297,
    "start_time": "2023-02-18T18:59:47.194Z"
   },
   {
    "duration": 369,
    "start_time": "2023-02-18T18:59:47.492Z"
   },
   {
    "duration": 301,
    "start_time": "2023-02-18T18:59:47.862Z"
   },
   {
    "duration": 326,
    "start_time": "2023-02-18T18:59:48.165Z"
   },
   {
    "duration": 312,
    "start_time": "2023-02-18T18:59:48.493Z"
   },
   {
    "duration": 275,
    "start_time": "2023-02-18T18:59:48.813Z"
   },
   {
    "duration": 309,
    "start_time": "2023-02-18T18:59:49.089Z"
   },
   {
    "duration": 530,
    "start_time": "2023-02-18T18:59:49.400Z"
   },
   {
    "duration": 649,
    "start_time": "2023-02-18T18:59:49.936Z"
   },
   {
    "duration": 32,
    "start_time": "2023-02-18T18:59:50.587Z"
   },
   {
    "duration": 429,
    "start_time": "2023-02-18T18:59:50.632Z"
   },
   {
    "duration": 309,
    "start_time": "2023-02-18T18:59:51.063Z"
   },
   {
    "duration": 317,
    "start_time": "2023-02-18T18:59:51.375Z"
   },
   {
    "duration": 241,
    "start_time": "2023-02-18T18:59:51.695Z"
   },
   {
    "duration": 26,
    "start_time": "2023-02-18T18:59:51.941Z"
   },
   {
    "duration": 320,
    "start_time": "2023-02-18T18:59:51.968Z"
   },
   {
    "duration": 17,
    "start_time": "2023-02-18T18:59:52.291Z"
   },
   {
    "duration": 53,
    "start_time": "2023-02-18T18:59:52.312Z"
   },
   {
    "duration": 2879,
    "start_time": "2023-02-18T18:59:52.368Z"
   },
   {
    "duration": 9876,
    "start_time": "2023-02-18T18:59:55.248Z"
   },
   {
    "duration": 0,
    "start_time": "2023-02-18T19:00:05.132Z"
   },
   {
    "duration": 0,
    "start_time": "2023-02-18T19:00:05.134Z"
   },
   {
    "duration": 0,
    "start_time": "2023-02-18T19:00:05.136Z"
   },
   {
    "duration": 225622,
    "start_time": "2023-02-18T19:00:11.770Z"
   },
   {
    "duration": 52272014,
    "start_time": "2023-02-18T19:06:07.545Z"
   },
   {
    "duration": 234019,
    "start_time": "2023-02-19T09:42:40.342Z"
   },
   {
    "duration": 53,
    "start_time": "2023-02-19T09:46:34.363Z"
   },
   {
    "duration": 266,
    "start_time": "2023-02-19T09:47:12.755Z"
   },
   {
    "duration": 34,
    "start_time": "2023-02-19T09:47:22.275Z"
   },
   {
    "duration": 20,
    "start_time": "2023-02-19T09:47:24.195Z"
   },
   {
    "duration": 4,
    "start_time": "2023-02-19T09:49:56.523Z"
   },
   {
    "duration": 14,
    "start_time": "2023-02-19T09:53:49.629Z"
   },
   {
    "duration": 11,
    "start_time": "2023-02-19T09:53:52.630Z"
   },
   {
    "duration": 1582,
    "start_time": "2023-02-19T09:59:12.976Z"
   },
   {
    "duration": 1383,
    "start_time": "2023-02-19T09:59:14.560Z"
   },
   {
    "duration": 84,
    "start_time": "2023-02-19T09:59:15.945Z"
   },
   {
    "duration": 18,
    "start_time": "2023-02-19T09:59:16.032Z"
   },
   {
    "duration": 41,
    "start_time": "2023-02-19T09:59:16.051Z"
   },
   {
    "duration": 32,
    "start_time": "2023-02-19T09:59:16.094Z"
   },
   {
    "duration": 62,
    "start_time": "2023-02-19T09:59:16.130Z"
   },
   {
    "duration": 27,
    "start_time": "2023-02-19T09:59:16.194Z"
   },
   {
    "duration": 14,
    "start_time": "2023-02-19T09:59:16.225Z"
   },
   {
    "duration": 5,
    "start_time": "2023-02-19T09:59:16.242Z"
   },
   {
    "duration": 14,
    "start_time": "2023-02-19T09:59:16.248Z"
   },
   {
    "duration": 7,
    "start_time": "2023-02-19T09:59:16.263Z"
   },
   {
    "duration": 8,
    "start_time": "2023-02-19T09:59:16.271Z"
   },
   {
    "duration": 56,
    "start_time": "2023-02-19T09:59:16.281Z"
   },
   {
    "duration": 19,
    "start_time": "2023-02-19T09:59:16.338Z"
   },
   {
    "duration": 13,
    "start_time": "2023-02-19T09:59:16.359Z"
   },
   {
    "duration": 133,
    "start_time": "2023-02-19T09:59:16.373Z"
   },
   {
    "duration": 254,
    "start_time": "2023-02-19T09:59:16.511Z"
   },
   {
    "duration": 259,
    "start_time": "2023-02-19T09:59:16.767Z"
   },
   {
    "duration": 241,
    "start_time": "2023-02-19T09:59:17.031Z"
   },
   {
    "duration": 322,
    "start_time": "2023-02-19T09:59:17.274Z"
   },
   {
    "duration": 262,
    "start_time": "2023-02-19T09:59:17.602Z"
   },
   {
    "duration": 257,
    "start_time": "2023-02-19T09:59:17.866Z"
   },
   {
    "duration": 252,
    "start_time": "2023-02-19T09:59:18.124Z"
   },
   {
    "duration": 263,
    "start_time": "2023-02-19T09:59:18.378Z"
   },
   {
    "duration": 281,
    "start_time": "2023-02-19T09:59:18.643Z"
   },
   {
    "duration": 246,
    "start_time": "2023-02-19T09:59:18.926Z"
   },
   {
    "duration": 255,
    "start_time": "2023-02-19T09:59:19.176Z"
   },
   {
    "duration": 258,
    "start_time": "2023-02-19T09:59:19.433Z"
   },
   {
    "duration": 490,
    "start_time": "2023-02-19T09:59:19.692Z"
   },
   {
    "duration": 506,
    "start_time": "2023-02-19T09:59:20.184Z"
   },
   {
    "duration": 14,
    "start_time": "2023-02-19T09:59:20.691Z"
   },
   {
    "duration": 359,
    "start_time": "2023-02-19T09:59:20.710Z"
   },
   {
    "duration": 237,
    "start_time": "2023-02-19T09:59:21.071Z"
   },
   {
    "duration": 247,
    "start_time": "2023-02-19T09:59:21.311Z"
   },
   {
    "duration": 210,
    "start_time": "2023-02-19T09:59:21.560Z"
   },
   {
    "duration": 13,
    "start_time": "2023-02-19T09:59:21.772Z"
   },
   {
    "duration": 260,
    "start_time": "2023-02-19T09:59:21.786Z"
   },
   {
    "duration": 5,
    "start_time": "2023-02-19T09:59:22.048Z"
   },
   {
    "duration": 15,
    "start_time": "2023-02-19T09:59:22.054Z"
   },
   {
    "duration": 2232,
    "start_time": "2023-02-19T09:59:22.071Z"
   },
   {
    "duration": 34036,
    "start_time": "2023-02-19T09:59:24.309Z"
   },
   {
    "duration": 227770,
    "start_time": "2023-02-19T09:59:58.347Z"
   },
   {
    "duration": 601,
    "start_time": "2023-02-19T10:03:46.126Z"
   },
   {
    "duration": 178,
    "start_time": "2023-02-19T10:03:46.729Z"
   },
   {
    "duration": 34,
    "start_time": "2023-02-19T10:03:46.911Z"
   },
   {
    "duration": 3178021,
    "start_time": "2023-02-19T10:05:41.461Z"
   },
   {
    "duration": 8030,
    "start_time": "2023-02-19T11:01:30.637Z"
   },
   {
    "duration": 237409,
    "start_time": "2023-02-19T11:01:43.893Z"
   },
   {
    "duration": 1542,
    "start_time": "2023-02-19T11:14:09.633Z"
   },
   {
    "duration": 768,
    "start_time": "2023-02-19T11:14:11.177Z"
   },
   {
    "duration": 98,
    "start_time": "2023-02-19T11:14:11.946Z"
   },
   {
    "duration": 28,
    "start_time": "2023-02-19T11:14:12.046Z"
   },
   {
    "duration": 83,
    "start_time": "2023-02-19T11:14:12.078Z"
   },
   {
    "duration": 15,
    "start_time": "2023-02-19T11:14:12.163Z"
   },
   {
    "duration": 94,
    "start_time": "2023-02-19T11:14:12.180Z"
   },
   {
    "duration": 27,
    "start_time": "2023-02-19T11:14:12.276Z"
   },
   {
    "duration": 12,
    "start_time": "2023-02-19T11:14:12.315Z"
   },
   {
    "duration": 20,
    "start_time": "2023-02-19T11:14:12.329Z"
   },
   {
    "duration": 15,
    "start_time": "2023-02-19T11:14:12.351Z"
   },
   {
    "duration": 8,
    "start_time": "2023-02-19T11:14:12.368Z"
   },
   {
    "duration": 9,
    "start_time": "2023-02-19T11:14:12.378Z"
   },
   {
    "duration": 44,
    "start_time": "2023-02-19T11:14:12.391Z"
   },
   {
    "duration": 25,
    "start_time": "2023-02-19T11:14:12.438Z"
   },
   {
    "duration": 12,
    "start_time": "2023-02-19T11:14:12.465Z"
   },
   {
    "duration": 125,
    "start_time": "2023-02-19T11:14:12.479Z"
   },
   {
    "duration": 268,
    "start_time": "2023-02-19T11:14:12.606Z"
   },
   {
    "duration": 278,
    "start_time": "2023-02-19T11:14:12.876Z"
   },
   {
    "duration": 291,
    "start_time": "2023-02-19T11:14:13.157Z"
   },
   {
    "duration": 334,
    "start_time": "2023-02-19T11:14:13.450Z"
   },
   {
    "duration": 290,
    "start_time": "2023-02-19T11:14:13.786Z"
   },
   {
    "duration": 321,
    "start_time": "2023-02-19T11:14:14.078Z"
   },
   {
    "duration": 321,
    "start_time": "2023-02-19T11:14:14.404Z"
   },
   {
    "duration": 304,
    "start_time": "2023-02-19T11:14:14.727Z"
   },
   {
    "duration": 299,
    "start_time": "2023-02-19T11:14:15.033Z"
   },
   {
    "duration": 263,
    "start_time": "2023-02-19T11:14:15.334Z"
   },
   {
    "duration": 272,
    "start_time": "2023-02-19T11:14:15.598Z"
   },
   {
    "duration": 296,
    "start_time": "2023-02-19T11:14:15.872Z"
   },
   {
    "duration": 541,
    "start_time": "2023-02-19T11:14:16.170Z"
   },
   {
    "duration": 581,
    "start_time": "2023-02-19T11:14:16.713Z"
   },
   {
    "duration": 27,
    "start_time": "2023-02-19T11:14:17.303Z"
   },
   {
    "duration": 380,
    "start_time": "2023-02-19T11:14:17.335Z"
   },
   {
    "duration": 252,
    "start_time": "2023-02-19T11:14:17.725Z"
   },
   {
    "duration": 255,
    "start_time": "2023-02-19T11:14:17.979Z"
   },
   {
    "duration": 208,
    "start_time": "2023-02-19T11:14:18.236Z"
   },
   {
    "duration": 11,
    "start_time": "2023-02-19T11:14:18.446Z"
   },
   {
    "duration": 231,
    "start_time": "2023-02-19T11:14:18.459Z"
   },
   {
    "duration": 5,
    "start_time": "2023-02-19T11:14:18.692Z"
   },
   {
    "duration": 38,
    "start_time": "2023-02-19T11:14:18.709Z"
   },
   {
    "duration": 1492,
    "start_time": "2023-02-19T11:14:18.751Z"
   },
   {
    "duration": 34598,
    "start_time": "2023-02-19T11:14:20.248Z"
   },
   {
    "duration": 238035,
    "start_time": "2023-02-19T11:14:54.848Z"
   },
   {
    "duration": 1133,
    "start_time": "2023-02-19T11:18:52.885Z"
   },
   {
    "duration": 190,
    "start_time": "2023-02-19T11:18:54.024Z"
   },
   {
    "duration": 42,
    "start_time": "2023-02-19T11:18:54.219Z"
   },
   {
    "duration": 1632,
    "start_time": "2023-02-20T07:09:25.574Z"
   },
   {
    "duration": 2143,
    "start_time": "2023-02-20T07:09:27.208Z"
   },
   {
    "duration": 64,
    "start_time": "2023-02-20T07:09:29.356Z"
   },
   {
    "duration": 23,
    "start_time": "2023-02-20T07:09:29.422Z"
   },
   {
    "duration": 40,
    "start_time": "2023-02-20T07:09:29.448Z"
   },
   {
    "duration": 16,
    "start_time": "2023-02-20T07:09:29.490Z"
   },
   {
    "duration": 64,
    "start_time": "2023-02-20T07:09:29.527Z"
   },
   {
    "duration": 17,
    "start_time": "2023-02-20T07:09:29.593Z"
   },
   {
    "duration": 16,
    "start_time": "2023-02-20T07:09:29.632Z"
   },
   {
    "duration": 21,
    "start_time": "2023-02-20T07:09:29.650Z"
   },
   {
    "duration": 15,
    "start_time": "2023-02-20T07:09:29.672Z"
   },
   {
    "duration": 8,
    "start_time": "2023-02-20T07:09:29.688Z"
   },
   {
    "duration": 18,
    "start_time": "2023-02-20T07:09:29.698Z"
   },
   {
    "duration": 55,
    "start_time": "2023-02-20T07:09:29.718Z"
   },
   {
    "duration": 17,
    "start_time": "2023-02-20T07:09:29.774Z"
   },
   {
    "duration": 12,
    "start_time": "2023-02-20T07:09:29.792Z"
   },
   {
    "duration": 107,
    "start_time": "2023-02-20T07:09:29.805Z"
   },
   {
    "duration": 262,
    "start_time": "2023-02-20T07:09:29.913Z"
   },
   {
    "duration": 303,
    "start_time": "2023-02-20T07:09:30.178Z"
   },
   {
    "duration": 304,
    "start_time": "2023-02-20T07:09:30.483Z"
   },
   {
    "duration": 303,
    "start_time": "2023-02-20T07:09:30.788Z"
   },
   {
    "duration": 240,
    "start_time": "2023-02-20T07:09:31.092Z"
   },
   {
    "duration": 225,
    "start_time": "2023-02-20T07:09:31.335Z"
   },
   {
    "duration": 244,
    "start_time": "2023-02-20T07:09:31.561Z"
   },
   {
    "duration": 262,
    "start_time": "2023-02-20T07:09:31.806Z"
   },
   {
    "duration": 256,
    "start_time": "2023-02-20T07:09:32.070Z"
   },
   {
    "duration": 243,
    "start_time": "2023-02-20T07:09:32.331Z"
   },
   {
    "duration": 246,
    "start_time": "2023-02-20T07:09:32.576Z"
   },
   {
    "duration": 270,
    "start_time": "2023-02-20T07:09:32.824Z"
   },
   {
    "duration": 478,
    "start_time": "2023-02-20T07:09:33.096Z"
   },
   {
    "duration": 648,
    "start_time": "2023-02-20T07:09:33.576Z"
   },
   {
    "duration": 13,
    "start_time": "2023-02-20T07:09:34.227Z"
   },
   {
    "duration": 414,
    "start_time": "2023-02-20T07:09:34.245Z"
   },
   {
    "duration": 304,
    "start_time": "2023-02-20T07:09:34.661Z"
   },
   {
    "duration": 263,
    "start_time": "2023-02-20T07:09:34.967Z"
   },
   {
    "duration": 214,
    "start_time": "2023-02-20T07:09:35.232Z"
   },
   {
    "duration": 14,
    "start_time": "2023-02-20T07:09:35.449Z"
   },
   {
    "duration": 216,
    "start_time": "2023-02-20T07:09:35.465Z"
   },
   {
    "duration": 4,
    "start_time": "2023-02-20T07:09:35.683Z"
   },
   {
    "duration": 18,
    "start_time": "2023-02-20T07:09:35.689Z"
   },
   {
    "duration": 840,
    "start_time": "2023-02-20T07:09:35.709Z"
   },
   {
    "duration": 33609,
    "start_time": "2023-02-20T07:09:36.551Z"
   },
   {
    "duration": 220121,
    "start_time": "2023-02-20T07:10:10.162Z"
   },
   {
    "duration": 245,
    "start_time": "2023-02-20T07:13:50.285Z"
   },
   {
    "duration": 101,
    "start_time": "2023-02-20T07:13:50.532Z"
   },
   {
    "duration": 103,
    "start_time": "2023-02-20T07:13:50.635Z"
   },
   {
    "duration": 316,
    "start_time": "2023-02-20T07:40:10.247Z"
   },
   {
    "duration": 292,
    "start_time": "2023-02-20T07:40:34.229Z"
   },
   {
    "duration": 277,
    "start_time": "2023-02-20T07:40:48.716Z"
   },
   {
    "duration": 271,
    "start_time": "2023-02-20T07:40:56.676Z"
   },
   {
    "duration": 263,
    "start_time": "2023-02-20T07:41:04.558Z"
   },
   {
    "duration": 271,
    "start_time": "2023-02-20T07:41:18.855Z"
   },
   {
    "duration": 349,
    "start_time": "2023-02-20T07:41:24.892Z"
   },
   {
    "duration": 259,
    "start_time": "2023-02-20T07:41:29.658Z"
   },
   {
    "duration": 264,
    "start_time": "2023-02-20T07:41:37.356Z"
   },
   {
    "duration": 274,
    "start_time": "2023-02-20T07:41:55.171Z"
   },
   {
    "duration": 261,
    "start_time": "2023-02-20T07:42:00.923Z"
   },
   {
    "duration": 296,
    "start_time": "2023-02-20T07:42:05.654Z"
   },
   {
    "duration": 260,
    "start_time": "2023-02-20T07:42:21.373Z"
   },
   {
    "duration": 271,
    "start_time": "2023-02-20T07:44:51.178Z"
   },
   {
    "duration": 276,
    "start_time": "2023-02-20T07:45:22.403Z"
   },
   {
    "duration": 318,
    "start_time": "2023-02-20T07:45:50.715Z"
   },
   {
    "duration": 230,
    "start_time": "2023-02-20T07:50:36.953Z"
   },
   {
    "duration": 7576,
    "start_time": "2023-02-20T07:52:03.526Z"
   },
   {
    "duration": 1493,
    "start_time": "2023-02-20T07:54:06.784Z"
   },
   {
    "duration": 724,
    "start_time": "2023-02-20T07:54:08.279Z"
   },
   {
    "duration": 79,
    "start_time": "2023-02-20T07:54:09.004Z"
   },
   {
    "duration": 18,
    "start_time": "2023-02-20T07:54:09.085Z"
   },
   {
    "duration": 65,
    "start_time": "2023-02-20T07:54:09.105Z"
   },
   {
    "duration": 13,
    "start_time": "2023-02-20T07:54:09.172Z"
   },
   {
    "duration": 93,
    "start_time": "2023-02-20T07:54:09.187Z"
   },
   {
    "duration": 17,
    "start_time": "2023-02-20T07:54:09.281Z"
   },
   {
    "duration": 39,
    "start_time": "2023-02-20T07:54:09.300Z"
   },
   {
    "duration": 19,
    "start_time": "2023-02-20T07:54:09.343Z"
   },
   {
    "duration": 15,
    "start_time": "2023-02-20T07:54:09.364Z"
   },
   {
    "duration": 11,
    "start_time": "2023-02-20T07:54:09.381Z"
   },
   {
    "duration": 18,
    "start_time": "2023-02-20T07:54:09.394Z"
   },
   {
    "duration": 45,
    "start_time": "2023-02-20T07:54:09.414Z"
   },
   {
    "duration": 22,
    "start_time": "2023-02-20T07:54:09.461Z"
   },
   {
    "duration": 12,
    "start_time": "2023-02-20T07:54:09.485Z"
   },
   {
    "duration": 111,
    "start_time": "2023-02-20T07:54:09.499Z"
   },
   {
    "duration": 282,
    "start_time": "2023-02-20T07:54:09.611Z"
   },
   {
    "duration": 271,
    "start_time": "2023-02-20T07:54:09.894Z"
   },
   {
    "duration": 306,
    "start_time": "2023-02-20T07:54:10.166Z"
   },
   {
    "duration": 386,
    "start_time": "2023-02-20T07:54:10.474Z"
   },
   {
    "duration": 256,
    "start_time": "2023-02-20T07:54:10.862Z"
   },
   {
    "duration": 268,
    "start_time": "2023-02-20T07:54:11.120Z"
   },
   {
    "duration": 302,
    "start_time": "2023-02-20T07:54:11.391Z"
   },
   {
    "duration": 316,
    "start_time": "2023-02-20T07:54:11.695Z"
   },
   {
    "duration": 298,
    "start_time": "2023-02-20T07:54:12.013Z"
   },
   {
    "duration": 288,
    "start_time": "2023-02-20T07:54:12.312Z"
   },
   {
    "duration": 285,
    "start_time": "2023-02-20T07:54:12.606Z"
   },
   {
    "duration": 272,
    "start_time": "2023-02-20T07:54:12.893Z"
   },
   {
    "duration": 540,
    "start_time": "2023-02-20T07:54:13.167Z"
   },
   {
    "duration": 514,
    "start_time": "2023-02-20T07:54:13.709Z"
   },
   {
    "duration": 18,
    "start_time": "2023-02-20T07:54:14.225Z"
   },
   {
    "duration": 363,
    "start_time": "2023-02-20T07:54:14.244Z"
   },
   {
    "duration": 293,
    "start_time": "2023-02-20T07:54:14.609Z"
   },
   {
    "duration": 273,
    "start_time": "2023-02-20T07:54:14.904Z"
   },
   {
    "duration": 217,
    "start_time": "2023-02-20T07:54:15.179Z"
   },
   {
    "duration": 12,
    "start_time": "2023-02-20T07:54:15.397Z"
   },
   {
    "duration": 232,
    "start_time": "2023-02-20T07:54:15.411Z"
   },
   {
    "duration": 7,
    "start_time": "2023-02-20T07:54:15.648Z"
   },
   {
    "duration": 22,
    "start_time": "2023-02-20T07:54:15.658Z"
   },
   {
    "duration": 2372,
    "start_time": "2023-02-20T07:54:15.682Z"
   },
   {
    "duration": 7465,
    "start_time": "2023-02-20T07:54:18.060Z"
   },
   {
    "duration": 126169,
    "start_time": "2023-02-20T07:54:25.526Z"
   },
   {
    "duration": 0,
    "start_time": "2023-02-20T07:56:31.697Z"
   },
   {
    "duration": 0,
    "start_time": "2023-02-20T07:56:31.698Z"
   },
   {
    "duration": 0,
    "start_time": "2023-02-20T07:56:31.699Z"
   },
   {
    "duration": 1533,
    "start_time": "2023-02-20T07:56:35.168Z"
   },
   {
    "duration": 835,
    "start_time": "2023-02-20T07:56:36.704Z"
   },
   {
    "duration": 68,
    "start_time": "2023-02-20T07:56:37.542Z"
   },
   {
    "duration": 31,
    "start_time": "2023-02-20T07:56:37.612Z"
   },
   {
    "duration": 47,
    "start_time": "2023-02-20T07:56:37.650Z"
   },
   {
    "duration": 17,
    "start_time": "2023-02-20T07:56:37.698Z"
   },
   {
    "duration": 83,
    "start_time": "2023-02-20T07:56:37.717Z"
   },
   {
    "duration": 17,
    "start_time": "2023-02-20T07:56:37.803Z"
   },
   {
    "duration": 25,
    "start_time": "2023-02-20T07:56:37.827Z"
   },
   {
    "duration": 22,
    "start_time": "2023-02-20T07:56:37.856Z"
   },
   {
    "duration": 14,
    "start_time": "2023-02-20T07:56:37.880Z"
   },
   {
    "duration": 10,
    "start_time": "2023-02-20T07:56:37.896Z"
   },
   {
    "duration": 9,
    "start_time": "2023-02-20T07:56:37.910Z"
   },
   {
    "duration": 47,
    "start_time": "2023-02-20T07:56:37.921Z"
   },
   {
    "duration": 17,
    "start_time": "2023-02-20T07:56:37.971Z"
   },
   {
    "duration": 13,
    "start_time": "2023-02-20T07:56:37.990Z"
   },
   {
    "duration": 132,
    "start_time": "2023-02-20T07:56:38.004Z"
   },
   {
    "duration": 278,
    "start_time": "2023-02-20T07:56:38.137Z"
   },
   {
    "duration": 275,
    "start_time": "2023-02-20T07:56:38.416Z"
   },
   {
    "duration": 268,
    "start_time": "2023-02-20T07:56:38.693Z"
   },
   {
    "duration": 324,
    "start_time": "2023-02-20T07:56:38.963Z"
   },
   {
    "duration": 272,
    "start_time": "2023-02-20T07:56:39.289Z"
   },
   {
    "duration": 250,
    "start_time": "2023-02-20T07:56:39.563Z"
   },
   {
    "duration": 269,
    "start_time": "2023-02-20T07:56:39.815Z"
   },
   {
    "duration": 320,
    "start_time": "2023-02-20T07:56:40.086Z"
   },
   {
    "duration": 334,
    "start_time": "2023-02-20T07:56:40.408Z"
   },
   {
    "duration": 269,
    "start_time": "2023-02-20T07:56:40.744Z"
   },
   {
    "duration": 268,
    "start_time": "2023-02-20T07:56:41.014Z"
   },
   {
    "duration": 278,
    "start_time": "2023-02-20T07:56:41.284Z"
   },
   {
    "duration": 547,
    "start_time": "2023-02-20T07:56:41.564Z"
   },
   {
    "duration": 528,
    "start_time": "2023-02-20T07:56:42.112Z"
   },
   {
    "duration": 11,
    "start_time": "2023-02-20T07:56:42.649Z"
   },
   {
    "duration": 386,
    "start_time": "2023-02-20T07:56:42.662Z"
   },
   {
    "duration": 249,
    "start_time": "2023-02-20T07:56:43.052Z"
   },
   {
    "duration": 295,
    "start_time": "2023-02-20T07:56:43.303Z"
   },
   {
    "duration": 216,
    "start_time": "2023-02-20T07:56:43.599Z"
   },
   {
    "duration": 21,
    "start_time": "2023-02-20T07:56:43.816Z"
   },
   {
    "duration": 233,
    "start_time": "2023-02-20T07:56:43.841Z"
   },
   {
    "duration": 5,
    "start_time": "2023-02-20T07:56:44.075Z"
   },
   {
    "duration": 13,
    "start_time": "2023-02-20T07:56:44.085Z"
   },
   {
    "duration": 2130,
    "start_time": "2023-02-20T07:56:44.100Z"
   },
   {
    "duration": 7667,
    "start_time": "2023-02-20T07:56:46.231Z"
   },
   {
    "duration": 226522,
    "start_time": "2023-02-20T07:56:53.899Z"
   },
   {
    "duration": 601,
    "start_time": "2023-02-20T08:00:40.429Z"
   },
   {
    "duration": 101,
    "start_time": "2023-02-20T08:00:41.055Z"
   },
   {
    "duration": 112,
    "start_time": "2023-02-20T08:00:41.163Z"
   }
  ],
  "kernelspec": {
   "display_name": "Python 3 (ipykernel)",
   "language": "python",
   "name": "python3"
  },
  "language_info": {
   "codemirror_mode": {
    "name": "ipython",
    "version": 3
   },
   "file_extension": ".py",
   "mimetype": "text/x-python",
   "name": "python",
   "nbconvert_exporter": "python",
   "pygments_lexer": "ipython3",
   "version": "3.9.12"
  },
  "toc": {
   "base_numbering": 1,
   "nav_menu": {},
   "number_sections": true,
   "sideBar": true,
   "skip_h1_title": true,
   "title_cell": "Содержание",
   "title_sidebar": "Contents",
   "toc_cell": true,
   "toc_position": {
    "height": "calc(100% - 180px)",
    "left": "10px",
    "top": "150px",
    "width": "248.993px"
   },
   "toc_section_display": true,
   "toc_window_display": true
  }
 },
 "nbformat": 4,
 "nbformat_minor": 2
}
